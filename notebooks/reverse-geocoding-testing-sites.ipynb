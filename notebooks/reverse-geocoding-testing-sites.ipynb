{
 "cells": [
  {
   "cell_type": "code",
   "execution_count": 1,
   "metadata": {},
   "outputs": [],
   "source": [
    "# Libraries for data munging and reverse geocoding\n",
    "import pandas as pd\n",
    "import numpy as np\n",
    "from geopy.geocoders import ArcGIS\n",
    "from geopy.extra.rate_limiter import RateLimiter"
   ]
  },
  {
   "cell_type": "code",
   "execution_count": 11,
   "metadata": {},
   "outputs": [
    {
     "name": "stdout",
     "output_type": "stream",
     "text": [
      "(487, 4)\n"
     ]
    },
    {
     "data": {
      "text/html": [
       "<div>\n",
       "<style scoped>\n",
       "    .dataframe tbody tr th:only-of-type {\n",
       "        vertical-align: middle;\n",
       "    }\n",
       "\n",
       "    .dataframe tbody tr th {\n",
       "        vertical-align: top;\n",
       "    }\n",
       "\n",
       "    .dataframe thead th {\n",
       "        text-align: right;\n",
       "    }\n",
       "</style>\n",
       "<table border=\"1\" class=\"dataframe\">\n",
       "  <thead>\n",
       "    <tr style=\"text-align: right;\">\n",
       "      <th></th>\n",
       "      <th>Name</th>\n",
       "      <th>URL</th>\n",
       "      <th>Latitude</th>\n",
       "      <th>Longitude</th>\n",
       "    </tr>\n",
       "  </thead>\n",
       "  <tbody>\n",
       "    <tr>\n",
       "      <th>0</th>\n",
       "      <td>Collaborative Effort of Health Care Providers</td>\n",
       "      <td>https://www.adn.com/alaska-news/anchorage/2020...</td>\n",
       "      <td>61.182870</td>\n",
       "      <td>-149.837269</td>\n",
       "    </tr>\n",
       "    <tr>\n",
       "      <th>1</th>\n",
       "      <td>Alaska Healthcare</td>\n",
       "      <td>https://www.tomsguide.com/news/drive-through-c...</td>\n",
       "      <td>61.182620</td>\n",
       "      <td>-149.838060</td>\n",
       "    </tr>\n",
       "    <tr>\n",
       "      <th>2</th>\n",
       "      <td>Fairbanks\\' Foundation Health Partners</td>\n",
       "      <td>http://www.newsminer.com/alerts/fairbanks-laun...</td>\n",
       "      <td>64.839980</td>\n",
       "      <td>-147.714320</td>\n",
       "    </tr>\n",
       "    <tr>\n",
       "      <th>3</th>\n",
       "      <td>Fairbanks Memorial Hospital</td>\n",
       "      <td>https://www.adn.com/alaska-news/2020/03/25/som...</td>\n",
       "      <td>64.832649</td>\n",
       "      <td>-147.741562</td>\n",
       "    </tr>\n",
       "    <tr>\n",
       "      <th>4</th>\n",
       "      <td>Church of the Highlands- Grant\\'s Mill</td>\n",
       "      <td>https://www.google.com/amp/s/www.wvtm13.com/am...</td>\n",
       "      <td>33.516999</td>\n",
       "      <td>-86.655847</td>\n",
       "    </tr>\n",
       "  </tbody>\n",
       "</table>\n",
       "</div>"
      ],
      "text/plain": [
       "                                              Name  \\\n",
       "0   Collaborative Effort of Health Care Providers    \n",
       "1                               Alaska Healthcare    \n",
       "2          Fairbanks\\' Foundation Health Partners    \n",
       "3                     Fairbanks Memorial Hospital    \n",
       "4          Church of the Highlands- Grant\\'s Mill    \n",
       "\n",
       "                                                 URL   Latitude   Longitude  \n",
       "0  https://www.adn.com/alaska-news/anchorage/2020...  61.182870 -149.837269  \n",
       "1  https://www.tomsguide.com/news/drive-through-c...  61.182620 -149.838060  \n",
       "2  http://www.newsminer.com/alerts/fairbanks-laun...  64.839980 -147.714320  \n",
       "3  https://www.adn.com/alaska-news/2020/03/25/som...  64.832649 -147.741562  \n",
       "4  https://www.google.com/amp/s/www.wvtm13.com/am...  33.516999  -86.655847  "
      ]
     },
     "execution_count": 11,
     "metadata": {},
     "output_type": "execute_result"
    }
   ],
   "source": [
    "# Ingest testing data set\n",
    "data_url = \"https://raw.githubusercontent.com/ncov19-us/ds/staging/drive_thru_testing_locations/us-drive-thru-testing-locations.csv\"\n",
    "df = pd.read_csv(data_url, index_col=0)\n",
    "print(df.shape)\n",
    "df.head()"
   ]
  },
  {
   "cell_type": "code",
   "execution_count": 12,
   "metadata": {},
   "outputs": [],
   "source": [
    "# Create geocoder and impose rate limit to keep providers happy (not sure if it works lol)\n",
    "geolocator = ArcGIS(user_agent=\"drive-thru-testing-reverse-geocoding\")\n",
    "geocode = RateLimiter(geolocator.geocode, min_delay_seconds=1)"
   ]
  },
  {
   "cell_type": "code",
   "execution_count": 13,
   "metadata": {},
   "outputs": [
    {
     "data": {
      "text/html": [
       "<div>\n",
       "<style scoped>\n",
       "    .dataframe tbody tr th:only-of-type {\n",
       "        vertical-align: middle;\n",
       "    }\n",
       "\n",
       "    .dataframe tbody tr th {\n",
       "        vertical-align: top;\n",
       "    }\n",
       "\n",
       "    .dataframe thead th {\n",
       "        text-align: right;\n",
       "    }\n",
       "</style>\n",
       "<table border=\"1\" class=\"dataframe\">\n",
       "  <thead>\n",
       "    <tr style=\"text-align: right;\">\n",
       "      <th></th>\n",
       "      <th>Name</th>\n",
       "      <th>URL</th>\n",
       "      <th>Latitude</th>\n",
       "      <th>Longitude</th>\n",
       "      <th>Coordinates</th>\n",
       "    </tr>\n",
       "  </thead>\n",
       "  <tbody>\n",
       "    <tr>\n",
       "      <th>0</th>\n",
       "      <td>Collaborative Effort of Health Care Providers</td>\n",
       "      <td>https://www.adn.com/alaska-news/anchorage/2020...</td>\n",
       "      <td>61.182870</td>\n",
       "      <td>-149.837269</td>\n",
       "      <td>(61.1828699, -149.837269)</td>\n",
       "    </tr>\n",
       "    <tr>\n",
       "      <th>1</th>\n",
       "      <td>Alaska Healthcare</td>\n",
       "      <td>https://www.tomsguide.com/news/drive-through-c...</td>\n",
       "      <td>61.182620</td>\n",
       "      <td>-149.838060</td>\n",
       "      <td>(61.18261999999999, -149.83806)</td>\n",
       "    </tr>\n",
       "    <tr>\n",
       "      <th>2</th>\n",
       "      <td>Fairbanks\\' Foundation Health Partners</td>\n",
       "      <td>http://www.newsminer.com/alerts/fairbanks-laun...</td>\n",
       "      <td>64.839980</td>\n",
       "      <td>-147.714320</td>\n",
       "      <td>(64.83998000000001, -147.71432)</td>\n",
       "    </tr>\n",
       "    <tr>\n",
       "      <th>3</th>\n",
       "      <td>Fairbanks Memorial Hospital</td>\n",
       "      <td>https://www.adn.com/alaska-news/2020/03/25/som...</td>\n",
       "      <td>64.832649</td>\n",
       "      <td>-147.741562</td>\n",
       "      <td>(64.832649, -147.74156200000004)</td>\n",
       "    </tr>\n",
       "    <tr>\n",
       "      <th>4</th>\n",
       "      <td>Church of the Highlands- Grant\\'s Mill</td>\n",
       "      <td>https://www.google.com/amp/s/www.wvtm13.com/am...</td>\n",
       "      <td>33.516999</td>\n",
       "      <td>-86.655847</td>\n",
       "      <td>(33.51699910000001, -86.6558468)</td>\n",
       "    </tr>\n",
       "  </tbody>\n",
       "</table>\n",
       "</div>"
      ],
      "text/plain": [
       "                                              Name  \\\n",
       "0   Collaborative Effort of Health Care Providers    \n",
       "1                               Alaska Healthcare    \n",
       "2          Fairbanks\\' Foundation Health Partners    \n",
       "3                     Fairbanks Memorial Hospital    \n",
       "4          Church of the Highlands- Grant\\'s Mill    \n",
       "\n",
       "                                                 URL   Latitude   Longitude  \\\n",
       "0  https://www.adn.com/alaska-news/anchorage/2020...  61.182870 -149.837269   \n",
       "1  https://www.tomsguide.com/news/drive-through-c...  61.182620 -149.838060   \n",
       "2  http://www.newsminer.com/alerts/fairbanks-laun...  64.839980 -147.714320   \n",
       "3  https://www.adn.com/alaska-news/2020/03/25/som...  64.832649 -147.741562   \n",
       "4  https://www.google.com/amp/s/www.wvtm13.com/am...  33.516999  -86.655847   \n",
       "\n",
       "                        Coordinates  \n",
       "0         (61.1828699, -149.837269)  \n",
       "1   (61.18261999999999, -149.83806)  \n",
       "2   (64.83998000000001, -147.71432)  \n",
       "3  (64.832649, -147.74156200000004)  \n",
       "4  (33.51699910000001, -86.6558468)  "
      ]
     },
     "execution_count": 13,
     "metadata": {},
     "output_type": "execute_result"
    }
   ],
   "source": [
    "# Create Coordinates series (tuple of latitude and longitude values)\n",
    "df[\"Coordinates\"] = list(zip(*[df[\"Latitude\"], df[\"Longitude\"]]))\n",
    "df[\"Coordinates\"] = df[\"Coordinates\"].astype(str)\n",
    "df.head()"
   ]
  },
  {
   "cell_type": "code",
   "execution_count": 14,
   "metadata": {},
   "outputs": [],
   "source": [
    "# Define a convenience function to clean and reverse geocode coordinates cell contents, returns address\n",
    "def reverse_geocode(cell_contents):\n",
    "    cellcontents = cell_contents.replace(\"(\",\"\").replace(\")\",\"\")\n",
    "    location = geolocator.reverse(cellcontents)\n",
    "    return location.address"
   ]
  },
  {
   "cell_type": "code",
   "execution_count": 14,
   "metadata": {},
   "outputs": [
    {
     "data": {
      "text/plain": [
       "0    4115 Lake Otis Pkwy, Anchorage, Alaska 99508, USA\n",
       "1        2304 E 42nd Ave, Anchorage, Alaska 99508, USA\n",
       "2           895 Noble St, Fairbanks, Alaska 99701, USA\n",
       "3       1651 W Cowles St, Fairbanks, Alaska 99701, USA\n",
       "4     316 Highlands Ln, Birmingham, Alabama 35210, USA\n",
       "5    4301 W Markham St, Little Rock, Arkansas 72205...\n",
       "6           500 S 40th St, Rogers, Arkansas 72758, USA\n",
       "7        2302 College Ave, Conway, Arkansas 72034, USA\n",
       "8        5797 E Mayo Blvd, Phoenix, Arizona 85054, USA\n",
       "9    13400 E Shea Blvd, Scottsdale, Arizona 85259, USA\n",
       "Name: Coordinates, dtype: object"
      ]
     },
     "execution_count": 14,
     "metadata": {},
     "output_type": "execute_result"
    }
   ],
   "source": [
    "# Test on first ten rows of dataframe\n",
    "df.iloc[:10][\"Coordinates\"].apply(reverse_geocode)"
   ]
  },
  {
   "cell_type": "code",
   "execution_count": 15,
   "metadata": {},
   "outputs": [],
   "source": [
    "# Apply to whole dataframe and save results as new column\n",
    "df[\"Addresses\"] = df[\"Coordinates\"].apply(reverse_geocode)"
   ]
  },
  {
   "cell_type": "code",
   "execution_count": 16,
   "metadata": {},
   "outputs": [
    {
     "data": {
      "text/html": [
       "<div>\n",
       "<style scoped>\n",
       "    .dataframe tbody tr th:only-of-type {\n",
       "        vertical-align: middle;\n",
       "    }\n",
       "\n",
       "    .dataframe tbody tr th {\n",
       "        vertical-align: top;\n",
       "    }\n",
       "\n",
       "    .dataframe thead th {\n",
       "        text-align: right;\n",
       "    }\n",
       "</style>\n",
       "<table border=\"1\" class=\"dataframe\">\n",
       "  <thead>\n",
       "    <tr style=\"text-align: right;\">\n",
       "      <th></th>\n",
       "      <th>Name</th>\n",
       "      <th>URL</th>\n",
       "      <th>Latitude</th>\n",
       "      <th>Longitude</th>\n",
       "      <th>Coordinates</th>\n",
       "      <th>Addresses</th>\n",
       "    </tr>\n",
       "  </thead>\n",
       "  <tbody>\n",
       "    <tr>\n",
       "      <th>0</th>\n",
       "      <td>Collaborative Effort of Health Care Providers</td>\n",
       "      <td>https://www.adn.com/alaska-news/anchorage/2020...</td>\n",
       "      <td>61.182870</td>\n",
       "      <td>-149.837269</td>\n",
       "      <td>(61.1828699, -149.837269)</td>\n",
       "      <td>4115 Lake Otis Pkwy, Anchorage, Alaska 99508, USA</td>\n",
       "    </tr>\n",
       "    <tr>\n",
       "      <th>1</th>\n",
       "      <td>Alaska Healthcare</td>\n",
       "      <td>https://www.tomsguide.com/news/drive-through-c...</td>\n",
       "      <td>61.182620</td>\n",
       "      <td>-149.838060</td>\n",
       "      <td>(61.18261999999999, -149.83806)</td>\n",
       "      <td>2304 E 42nd Ave, Anchorage, Alaska 99508, USA</td>\n",
       "    </tr>\n",
       "    <tr>\n",
       "      <th>2</th>\n",
       "      <td>Fairbanks\\' Foundation Health Partners</td>\n",
       "      <td>http://www.newsminer.com/alerts/fairbanks-laun...</td>\n",
       "      <td>64.839980</td>\n",
       "      <td>-147.714320</td>\n",
       "      <td>(64.83998000000001, -147.71432)</td>\n",
       "      <td>895 Noble St, Fairbanks, Alaska 99701, USA</td>\n",
       "    </tr>\n",
       "    <tr>\n",
       "      <th>3</th>\n",
       "      <td>Fairbanks Memorial Hospital</td>\n",
       "      <td>https://www.adn.com/alaska-news/2020/03/25/som...</td>\n",
       "      <td>64.832649</td>\n",
       "      <td>-147.741562</td>\n",
       "      <td>(64.832649, -147.74156200000004)</td>\n",
       "      <td>1651 W Cowles St, Fairbanks, Alaska 99701, USA</td>\n",
       "    </tr>\n",
       "    <tr>\n",
       "      <th>4</th>\n",
       "      <td>Church of the Highlands- Grant\\'s Mill</td>\n",
       "      <td>https://www.google.com/amp/s/www.wvtm13.com/am...</td>\n",
       "      <td>33.516999</td>\n",
       "      <td>-86.655847</td>\n",
       "      <td>(33.51699910000001, -86.6558468)</td>\n",
       "      <td>316 Highlands Ln, Birmingham, Alabama 35210, USA</td>\n",
       "    </tr>\n",
       "  </tbody>\n",
       "</table>\n",
       "</div>"
      ],
      "text/plain": [
       "                                              Name  \\\n",
       "0   Collaborative Effort of Health Care Providers    \n",
       "1                               Alaska Healthcare    \n",
       "2          Fairbanks\\' Foundation Health Partners    \n",
       "3                     Fairbanks Memorial Hospital    \n",
       "4          Church of the Highlands- Grant\\'s Mill    \n",
       "\n",
       "                                                 URL   Latitude   Longitude  \\\n",
       "0  https://www.adn.com/alaska-news/anchorage/2020...  61.182870 -149.837269   \n",
       "1  https://www.tomsguide.com/news/drive-through-c...  61.182620 -149.838060   \n",
       "2  http://www.newsminer.com/alerts/fairbanks-laun...  64.839980 -147.714320   \n",
       "3  https://www.adn.com/alaska-news/2020/03/25/som...  64.832649 -147.741562   \n",
       "4  https://www.google.com/amp/s/www.wvtm13.com/am...  33.516999  -86.655847   \n",
       "\n",
       "                        Coordinates  \\\n",
       "0         (61.1828699, -149.837269)   \n",
       "1   (61.18261999999999, -149.83806)   \n",
       "2   (64.83998000000001, -147.71432)   \n",
       "3  (64.832649, -147.74156200000004)   \n",
       "4  (33.51699910000001, -86.6558468)   \n",
       "\n",
       "                                           Addresses  \n",
       "0  4115 Lake Otis Pkwy, Anchorage, Alaska 99508, USA  \n",
       "1      2304 E 42nd Ave, Anchorage, Alaska 99508, USA  \n",
       "2         895 Noble St, Fairbanks, Alaska 99701, USA  \n",
       "3     1651 W Cowles St, Fairbanks, Alaska 99701, USA  \n",
       "4   316 Highlands Ln, Birmingham, Alabama 35210, USA  "
      ]
     },
     "execution_count": 16,
     "metadata": {},
     "output_type": "execute_result"
    }
   ],
   "source": [
    "# Display results\n",
    "df.head()"
   ]
  },
  {
   "cell_type": "code",
   "execution_count": 17,
   "metadata": {},
   "outputs": [
    {
     "data": {
      "text/plain": [
       "0"
      ]
     },
     "execution_count": 17,
     "metadata": {},
     "output_type": "execute_result"
    }
   ],
   "source": [
    "# Check for no data values\n",
    "df[\"Addresses\"].isna().sum()"
   ]
  },
  {
   "cell_type": "code",
   "execution_count": null,
   "metadata": {},
   "outputs": [],
   "source": []
  },
  {
   "cell_type": "code",
   "execution_count": null,
   "metadata": {},
   "outputs": [],
   "source": []
  },
  {
   "cell_type": "code",
   "execution_count": 19,
   "metadata": {},
   "outputs": [
    {
     "data": {
      "text/html": [
       "<div>\n",
       "<style scoped>\n",
       "    .dataframe tbody tr th:only-of-type {\n",
       "        vertical-align: middle;\n",
       "    }\n",
       "\n",
       "    .dataframe tbody tr th {\n",
       "        vertical-align: top;\n",
       "    }\n",
       "\n",
       "    .dataframe thead th {\n",
       "        text-align: right;\n",
       "    }\n",
       "</style>\n",
       "<table border=\"1\" class=\"dataframe\">\n",
       "  <thead>\n",
       "    <tr style=\"text-align: right;\">\n",
       "      <th></th>\n",
       "      <th>Name</th>\n",
       "      <th>URL</th>\n",
       "      <th>Latitude</th>\n",
       "      <th>Longitude</th>\n",
       "      <th>Coordinates</th>\n",
       "      <th>State</th>\n",
       "      <th>City</th>\n",
       "      <th>Street Address</th>\n",
       "    </tr>\n",
       "  </thead>\n",
       "  <tbody>\n",
       "    <tr>\n",
       "      <th>0</th>\n",
       "      <td>Collaborative Effort of Health Care Providers</td>\n",
       "      <td>https://www.adn.com/alaska-news/anchorage/2020...</td>\n",
       "      <td>61.182870</td>\n",
       "      <td>-149.837269</td>\n",
       "      <td>(61.1828699, -149.837269)</td>\n",
       "      <td>Alaska</td>\n",
       "      <td>Anchorage</td>\n",
       "      <td>4115 Lake Otis Pkwy</td>\n",
       "    </tr>\n",
       "    <tr>\n",
       "      <th>1</th>\n",
       "      <td>Alaska Healthcare</td>\n",
       "      <td>https://www.tomsguide.com/news/drive-through-c...</td>\n",
       "      <td>61.182620</td>\n",
       "      <td>-149.838060</td>\n",
       "      <td>(61.18261999999999, -149.83806)</td>\n",
       "      <td>Alaska</td>\n",
       "      <td>Anchorage</td>\n",
       "      <td>2304 E 42nd Ave</td>\n",
       "    </tr>\n",
       "    <tr>\n",
       "      <th>2</th>\n",
       "      <td>Fairbanks\\' Foundation Health Partners</td>\n",
       "      <td>http://www.newsminer.com/alerts/fairbanks-laun...</td>\n",
       "      <td>64.839980</td>\n",
       "      <td>-147.714320</td>\n",
       "      <td>(64.83998000000001, -147.71432)</td>\n",
       "      <td>Alaska</td>\n",
       "      <td>Fairbanks</td>\n",
       "      <td>895 Noble St</td>\n",
       "    </tr>\n",
       "    <tr>\n",
       "      <th>3</th>\n",
       "      <td>Fairbanks Memorial Hospital</td>\n",
       "      <td>https://www.adn.com/alaska-news/2020/03/25/som...</td>\n",
       "      <td>64.832649</td>\n",
       "      <td>-147.741562</td>\n",
       "      <td>(64.832649, -147.74156200000004)</td>\n",
       "      <td>Alaska</td>\n",
       "      <td>Fairbanks</td>\n",
       "      <td>1651 W Cowles St</td>\n",
       "    </tr>\n",
       "    <tr>\n",
       "      <th>4</th>\n",
       "      <td>Church of the Highlands- Grant\\'s Mill</td>\n",
       "      <td>https://www.google.com/amp/s/www.wvtm13.com/am...</td>\n",
       "      <td>33.516999</td>\n",
       "      <td>-86.655847</td>\n",
       "      <td>(33.51699910000001, -86.6558468)</td>\n",
       "      <td>Alabama</td>\n",
       "      <td>Birmingham</td>\n",
       "      <td>316 Highlands Ln</td>\n",
       "    </tr>\n",
       "  </tbody>\n",
       "</table>\n",
       "</div>"
      ],
      "text/plain": [
       "                                              Name  \\\n",
       "0   Collaborative Effort of Health Care Providers    \n",
       "1                               Alaska Healthcare    \n",
       "2          Fairbanks\\' Foundation Health Partners    \n",
       "3                     Fairbanks Memorial Hospital    \n",
       "4          Church of the Highlands- Grant\\'s Mill    \n",
       "\n",
       "                                                 URL   Latitude   Longitude  \\\n",
       "0  https://www.adn.com/alaska-news/anchorage/2020...  61.182870 -149.837269   \n",
       "1  https://www.tomsguide.com/news/drive-through-c...  61.182620 -149.838060   \n",
       "2  http://www.newsminer.com/alerts/fairbanks-laun...  64.839980 -147.714320   \n",
       "3  https://www.adn.com/alaska-news/2020/03/25/som...  64.832649 -147.741562   \n",
       "4  https://www.google.com/amp/s/www.wvtm13.com/am...  33.516999  -86.655847   \n",
       "\n",
       "                        Coordinates      State         City  \\\n",
       "0         (61.1828699, -149.837269)    Alaska     Anchorage   \n",
       "1   (61.18261999999999, -149.83806)    Alaska     Anchorage   \n",
       "2   (64.83998000000001, -147.71432)    Alaska     Fairbanks   \n",
       "3  (64.832649, -147.74156200000004)    Alaska     Fairbanks   \n",
       "4  (33.51699910000001, -86.6558468)   Alabama    Birmingham   \n",
       "\n",
       "        Street Address  \n",
       "0  4115 Lake Otis Pkwy  \n",
       "1      2304 E 42nd Ave  \n",
       "2         895 Noble St  \n",
       "3     1651 W Cowles St  \n",
       "4     316 Highlands Ln  "
      ]
     },
     "execution_count": 19,
     "metadata": {},
     "output_type": "execute_result"
    }
   ],
   "source": [
    "df_copy = df.copy()\n",
    "\n",
    "df_copy[\"Addresses\"] = df_copy[\"Addresses\"].str.replace(\", USA\", \"\")\n",
    "\n",
    "df_copy[\"State\"] = df_copy[\"Addresses\"].str.split(\",\").str[-1].str.replace('\\d+', '')\n",
    "\n",
    "df_copy[\"City\"] = df_copy[\"Addresses\"].str.split(\",\").str[-2]\n",
    "\n",
    "df_copy[\"Street Address\"] = df_copy[\"Addresses\"].str.split(\",\").str[-3]\n",
    "\n",
    "df_copy.drop([\"Addresses\"], axis=1, inplace=True)\n",
    "\n",
    "df_copy.head()"
   ]
  },
  {
   "cell_type": "code",
   "execution_count": 34,
   "metadata": {},
   "outputs": [
    {
     "data": {
      "text/plain": [
       "10    88\n",
       "9     66\n",
       "13    57\n",
       "15    50\n",
       "14    50\n",
       "11    44\n",
       "12    37\n",
       "16    32\n",
       "6     22\n",
       "8     19\n",
       "7     18\n",
       "22     4\n",
       "Name: State, dtype: int64"
      ]
     },
     "execution_count": 34,
     "metadata": {},
     "output_type": "execute_result"
    }
   ],
   "source": [
    "df_copy[\"State\"].str.len().value_counts(dropna=False)"
   ]
  },
  {
   "cell_type": "code",
   "execution_count": 35,
   "metadata": {},
   "outputs": [
    {
     "data": {
      "text/plain": [
       "11    85\n",
       "8     77\n",
       "10    68\n",
       "9     62\n",
       "7     46\n",
       "12    43\n",
       "13    35\n",
       "6     30\n",
       "14    17\n",
       "17     7\n",
       "16     6\n",
       "15     6\n",
       "5      5\n",
       "Name: City, dtype: int64"
      ]
     },
     "execution_count": 35,
     "metadata": {},
     "output_type": "execute_result"
    }
   ],
   "source": [
    "df_copy[\"City\"].str.len().value_counts(dropna=False)"
   ]
  },
  {
   "cell_type": "code",
   "execution_count": 36,
   "metadata": {},
   "outputs": [
    {
     "data": {
      "text/plain": [
       "15    58\n",
       "16    52\n",
       "13    49\n",
       "14    47\n",
       "18    41\n",
       "19    35\n",
       "12    32\n",
       "17    31\n",
       "0     28\n",
       "22    20\n",
       "11    15\n",
       "21    14\n",
       "20    13\n",
       "10    12\n",
       "23    10\n",
       "8      9\n",
       "24     5\n",
       "7      4\n",
       "6      2\n",
       "25     2\n",
       "26     2\n",
       "9      2\n",
       "3      1\n",
       "27     1\n",
       "28     1\n",
       "36     1\n",
       "Name: Street Address, dtype: int64"
      ]
     },
     "execution_count": 36,
     "metadata": {},
     "output_type": "execute_result"
    }
   ],
   "source": [
    "df_copy[\"Street Address\"].str.len().value_counts(dropna=False)"
   ]
  },
  {
   "cell_type": "code",
   "execution_count": 37,
   "metadata": {},
   "outputs": [],
   "source": [
    "# Save to csv file\n",
    "df_copy.to_csv(\"../drive_thru_testing_locations/locations-with-addresses.csv\", index=0)"
   ]
  }
 ],
 "metadata": {
  "kernelspec": {
   "display_name": "Python 3",
   "language": "python",
   "name": "python3"
  },
  "language_info": {
   "codemirror_mode": {
    "name": "ipython",
    "version": 3
   },
   "file_extension": ".py",
   "mimetype": "text/x-python",
   "name": "python",
   "nbconvert_exporter": "python",
   "pygments_lexer": "ipython3",
   "version": "3.7.6"
  }
 },
 "nbformat": 4,
 "nbformat_minor": 4
}
