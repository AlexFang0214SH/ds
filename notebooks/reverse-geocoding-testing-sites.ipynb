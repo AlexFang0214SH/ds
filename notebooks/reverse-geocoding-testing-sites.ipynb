{
 "cells": [
  {
   "cell_type": "code",
   "execution_count": 34,
   "metadata": {},
   "outputs": [],
   "source": [
    "# Libraries for data munging and reverse geocoding\n",
    "import pandas as pd\n",
    "import numpy as np\n",
    "from geopy.geocoders import ArcGIS\n",
    "from geopy.extra.rate_limiter import RateLimiter"
   ]
  },
  {
   "cell_type": "code",
   "execution_count": 95,
   "metadata": {},
   "outputs": [
    {
     "name": "stdout",
     "output_type": "stream",
     "text": [
      "(447, 4)\n"
     ]
    },
    {
     "data": {
      "text/html": [
       "<div>\n",
       "<style scoped>\n",
       "    .dataframe tbody tr th:only-of-type {\n",
       "        vertical-align: middle;\n",
       "    }\n",
       "\n",
       "    .dataframe tbody tr th {\n",
       "        vertical-align: top;\n",
       "    }\n",
       "\n",
       "    .dataframe thead th {\n",
       "        text-align: right;\n",
       "    }\n",
       "</style>\n",
       "<table border=\"1\" class=\"dataframe\">\n",
       "  <thead>\n",
       "    <tr style=\"text-align: right;\">\n",
       "      <th></th>\n",
       "      <th>Name</th>\n",
       "      <th>URL</th>\n",
       "      <th>Latitude</th>\n",
       "      <th>Longitude</th>\n",
       "    </tr>\n",
       "  </thead>\n",
       "  <tbody>\n",
       "    <tr>\n",
       "      <th>0</th>\n",
       "      <td>Collaborative Effort of Health Care Providers</td>\n",
       "      <td>https://www.adn.com/alaska-news/anchorage/2020...</td>\n",
       "      <td>61.182870</td>\n",
       "      <td>-149.837269</td>\n",
       "    </tr>\n",
       "    <tr>\n",
       "      <th>1</th>\n",
       "      <td>Alaska Healthcare</td>\n",
       "      <td>https://www.tomsguide.com/news/drive-through-c...</td>\n",
       "      <td>61.182620</td>\n",
       "      <td>-149.838060</td>\n",
       "    </tr>\n",
       "    <tr>\n",
       "      <th>2</th>\n",
       "      <td>Fairbanks\\' Foundation Health Partners</td>\n",
       "      <td>http://www.newsminer.com/alerts/fairbanks-laun...</td>\n",
       "      <td>64.839980</td>\n",
       "      <td>-147.714320</td>\n",
       "    </tr>\n",
       "    <tr>\n",
       "      <th>3</th>\n",
       "      <td>Fairbanks Memorial Hospital</td>\n",
       "      <td>https://www.adn.com/alaska-news/2020/03/25/som...</td>\n",
       "      <td>64.832649</td>\n",
       "      <td>-147.741562</td>\n",
       "    </tr>\n",
       "    <tr>\n",
       "      <th>4</th>\n",
       "      <td>Church of the Highlands- Grant\\'s Mill</td>\n",
       "      <td>https://www.google.com/amp/s/www.wvtm13.com/am...</td>\n",
       "      <td>33.516999</td>\n",
       "      <td>-86.655847</td>\n",
       "    </tr>\n",
       "  </tbody>\n",
       "</table>\n",
       "</div>"
      ],
      "text/plain": [
       "                                              Name  \\\n",
       "0   Collaborative Effort of Health Care Providers    \n",
       "1                               Alaska Healthcare    \n",
       "2          Fairbanks\\' Foundation Health Partners    \n",
       "3                     Fairbanks Memorial Hospital    \n",
       "4          Church of the Highlands- Grant\\'s Mill    \n",
       "\n",
       "                                                 URL   Latitude   Longitude  \n",
       "0  https://www.adn.com/alaska-news/anchorage/2020...  61.182870 -149.837269  \n",
       "1  https://www.tomsguide.com/news/drive-through-c...  61.182620 -149.838060  \n",
       "2  http://www.newsminer.com/alerts/fairbanks-laun...  64.839980 -147.714320  \n",
       "3  https://www.adn.com/alaska-news/2020/03/25/som...  64.832649 -147.741562  \n",
       "4  https://www.google.com/amp/s/www.wvtm13.com/am...  33.516999  -86.655847  "
      ]
     },
     "execution_count": 95,
     "metadata": {},
     "output_type": "execute_result"
    }
   ],
   "source": [
    "# Ingest testing data set\n",
    "data_url = \"https://raw.githubusercontent.com/ncov19-us/ds/master/drive_thru_testing_locations/us-drive-thru-testing-locations.csv\"\n",
    "df = pd.read_csv(data_url, index_col=0)\n",
    "print(df.shape)\n",
    "df.head()"
   ]
  },
  {
   "cell_type": "code",
   "execution_count": 35,
   "metadata": {},
   "outputs": [],
   "source": [
    "# Create geocoder and impose rate limit to keep providers happy (not sure if it works lol)\n",
    "geolocator = Nominatim(user_agent=\"drive-thru-testing-reverse-geocoding\")\n",
    "geocode = RateLimiter(geolocator.geocode, min_delay_seconds=0.25)"
   ]
  },
  {
   "cell_type": "code",
   "execution_count": 75,
   "metadata": {},
   "outputs": [
    {
     "data": {
      "text/html": [
       "<div>\n",
       "<style scoped>\n",
       "    .dataframe tbody tr th:only-of-type {\n",
       "        vertical-align: middle;\n",
       "    }\n",
       "\n",
       "    .dataframe tbody tr th {\n",
       "        vertical-align: top;\n",
       "    }\n",
       "\n",
       "    .dataframe thead th {\n",
       "        text-align: right;\n",
       "    }\n",
       "</style>\n",
       "<table border=\"1\" class=\"dataframe\">\n",
       "  <thead>\n",
       "    <tr style=\"text-align: right;\">\n",
       "      <th></th>\n",
       "      <th>Name</th>\n",
       "      <th>URL</th>\n",
       "      <th>Latitude</th>\n",
       "      <th>Longitude</th>\n",
       "      <th>Coordinates</th>\n",
       "    </tr>\n",
       "  </thead>\n",
       "  <tbody>\n",
       "    <tr>\n",
       "      <th>0</th>\n",
       "      <td>Collaborative Effort of Health Care Providers</td>\n",
       "      <td>https://www.adn.com/alaska-news/anchorage/2020...</td>\n",
       "      <td>61.182870</td>\n",
       "      <td>-149.837269</td>\n",
       "      <td>(61.1828699, -149.837269)</td>\n",
       "    </tr>\n",
       "    <tr>\n",
       "      <th>1</th>\n",
       "      <td>Alaska Healthcare</td>\n",
       "      <td>https://www.tomsguide.com/news/drive-through-c...</td>\n",
       "      <td>61.182620</td>\n",
       "      <td>-149.838060</td>\n",
       "      <td>(61.18261999999999, -149.83806)</td>\n",
       "    </tr>\n",
       "    <tr>\n",
       "      <th>2</th>\n",
       "      <td>Fairbanks\\' Foundation Health Partners</td>\n",
       "      <td>http://www.newsminer.com/alerts/fairbanks-laun...</td>\n",
       "      <td>64.839980</td>\n",
       "      <td>-147.714320</td>\n",
       "      <td>(64.83998000000001, -147.71432)</td>\n",
       "    </tr>\n",
       "    <tr>\n",
       "      <th>3</th>\n",
       "      <td>Fairbanks Memorial Hospital</td>\n",
       "      <td>https://www.adn.com/alaska-news/2020/03/25/som...</td>\n",
       "      <td>64.832649</td>\n",
       "      <td>-147.741562</td>\n",
       "      <td>(64.832649, -147.74156200000004)</td>\n",
       "    </tr>\n",
       "    <tr>\n",
       "      <th>4</th>\n",
       "      <td>Church of the Highlands- Grant\\'s Mill</td>\n",
       "      <td>https://www.google.com/amp/s/www.wvtm13.com/am...</td>\n",
       "      <td>33.516999</td>\n",
       "      <td>-86.655847</td>\n",
       "      <td>(33.51699910000001, -86.6558468)</td>\n",
       "    </tr>\n",
       "  </tbody>\n",
       "</table>\n",
       "</div>"
      ],
      "text/plain": [
       "                                              Name  \\\n",
       "0   Collaborative Effort of Health Care Providers    \n",
       "1                               Alaska Healthcare    \n",
       "2          Fairbanks\\' Foundation Health Partners    \n",
       "3                     Fairbanks Memorial Hospital    \n",
       "4          Church of the Highlands- Grant\\'s Mill    \n",
       "\n",
       "                                                 URL   Latitude   Longitude  \\\n",
       "0  https://www.adn.com/alaska-news/anchorage/2020...  61.182870 -149.837269   \n",
       "1  https://www.tomsguide.com/news/drive-through-c...  61.182620 -149.838060   \n",
       "2  http://www.newsminer.com/alerts/fairbanks-laun...  64.839980 -147.714320   \n",
       "3  https://www.adn.com/alaska-news/2020/03/25/som...  64.832649 -147.741562   \n",
       "4  https://www.google.com/amp/s/www.wvtm13.com/am...  33.516999  -86.655847   \n",
       "\n",
       "                        Coordinates  \n",
       "0         (61.1828699, -149.837269)  \n",
       "1   (61.18261999999999, -149.83806)  \n",
       "2   (64.83998000000001, -147.71432)  \n",
       "3  (64.832649, -147.74156200000004)  \n",
       "4  (33.51699910000001, -86.6558468)  "
      ]
     },
     "execution_count": 75,
     "metadata": {},
     "output_type": "execute_result"
    }
   ],
   "source": [
    "# Create Coordinates series (tuple of latitude and longitude values)\n",
    "df[\"Coordinates\"] = list(zip(*[df[\"Latitude\"], df[\"Longitude\"]]))\n",
    "df[\"Coordinates\"] = df[\"Coordinates\"].astype(str)\n",
    "df.head()"
   ]
  },
  {
   "cell_type": "code",
   "execution_count": 83,
   "metadata": {},
   "outputs": [],
   "source": [
    "# Define a convenience function to clean and reverse geocode coordinates cell contents, returns address\n",
    "def reverse_geocode(cell_contents):\n",
    "    cellcontents = cell_contents.replace(\"(\",\"\").replace(\")\",\"\")\n",
    "    location = geolocator.reverse(cellcontents)\n",
    "    return location.address"
   ]
  },
  {
   "cell_type": "code",
   "execution_count": 85,
   "metadata": {},
   "outputs": [
    {
     "data": {
      "text/plain": [
       "0    2343, East 42nd Avenue, Rogers Park, Green Acr...\n",
       "1    2301, East 42nd Avenue, Rogers Park, Green Acr...\n",
       "2    Westmark Fairbanks Hotel, Noble Street, South ...\n",
       "3    Fairbanks Memorial Hospital, 1650, Cowles Stre...\n",
       "4    Church of the Highlands, 5901, Overton Road, M...\n",
       "5    University of Arkansas Medical Sciences Medica...\n",
       "6    898, South 40th Street, Apple Spur, Rogers, Be...\n",
       "7    Conway Regional Medical Center, 2302, College ...\n",
       "8    East Mayo Boulevard, Oakhurst, Phoenix, Marico...\n",
       "9    Mayo Clinic Hospital Scottsdale Campus, 13400,...\n",
       "Name: Coordinates, dtype: object"
      ]
     },
     "execution_count": 85,
     "metadata": {},
     "output_type": "execute_result"
    }
   ],
   "source": [
    "# Test on first ten rows of dataframe\n",
    "df.iloc[:10][\"Coordinates\"].apply(reverse_geocode)"
   ]
  },
  {
   "cell_type": "code",
   "execution_count": 86,
   "metadata": {},
   "outputs": [],
   "source": [
    "# Apply to whole dataframe and save results as new column\n",
    "df[\"Addresses\"] = df[\"Coordinates\"].apply(reverse_geocode)"
   ]
  },
  {
   "cell_type": "code",
   "execution_count": 87,
   "metadata": {},
   "outputs": [
    {
     "data": {
      "text/html": [
       "<div>\n",
       "<style scoped>\n",
       "    .dataframe tbody tr th:only-of-type {\n",
       "        vertical-align: middle;\n",
       "    }\n",
       "\n",
       "    .dataframe tbody tr th {\n",
       "        vertical-align: top;\n",
       "    }\n",
       "\n",
       "    .dataframe thead th {\n",
       "        text-align: right;\n",
       "    }\n",
       "</style>\n",
       "<table border=\"1\" class=\"dataframe\">\n",
       "  <thead>\n",
       "    <tr style=\"text-align: right;\">\n",
       "      <th></th>\n",
       "      <th>Name</th>\n",
       "      <th>URL</th>\n",
       "      <th>Latitude</th>\n",
       "      <th>Longitude</th>\n",
       "      <th>Coordinates</th>\n",
       "      <th>Addresses</th>\n",
       "    </tr>\n",
       "  </thead>\n",
       "  <tbody>\n",
       "    <tr>\n",
       "      <th>0</th>\n",
       "      <td>Collaborative Effort of Health Care Providers</td>\n",
       "      <td>https://www.adn.com/alaska-news/anchorage/2020...</td>\n",
       "      <td>61.182870</td>\n",
       "      <td>-149.837269</td>\n",
       "      <td>(61.1828699, -149.837269)</td>\n",
       "      <td>2343, East 42nd Avenue, Rogers Park, Green Acr...</td>\n",
       "    </tr>\n",
       "    <tr>\n",
       "      <th>1</th>\n",
       "      <td>Alaska Healthcare</td>\n",
       "      <td>https://www.tomsguide.com/news/drive-through-c...</td>\n",
       "      <td>61.182620</td>\n",
       "      <td>-149.838060</td>\n",
       "      <td>(61.18261999999999, -149.83806)</td>\n",
       "      <td>2301, East 42nd Avenue, Rogers Park, Green Acr...</td>\n",
       "    </tr>\n",
       "    <tr>\n",
       "      <th>2</th>\n",
       "      <td>Fairbanks\\' Foundation Health Partners</td>\n",
       "      <td>http://www.newsminer.com/alerts/fairbanks-laun...</td>\n",
       "      <td>64.839980</td>\n",
       "      <td>-147.714320</td>\n",
       "      <td>(64.83998000000001, -147.71432)</td>\n",
       "      <td>Westmark Fairbanks Hotel, Noble Street, South ...</td>\n",
       "    </tr>\n",
       "    <tr>\n",
       "      <th>3</th>\n",
       "      <td>Fairbanks Memorial Hospital</td>\n",
       "      <td>https://www.adn.com/alaska-news/2020/03/25/som...</td>\n",
       "      <td>64.832649</td>\n",
       "      <td>-147.741562</td>\n",
       "      <td>(64.832649, -147.74156200000004)</td>\n",
       "      <td>Fairbanks Memorial Hospital, 1650, Cowles Stre...</td>\n",
       "    </tr>\n",
       "    <tr>\n",
       "      <th>4</th>\n",
       "      <td>Church of the Highlands- Grant\\'s Mill</td>\n",
       "      <td>https://www.google.com/amp/s/www.wvtm13.com/am...</td>\n",
       "      <td>33.516999</td>\n",
       "      <td>-86.655847</td>\n",
       "      <td>(33.51699910000001, -86.6558468)</td>\n",
       "      <td>Church of the Highlands, 5901, Overton Road, M...</td>\n",
       "    </tr>\n",
       "  </tbody>\n",
       "</table>\n",
       "</div>"
      ],
      "text/plain": [
       "                                              Name  \\\n",
       "0   Collaborative Effort of Health Care Providers    \n",
       "1                               Alaska Healthcare    \n",
       "2          Fairbanks\\' Foundation Health Partners    \n",
       "3                     Fairbanks Memorial Hospital    \n",
       "4          Church of the Highlands- Grant\\'s Mill    \n",
       "\n",
       "                                                 URL   Latitude   Longitude  \\\n",
       "0  https://www.adn.com/alaska-news/anchorage/2020...  61.182870 -149.837269   \n",
       "1  https://www.tomsguide.com/news/drive-through-c...  61.182620 -149.838060   \n",
       "2  http://www.newsminer.com/alerts/fairbanks-laun...  64.839980 -147.714320   \n",
       "3  https://www.adn.com/alaska-news/2020/03/25/som...  64.832649 -147.741562   \n",
       "4  https://www.google.com/amp/s/www.wvtm13.com/am...  33.516999  -86.655847   \n",
       "\n",
       "                        Coordinates  \\\n",
       "0         (61.1828699, -149.837269)   \n",
       "1   (61.18261999999999, -149.83806)   \n",
       "2   (64.83998000000001, -147.71432)   \n",
       "3  (64.832649, -147.74156200000004)   \n",
       "4  (33.51699910000001, -86.6558468)   \n",
       "\n",
       "                                           Addresses  \n",
       "0  2343, East 42nd Avenue, Rogers Park, Green Acr...  \n",
       "1  2301, East 42nd Avenue, Rogers Park, Green Acr...  \n",
       "2  Westmark Fairbanks Hotel, Noble Street, South ...  \n",
       "3  Fairbanks Memorial Hospital, 1650, Cowles Stre...  \n",
       "4  Church of the Highlands, 5901, Overton Road, M...  "
      ]
     },
     "execution_count": 87,
     "metadata": {},
     "output_type": "execute_result"
    }
   ],
   "source": [
    "# Display results\n",
    "df.head()"
   ]
  },
  {
   "cell_type": "code",
   "execution_count": 88,
   "metadata": {},
   "outputs": [
    {
     "data": {
      "text/plain": [
       "0"
      ]
     },
     "execution_count": 88,
     "metadata": {},
     "output_type": "execute_result"
    }
   ],
   "source": [
    "# Check for no data values\n",
    "df[\"Addresses\"].isna().sum()"
   ]
  },
  {
   "cell_type": "code",
   "execution_count": 94,
   "metadata": {},
   "outputs": [],
   "source": [
    "# Save to csv file\n",
    "df.to_csv(\"../drive_thru_testing_locations/locations-with-addresses.csv\", index=0)"
   ]
  }
 ],
 "metadata": {
  "kernelspec": {
   "display_name": "Python 3",
   "language": "python",
   "name": "python3"
  },
  "language_info": {
   "codemirror_mode": {
    "name": "ipython",
    "version": 3
   },
   "file_extension": ".py",
   "mimetype": "text/x-python",
   "name": "python",
   "nbconvert_exporter": "python",
   "pygments_lexer": "ipython3",
   "version": "3.7.6"
  }
 },
 "nbformat": 4,
 "nbformat_minor": 4
}
