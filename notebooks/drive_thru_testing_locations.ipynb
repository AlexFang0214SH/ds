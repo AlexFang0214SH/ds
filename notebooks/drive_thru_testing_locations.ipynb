{
 "cells": [
  {
   "cell_type": "code",
   "execution_count": 1,
   "metadata": {},
   "outputs": [],
   "source": [
    "import pandas as pd\n",
    "from bs4 import BeautifulSoup\n",
    "import requests\n",
    "import plotly.express as px\n",
    "from decouple import config\n",
    "import os\n",
    "from IPython.display import IFrame\n",
    "\n",
    "# ---------------- Pandas settings --------------- #\n",
    "# Removes rows and columns truncation of '...'\n",
    "pd.set_option('display.max_rows', 200)\n",
    "pd.set_option('display.max_columns', 200)\n",
    "\n",
    "\n",
    "# ----------------- Set Mapbox Token --------------- #\n",
    "MAPBOX_ACCESS_TOKEN=config(\"MAPBOX_ACCESS_TOKEN\")\n",
    "px.set_mapbox_access_token(MAPBOX_ACCESS_TOKEN)\n",
    "\n",
    "# Set Data Dir\n",
    "DATA_DIR=\"../drive_thru_testing_locations\""
   ]
  },
  {
   "cell_type": "markdown",
   "metadata": {},
   "source": [
    "**Source: https://covid19.sokat.ai/**"
   ]
  },
  {
   "cell_type": "code",
   "execution_count": 2,
   "metadata": {},
   "outputs": [
    {
     "data": {
      "text/html": [
       "\n",
       "        <iframe\n",
       "            width=\"100%\"\n",
       "            height=\"400\"\n",
       "            src=\"https://covid19.sokat.ai/\"\n",
       "            frameborder=\"0\"\n",
       "            allowfullscreen\n",
       "        ></iframe>\n",
       "        "
      ],
      "text/plain": [
       "<IPython.lib.display.IFrame at 0x7f549078ec50>"
      ]
     },
     "execution_count": 2,
     "metadata": {},
     "output_type": "execute_result"
    }
   ],
   "source": [
    "IFrame(\"https://covid19.sokat.ai/\", width=\"100%\", height=400)"
   ]
  },
  {
   "cell_type": "code",
   "execution_count": 3,
   "metadata": {},
   "outputs": [],
   "source": [
    "def markers_to_dataframe(url):\n",
    "    \"\"\"This function takes the https://covid19.sokat.ai/ web map as input to generate a CSV file of drive-thru testing locations. \n",
    "    \"\"\"\n",
    "    # Download webpage data with requests\n",
    "    page = requests.get(url)\n",
    "    # Rarse the webpage data with BeautifulSoup\n",
    "    soup = BeautifulSoup(page.content, 'html.parser')\n",
    "    \n",
    "    # Select scripts in HTML file\n",
    "    scripts = list(soup.find_all('script'))\n",
    "    \n",
    "    # Subset for the script with marker data and begin string splitting\n",
    "    html = str(list(scripts[7])).split('var marker')\n",
    "    \n",
    "    # Use for-loops to generate the names, coordinates, and URLs of drive-thru testing locations\n",
    "    list_of_names = []\n",
    "    list_of_coords = []\n",
    "    list_of_urls = []\n",
    "    \n",
    "    for i in range(2,142):\n",
    "        list_of_names.append(html[i].split('target=\"_blank\">')[1].split('</a></div>')[0])\n",
    "        list_of_coords.append(html[i].split('target=\"_blank\">')[0].split(\"L.marker(\\\\n                [\")[1].split(\"]\")[0])\n",
    "        list_of_urls.append(html[i].split('target=\"_blank\">')[0].split('><a href=\"')[1].split('\"')[0])\n",
    "\n",
    "    # Concatenate lists into a pandas DataFrame\n",
    "    dataframe = pd.DataFrame([list_of_names, list_of_coords, list_of_urls]).T\n",
    "    \n",
    "    # Rename the columns with appropriate titles\n",
    "    dataframe.columns = [\"Name\",\"Coordinate\", \"URL\"]\n",
    "    \n",
    "    # Generate Latitude and Longitude Series with string splitting\n",
    "    dataframe[\"Latitude\"] = dataframe[\"Coordinate\"].str.split(expand=True)[0].str.replace(\",\",\"\").astype(float)\n",
    "    dataframe[\"Longitude\"] = dataframe[\"Coordinate\"].str.split(expand=True)[1].astype(float)\n",
    "    \n",
    "    # Return results\n",
    "    return dataframe"
   ]
  },
  {
   "cell_type": "code",
   "execution_count": 4,
   "metadata": {
    "scrolled": false
   },
   "outputs": [
    {
     "name": "stdout",
     "output_type": "stream",
     "text": [
      "<class 'pandas.core.frame.DataFrame'>\n",
      "RangeIndex: 140 entries, 0 to 139\n",
      "Data columns (total 4 columns):\n",
      " #   Column     Non-Null Count  Dtype  \n",
      "---  ------     --------------  -----  \n",
      " 0   Name       140 non-null    object \n",
      " 1   URL        140 non-null    object \n",
      " 2   Latitude   140 non-null    float64\n",
      " 3   Longitude  140 non-null    float64\n",
      "dtypes: float64(2), object(2)\n",
      "memory usage: 4.5+ KB\n"
     ]
    }
   ],
   "source": [
    "df = markers_to_dataframe(\"https://covid19.sokat.ai/\")\n",
    "df = df[[\"Name\", \"URL\", \"Latitude\", \"Longitude\"]] # added to parse coordinates column out to save space\n",
    "df.info() # check for data type"
   ]
  },
  {
   "cell_type": "code",
   "execution_count": 5,
   "metadata": {
    "scrolled": true
   },
   "outputs": [
    {
     "data": {
      "text/plain": [
       "Name         0\n",
       "URL          0\n",
       "Latitude     0\n",
       "Longitude    0\n",
       "dtype: int64"
      ]
     },
     "execution_count": 5,
     "metadata": {},
     "output_type": "execute_result"
    }
   ],
   "source": [
    "df.isnull().sum() # Check for missing values"
   ]
  },
  {
   "cell_type": "markdown",
   "metadata": {},
   "source": [
    "### Display data"
   ]
  },
  {
   "cell_type": "code",
   "execution_count": 6,
   "metadata": {
    "scrolled": false
   },
   "outputs": [
    {
     "data": {
      "text/html": [
       "<div>\n",
       "<style scoped>\n",
       "    .dataframe tbody tr th:only-of-type {\n",
       "        vertical-align: middle;\n",
       "    }\n",
       "\n",
       "    .dataframe tbody tr th {\n",
       "        vertical-align: top;\n",
       "    }\n",
       "\n",
       "    .dataframe thead th {\n",
       "        text-align: right;\n",
       "    }\n",
       "</style>\n",
       "<table border=\"1\" class=\"dataframe\">\n",
       "  <thead>\n",
       "    <tr style=\"text-align: right;\">\n",
       "      <th></th>\n",
       "      <th>Name</th>\n",
       "      <th>URL</th>\n",
       "      <th>Latitude</th>\n",
       "      <th>Longitude</th>\n",
       "    </tr>\n",
       "  </thead>\n",
       "  <tbody>\n",
       "    <tr>\n",
       "      <th>0</th>\n",
       "      <td>collaborative effort between health care prov...</td>\n",
       "      <td>https://www.adn.com/alaska-news/anchorage/2020...</td>\n",
       "      <td>61.182870</td>\n",
       "      <td>-149.837269</td>\n",
       "    </tr>\n",
       "    <tr>\n",
       "      <th>1</th>\n",
       "      <td>Church of the Highlands- Grant\\'s Mill</td>\n",
       "      <td>https://www.google.com/amp/s/www.wvtm13.com/am...</td>\n",
       "      <td>33.516999</td>\n",
       "      <td>-86.655847</td>\n",
       "    </tr>\n",
       "    <tr>\n",
       "      <th>2</th>\n",
       "      <td>UAMS</td>\n",
       "      <td>https://www.thv11.com/mobile/article/news/heal...</td>\n",
       "      <td>34.749005</td>\n",
       "      <td>-92.320096</td>\n",
       "    </tr>\n",
       "    <tr>\n",
       "      <th>3</th>\n",
       "      <td>Mayo Clinic Hospital</td>\n",
       "      <td>https://www.12news.com/article/news/health/cor...</td>\n",
       "      <td>33.662111</td>\n",
       "      <td>-111.953513</td>\n",
       "    </tr>\n",
       "    <tr>\n",
       "      <th>4</th>\n",
       "      <td>Mayo Clinic</td>\n",
       "      <td>https://www.12news.com/article/news/health/cor...</td>\n",
       "      <td>33.586042</td>\n",
       "      <td>-111.794079</td>\n",
       "    </tr>\n",
       "    <tr>\n",
       "      <th>5</th>\n",
       "      <td>Stanford Health Care</td>\n",
       "      <td>http://med.stanford.edu/news/all-news/2020/03/...</td>\n",
       "      <td>37.441515</td>\n",
       "      <td>-122.168679</td>\n",
       "    </tr>\n",
       "    <tr>\n",
       "      <th>6</th>\n",
       "      <td>Kaiser Permanente French Campus</td>\n",
       "      <td>https://www.sfgate.com/bayarea/article/coronav...</td>\n",
       "      <td>37.780666</td>\n",
       "      <td>-122.463766</td>\n",
       "    </tr>\n",
       "    <tr>\n",
       "      <th>7</th>\n",
       "      <td>Colorado Department of Public Health and Envi...</td>\n",
       "      <td>https://www.denverpost.com/2020/03/11/colorado...</td>\n",
       "      <td>39.716960</td>\n",
       "      <td>-104.894000</td>\n",
       "    </tr>\n",
       "    <tr>\n",
       "      <th>8</th>\n",
       "      <td>Denver Coliseum</td>\n",
       "      <td>https://www.colorado.gov/pacific/cdphe/covid-1...</td>\n",
       "      <td>39.780582</td>\n",
       "      <td>-104.971930</td>\n",
       "    </tr>\n",
       "    <tr>\n",
       "      <th>9</th>\n",
       "      <td>Hartford Hospital</td>\n",
       "      <td>https://www.courant.com/news/connecticut/hc-ne...</td>\n",
       "      <td>41.754561</td>\n",
       "      <td>-72.679231</td>\n",
       "    </tr>\n",
       "    <tr>\n",
       "      <th>10</th>\n",
       "      <td>ChristianaCare</td>\n",
       "      <td>https://philadelphia.cbslocal.com/2020/03/13/c...</td>\n",
       "      <td>39.734839</td>\n",
       "      <td>-75.563741</td>\n",
       "    </tr>\n",
       "    <tr>\n",
       "      <th>11</th>\n",
       "      <td>Cleveland Clinic Martin Health</td>\n",
       "      <td>https://www.tcpalm.com/story/news/local/martin...</td>\n",
       "      <td>27.199391</td>\n",
       "      <td>-80.243303</td>\n",
       "    </tr>\n",
       "    <tr>\n",
       "      <th>12</th>\n",
       "      <td>FoundCare, Inc.</td>\n",
       "      <td>https://www.wptv.com/news/region-c-palm-beach-...</td>\n",
       "      <td>26.641752</td>\n",
       "      <td>-80.087597</td>\n",
       "    </tr>\n",
       "    <tr>\n",
       "      <th>13</th>\n",
       "      <td>Ascension Sacred Heart</td>\n",
       "      <td>https://www.pnj.com/story/news/2020/03/15/pens...</td>\n",
       "      <td>30.481178</td>\n",
       "      <td>-87.210788</td>\n",
       "    </tr>\n",
       "    <tr>\n",
       "      <th>14</th>\n",
       "      <td>Memorial Healthcare System in Broward County</td>\n",
       "      <td>https://www.fox13news.com/news/national-guard-...</td>\n",
       "      <td>26.019739</td>\n",
       "      <td>-80.180328</td>\n",
       "    </tr>\n",
       "    <tr>\n",
       "      <th>15</th>\n",
       "      <td>Valdosta\\'s South Georgia Medical Center</td>\n",
       "      <td>https://www.wctv.tv/content/news/Valdostas-Sou...</td>\n",
       "      <td>30.862330</td>\n",
       "      <td>-83.286606</td>\n",
       "    </tr>\n",
       "    <tr>\n",
       "      <th>16</th>\n",
       "      <td>Dept. of Public Health-West Central Health</td>\n",
       "      <td>https://www.ledger-enquirer.com/news/coronavir...</td>\n",
       "      <td>32.483200</td>\n",
       "      <td>-84.979134</td>\n",
       "    </tr>\n",
       "    <tr>\n",
       "      <th>17</th>\n",
       "      <td>MercyMed of Columbus</td>\n",
       "      <td>https://www.ledger-enquirer.com/news/coronavir...</td>\n",
       "      <td>32.498280</td>\n",
       "      <td>-84.989480</td>\n",
       "    </tr>\n",
       "    <tr>\n",
       "      <th>18</th>\n",
       "      <td>Walgreens</td>\n",
       "      <td>https://www.kitv.com/story/41897124/hawaii-tes...</td>\n",
       "      <td>21.419480</td>\n",
       "      <td>-157.802140</td>\n",
       "    </tr>\n",
       "    <tr>\n",
       "      <th>19</th>\n",
       "      <td>Walgreens/ Premire Medical Group Hawaii</td>\n",
       "      <td>https://www.kitv.com/story/41897124/hawaii-tes...</td>\n",
       "      <td>21.419479</td>\n",
       "      <td>-157.802139</td>\n",
       "    </tr>\n",
       "    <tr>\n",
       "      <th>20</th>\n",
       "      <td>Advocate Good Shepherd Hospital</td>\n",
       "      <td>https://wgntv.com/news/coronavirus/suburban-ho...</td>\n",
       "      <td>42.195604</td>\n",
       "      <td>-88.173205</td>\n",
       "    </tr>\n",
       "    <tr>\n",
       "      <th>21</th>\n",
       "      <td>Advocate Good Shepard</td>\n",
       "      <td>https://www.fox32chicago.com/news/hospital-in-...</td>\n",
       "      <td>42.193861</td>\n",
       "      <td>-88.182121</td>\n",
       "    </tr>\n",
       "    <tr>\n",
       "      <th>22</th>\n",
       "      <td>Franciscian Health Michigan City</td>\n",
       "      <td>https://www.nbcchicago.com/news/local/northwes...</td>\n",
       "      <td>41.708080</td>\n",
       "      <td>-86.877950</td>\n",
       "    </tr>\n",
       "    <tr>\n",
       "      <th>23</th>\n",
       "      <td>Stormont Vail</td>\n",
       "      <td>https://www.wibw.com/content/news/Stormont-Vai...</td>\n",
       "      <td>39.051670</td>\n",
       "      <td>-95.695028</td>\n",
       "    </tr>\n",
       "    <tr>\n",
       "      <th>24</th>\n",
       "      <td>Baton Rouge General Medical Center</td>\n",
       "      <td>https://www.wrkf.org/post/louisianas-first-dri...</td>\n",
       "      <td>30.449546</td>\n",
       "      <td>-91.153092</td>\n",
       "    </tr>\n",
       "    <tr>\n",
       "      <th>25</th>\n",
       "      <td>Cape Cod Community College</td>\n",
       "      <td>https://www.wpri.com/health/coronavirus/massac...</td>\n",
       "      <td>41.688000</td>\n",
       "      <td>-70.336430</td>\n",
       "    </tr>\n",
       "    <tr>\n",
       "      <th>26</th>\n",
       "      <td>Falmouth Hospital</td>\n",
       "      <td>https://www.nbcboston.com/news/local/remote-co...</td>\n",
       "      <td>41.564415</td>\n",
       "      <td>-70.622307</td>\n",
       "    </tr>\n",
       "    <tr>\n",
       "      <th>27</th>\n",
       "      <td>Cape Cod Hospital</td>\n",
       "      <td>https://www.nbcboston.com/news/local/remote-co...</td>\n",
       "      <td>41.652951</td>\n",
       "      <td>-70.273178</td>\n",
       "    </tr>\n",
       "    <tr>\n",
       "      <th>28</th>\n",
       "      <td>LifeBridge Health / Carroll Hospital</td>\n",
       "      <td>https://www.baltimoresun.com/coronavirus/bs-hs...</td>\n",
       "      <td>39.558286</td>\n",
       "      <td>-76.990377</td>\n",
       "    </tr>\n",
       "    <tr>\n",
       "      <th>29</th>\n",
       "      <td>University of Maryland Upper Chesapeake Health</td>\n",
       "      <td>https://baltimore.cbslocal.com/2020/03/13/coro...</td>\n",
       "      <td>39.519134</td>\n",
       "      <td>-76.346384</td>\n",
       "    </tr>\n",
       "    <tr>\n",
       "      <th>30</th>\n",
       "      <td>Medstar St. Mary\\'s Hospital</td>\n",
       "      <td>https://www.nbcwashington.com/news/local/drive...</td>\n",
       "      <td>38.299590</td>\n",
       "      <td>-76.640781</td>\n",
       "    </tr>\n",
       "    <tr>\n",
       "      <th>31</th>\n",
       "      <td>Henry Ford Allegiance Health</td>\n",
       "      <td>https://www.crainsdetroit.com/coronavirus/sout...</td>\n",
       "      <td>42.254720</td>\n",
       "      <td>-84.465680</td>\n",
       "    </tr>\n",
       "    <tr>\n",
       "      <th>32</th>\n",
       "      <td>Beaumont Hospital, Royal Oak</td>\n",
       "      <td>https://www.crainsdetroit.com/coronavirus/sout...</td>\n",
       "      <td>42.515387</td>\n",
       "      <td>-83.193281</td>\n",
       "    </tr>\n",
       "    <tr>\n",
       "      <th>33</th>\n",
       "      <td>Beaumont Hospital, Dearborn</td>\n",
       "      <td>https://www.crainsdetroit.com/coronavirus/sout...</td>\n",
       "      <td>42.289892</td>\n",
       "      <td>-83.214738</td>\n",
       "    </tr>\n",
       "    <tr>\n",
       "      <th>34</th>\n",
       "      <td>Beaumont Hospital, Troy</td>\n",
       "      <td>https://www.crainsdetroit.com/coronavirus/sout...</td>\n",
       "      <td>42.619154</td>\n",
       "      <td>-83.092572</td>\n",
       "    </tr>\n",
       "    <tr>\n",
       "      <th>35</th>\n",
       "      <td>Beaumont Hospital, Framington Hills</td>\n",
       "      <td>https://www.crainsdetroit.com/coronavirus/sout...</td>\n",
       "      <td>42.446379</td>\n",
       "      <td>-83.323736</td>\n",
       "    </tr>\n",
       "    <tr>\n",
       "      <th>36</th>\n",
       "      <td>Spectrum Health</td>\n",
       "      <td>https://www.woodtv.com/health/coronavirus/spec...</td>\n",
       "      <td>42.969420</td>\n",
       "      <td>-85.636429</td>\n",
       "    </tr>\n",
       "    <tr>\n",
       "      <th>37</th>\n",
       "      <td>Mayo Family Clinic Northwest</td>\n",
       "      <td>https://www.postbulletin.com/life/health/mayo-...</td>\n",
       "      <td>44.019210</td>\n",
       "      <td>-92.487930</td>\n",
       "    </tr>\n",
       "    <tr>\n",
       "      <th>38</th>\n",
       "      <td>Mercy Virtual Care Center</td>\n",
       "      <td>https://www.kmov.com/news/mercy-collects-tests...</td>\n",
       "      <td>38.651463</td>\n",
       "      <td>-90.558906</td>\n",
       "    </tr>\n",
       "    <tr>\n",
       "      <th>39</th>\n",
       "      <td>Med Plus Clinic</td>\n",
       "      <td>https://www.djournal.com/news/drive-thru-covid...</td>\n",
       "      <td>34.315931</td>\n",
       "      <td>-88.705076</td>\n",
       "    </tr>\n",
       "    <tr>\n",
       "      <th>40</th>\n",
       "      <td>Med Plus Clinic</td>\n",
       "      <td>https://www.djournal.com/news/drive-thru-covid...</td>\n",
       "      <td>34.239764</td>\n",
       "      <td>-88.400269</td>\n",
       "    </tr>\n",
       "    <tr>\n",
       "      <th>41</th>\n",
       "      <td>Biltmore Church</td>\n",
       "      <td>https://www.citizen-times.com/story/news/local...</td>\n",
       "      <td>35.487077</td>\n",
       "      <td>-82.567176</td>\n",
       "    </tr>\n",
       "    <tr>\n",
       "      <th>42</th>\n",
       "      <td>UNC Asheville Health</td>\n",
       "      <td>https://www.citizen-times.com/story/news/local...</td>\n",
       "      <td>35.613564</td>\n",
       "      <td>-82.561249</td>\n",
       "    </tr>\n",
       "    <tr>\n",
       "      <th>43</th>\n",
       "      <td>Bryan Urgent Care</td>\n",
       "      <td>https://www.bryanhealth.com/about-bryan-health...</td>\n",
       "      <td>40.734095</td>\n",
       "      <td>-96.684085</td>\n",
       "    </tr>\n",
       "    <tr>\n",
       "      <th>44</th>\n",
       "      <td>New Hampshire National Gaurd Armory</td>\n",
       "      <td>https://www.unionleader.com/news/health/corona...</td>\n",
       "      <td>43.002010</td>\n",
       "      <td>-71.466310</td>\n",
       "    </tr>\n",
       "    <tr>\n",
       "      <th>45</th>\n",
       "      <td>Elliot Hospital</td>\n",
       "      <td>https://patch.com/new-hampshire/londonderry/el...</td>\n",
       "      <td>42.984138</td>\n",
       "      <td>-71.437317</td>\n",
       "    </tr>\n",
       "    <tr>\n",
       "      <th>46</th>\n",
       "      <td>Riverside Medical Group</td>\n",
       "      <td>http://newjersey.news12.com/story/41896736/dri...</td>\n",
       "      <td>40.793667</td>\n",
       "      <td>-74.068731</td>\n",
       "    </tr>\n",
       "    <tr>\n",
       "      <th>47</th>\n",
       "      <td>Bergen County Community College</td>\n",
       "      <td>https://www.nj.com/coronavirus/2020/03/nj-sett...</td>\n",
       "      <td>40.951540</td>\n",
       "      <td>-74.093830</td>\n",
       "    </tr>\n",
       "    <tr>\n",
       "      <th>48</th>\n",
       "      <td>Holy Name Medical Center</td>\n",
       "      <td>https://www.northjersey.com/story/news/bergen/...</td>\n",
       "      <td>40.887932</td>\n",
       "      <td>-74.005348</td>\n",
       "    </tr>\n",
       "    <tr>\n",
       "      <th>49</th>\n",
       "      <td>IMMEDIATE CARE</td>\n",
       "      <td>http://immcare.com/locations/marlboro-location/</td>\n",
       "      <td>40.333453</td>\n",
       "      <td>-74.241914</td>\n",
       "    </tr>\n",
       "    <tr>\n",
       "      <th>50</th>\n",
       "      <td>Lovelace Medical Center PRESNow</td>\n",
       "      <td>https://www.abqjournal.com/1431891/lovelace-te...</td>\n",
       "      <td>35.134373</td>\n",
       "      <td>-106.702202</td>\n",
       "    </tr>\n",
       "    <tr>\n",
       "      <th>51</th>\n",
       "      <td>PMG Urgent Care</td>\n",
       "      <td>https://www.krqe.com/health/coronavirus-new-me...</td>\n",
       "      <td>35.127167</td>\n",
       "      <td>-106.708975</td>\n",
       "    </tr>\n",
       "    <tr>\n",
       "      <th>52</th>\n",
       "      <td>Sahara West Urgent Care &amp; Wellness</td>\n",
       "      <td>https://news3lv.com/news/local/local-clinic-of...</td>\n",
       "      <td>36.142840</td>\n",
       "      <td>-115.226260</td>\n",
       "    </tr>\n",
       "    <tr>\n",
       "      <th>53</th>\n",
       "      <td>Glen Island Park</td>\n",
       "      <td>https://www.amny.com/editorial/drive-thru-covi...</td>\n",
       "      <td>40.884640</td>\n",
       "      <td>-73.783813</td>\n",
       "    </tr>\n",
       "    <tr>\n",
       "      <th>54</th>\n",
       "      <td>University of Dayton Arena</td>\n",
       "      <td>https://www.daytondailynews.com/news/local/cor...</td>\n",
       "      <td>39.735841</td>\n",
       "      <td>-84.199970</td>\n",
       "    </tr>\n",
       "    <tr>\n",
       "      <th>55</th>\n",
       "      <td>UC Health West Medical</td>\n",
       "      <td>https://www.cincinnati.com/story/news/2020/03/...</td>\n",
       "      <td>39.120436</td>\n",
       "      <td>-84.502341</td>\n",
       "    </tr>\n",
       "    <tr>\n",
       "      <th>56</th>\n",
       "      <td>UH Landerbrook Health Center</td>\n",
       "      <td>https://fox8.com/news/coronavirus/university-h...</td>\n",
       "      <td>41.503255</td>\n",
       "      <td>-81.469037</td>\n",
       "    </tr>\n",
       "    <tr>\n",
       "      <th>57</th>\n",
       "      <td>Jameson Crane Sports Medicine Institute</td>\n",
       "      <td>https://www.nbc4i.com/community/health/coronav...</td>\n",
       "      <td>40.017815</td>\n",
       "      <td>-83.031645</td>\n",
       "    </tr>\n",
       "    <tr>\n",
       "      <th>58</th>\n",
       "      <td>Access Solutions Medical Group</td>\n",
       "      <td>https://www.newson6.com/story/41907765/oklahom...</td>\n",
       "      <td>36.075850</td>\n",
       "      <td>-95.903120</td>\n",
       "    </tr>\n",
       "    <tr>\n",
       "      <th>59</th>\n",
       "      <td>Penn Medicine Radnor</td>\n",
       "      <td>https://www.phillyvoice.com/coronavirus-testin...</td>\n",
       "      <td>40.042681</td>\n",
       "      <td>-75.358201</td>\n",
       "    </tr>\n",
       "    <tr>\n",
       "      <th>60</th>\n",
       "      <td>Main Line Health Center in Newtown Square</td>\n",
       "      <td>https://www.phillyvoice.com/coronavirus-testin...</td>\n",
       "      <td>39.987111</td>\n",
       "      <td>-75.410235</td>\n",
       "    </tr>\n",
       "    <tr>\n",
       "      <th>61</th>\n",
       "      <td>Central Outreach Wellness Center</td>\n",
       "      <td>https://www.wtae.com/article/drive-thru-corona...</td>\n",
       "      <td>40.448730</td>\n",
       "      <td>-80.000850</td>\n",
       "    </tr>\n",
       "    <tr>\n",
       "      <th>62</th>\n",
       "      <td>Central Outreach Wellness Center</td>\n",
       "      <td>https://www.wtae.com/article/drive-thru-corona...</td>\n",
       "      <td>40.181950</td>\n",
       "      <td>-80.240880</td>\n",
       "    </tr>\n",
       "    <tr>\n",
       "      <th>63</th>\n",
       "      <td>Central Outreach Wellness Center</td>\n",
       "      <td>https://www.wtae.com/article/drive-thru-corona...</td>\n",
       "      <td>40.611880</td>\n",
       "      <td>-80.286320</td>\n",
       "    </tr>\n",
       "    <tr>\n",
       "      <th>64</th>\n",
       "      <td>MUSC Health West Ashley Medical Pavilion</td>\n",
       "      <td>https://web.musc.edu/about/news-center/2020/03...</td>\n",
       "      <td>32.797787</td>\n",
       "      <td>-80.030756</td>\n",
       "    </tr>\n",
       "    <tr>\n",
       "      <th>65</th>\n",
       "      <td>Prisma Health Richland Hospital North Portal</td>\n",
       "      <td>https://www.wistv.com/2020/03/16/prisma-health...</td>\n",
       "      <td>34.027870</td>\n",
       "      <td>-81.033300</td>\n",
       "    </tr>\n",
       "    <tr>\n",
       "      <th>66</th>\n",
       "      <td>Prisma Health Greenville Memorial Medical Cam...</td>\n",
       "      <td>https://www.wistv.com/2020/03/16/prisma-health...</td>\n",
       "      <td>34.821480</td>\n",
       "      <td>-82.413770</td>\n",
       "    </tr>\n",
       "    <tr>\n",
       "      <th>67</th>\n",
       "      <td>Monument Health Rapid City Urgent Care</td>\n",
       "      <td>https://www.newscenter1.tv/monument-health-add...</td>\n",
       "      <td>44.073355</td>\n",
       "      <td>-103.254773</td>\n",
       "    </tr>\n",
       "    <tr>\n",
       "      <th>68</th>\n",
       "      <td>Womens Health Care Group</td>\n",
       "      <td>https://wreg.com/news/shelby-county-clinic-off...</td>\n",
       "      <td>35.316610</td>\n",
       "      <td>-89.635740</td>\n",
       "    </tr>\n",
       "    <tr>\n",
       "      <th>69</th>\n",
       "      <td>Baylor Scott and White</td>\n",
       "      <td>https://www.texastribune.org/2020/03/14/corona...</td>\n",
       "      <td>30.393260</td>\n",
       "      <td>-97.720230</td>\n",
       "    </tr>\n",
       "    <tr>\n",
       "      <th>70</th>\n",
       "      <td>Parkland Hospital</td>\n",
       "      <td>https://www.wfaa.com/article/news/health/coron...</td>\n",
       "      <td>32.812654</td>\n",
       "      <td>-96.835932</td>\n",
       "    </tr>\n",
       "    <tr>\n",
       "      <th>71</th>\n",
       "      <td>My Family Doctor clinic</td>\n",
       "      <td>https://www.houstonchronicle.com/news/houston-...</td>\n",
       "      <td>29.711486</td>\n",
       "      <td>-95.494249</td>\n",
       "    </tr>\n",
       "    <tr>\n",
       "      <th>72</th>\n",
       "      <td>Davis Hospital &amp; Medical Center</td>\n",
       "      <td>https://www.abc4.com/news/health/coronavirus/s...</td>\n",
       "      <td>41.091222</td>\n",
       "      <td>-111.995128</td>\n",
       "    </tr>\n",
       "    <tr>\n",
       "      <th>73</th>\n",
       "      <td>Jordan Valley Medical Center</td>\n",
       "      <td>https://www.abc4.com/news/health/coronavirus/s...</td>\n",
       "      <td>40.587988</td>\n",
       "      <td>-111.975367</td>\n",
       "    </tr>\n",
       "    <tr>\n",
       "      <th>74</th>\n",
       "      <td>Mountain Point Medical Center</td>\n",
       "      <td>https://www.abc4.com/news/health/coronavirus/s...</td>\n",
       "      <td>40.425273</td>\n",
       "      <td>-111.878564</td>\n",
       "    </tr>\n",
       "    <tr>\n",
       "      <th>75</th>\n",
       "      <td>Davis Hospital and Medical Center</td>\n",
       "      <td>https://www.abc4.com/news/health/coronavirus/s...</td>\n",
       "      <td>41.091110</td>\n",
       "      <td>-111.995230</td>\n",
       "    </tr>\n",
       "    <tr>\n",
       "      <th>76</th>\n",
       "      <td>Jordan Valley Medical Center</td>\n",
       "      <td>https://www.abc4.com/news/health/coronavirus/s...</td>\n",
       "      <td>40.590380</td>\n",
       "      <td>-111.974190</td>\n",
       "    </tr>\n",
       "    <tr>\n",
       "      <th>77</th>\n",
       "      <td>Mountain Point Medical Center</td>\n",
       "      <td>https://www.abc4.com/news/health/coronavirus/s...</td>\n",
       "      <td>40.425210</td>\n",
       "      <td>-111.878500</td>\n",
       "    </tr>\n",
       "    <tr>\n",
       "      <th>78</th>\n",
       "      <td>Sentara Princess Anne Hospital</td>\n",
       "      <td>https://www.13newsnow.com/article/news/health/...</td>\n",
       "      <td>36.775257</td>\n",
       "      <td>-76.098828</td>\n",
       "    </tr>\n",
       "    <tr>\n",
       "      <th>79</th>\n",
       "      <td>Sentara Williamsburg Regional Medical Center</td>\n",
       "      <td>https://www.13newsnow.com/article/news/health/...</td>\n",
       "      <td>37.336665</td>\n",
       "      <td>-76.740890</td>\n",
       "    </tr>\n",
       "    <tr>\n",
       "      <th>80</th>\n",
       "      <td>Sentara Edinburgh</td>\n",
       "      <td>https://www.13newsnow.com/article/news/health/...</td>\n",
       "      <td>36.652765</td>\n",
       "      <td>-76.230894</td>\n",
       "    </tr>\n",
       "    <tr>\n",
       "      <th>81</th>\n",
       "      <td>Virginia Hospital Center</td>\n",
       "      <td>https://www.nbcwashington.com/news/local/drive...</td>\n",
       "      <td>38.889316</td>\n",
       "      <td>-77.106930</td>\n",
       "    </tr>\n",
       "    <tr>\n",
       "      <th>82</th>\n",
       "      <td>Southwestern Vermont Medical Center</td>\n",
       "      <td>https://www.burlingtonfreepress.com/story/news...</td>\n",
       "      <td>42.874199</td>\n",
       "      <td>-73.207550</td>\n",
       "    </tr>\n",
       "    <tr>\n",
       "      <th>83</th>\n",
       "      <td>Porter Medical Center</td>\n",
       "      <td>https://addisonindependent.com/news/porter-hos...</td>\n",
       "      <td>43.999889</td>\n",
       "      <td>-73.168541</td>\n",
       "    </tr>\n",
       "    <tr>\n",
       "      <th>84</th>\n",
       "      <td>Froedtrent South Pleasant Prarie Clinic</td>\n",
       "      <td>https://www.tmj4.com/news/coronavirus/froedter...</td>\n",
       "      <td>42.555195</td>\n",
       "      <td>-87.890865</td>\n",
       "    </tr>\n",
       "    <tr>\n",
       "      <th>85</th>\n",
       "      <td>Mercer County Fairgrounds</td>\n",
       "      <td>https://www.whio.com/news/local/coronavirus-dr...</td>\n",
       "      <td>40.550192</td>\n",
       "      <td>-84.583886</td>\n",
       "    </tr>\n",
       "    <tr>\n",
       "      <th>86</th>\n",
       "      <td>OCH Regional Medical Center:</td>\n",
       "      <td>https://www.clarionledger.com/story/news/2020/...</td>\n",
       "      <td>33.476120</td>\n",
       "      <td>-88.821130</td>\n",
       "    </tr>\n",
       "    <tr>\n",
       "      <th>87</th>\n",
       "      <td>Sandhills Medical Foundation</td>\n",
       "      <td>https://www.postandcourier.com/health/covid19/...</td>\n",
       "      <td>34.277070</td>\n",
       "      <td>-80.611930</td>\n",
       "    </tr>\n",
       "    <tr>\n",
       "      <th>88</th>\n",
       "      <td>East Tennessee Medical Group</td>\n",
       "      <td>https://www.wate.com/news/drive-through-corona...</td>\n",
       "      <td>35.767680</td>\n",
       "      <td>-83.977250</td>\n",
       "    </tr>\n",
       "    <tr>\n",
       "      <th>89</th>\n",
       "      <td>George Washington University Hospital</td>\n",
       "      <td>https://www.washingtonpost.com/local/virginia-...</td>\n",
       "      <td>38.900930</td>\n",
       "      <td>-77.047720</td>\n",
       "    </tr>\n",
       "    <tr>\n",
       "      <th>90</th>\n",
       "      <td>UW Medical Center Northwest</td>\n",
       "      <td>https://www.geekwire.com/2020/uw-medicine-open...</td>\n",
       "      <td>47.714130</td>\n",
       "      <td>-122.336998</td>\n",
       "    </tr>\n",
       "    <tr>\n",
       "      <th>91</th>\n",
       "      <td>Kaiser Permanente Lynnwood Medical Center</td>\n",
       "      <td>https://www.kiro7.com/news/local/where-are-coi...</td>\n",
       "      <td>47.814670</td>\n",
       "      <td>-122.306078</td>\n",
       "    </tr>\n",
       "    <tr>\n",
       "      <th>92</th>\n",
       "      <td>Kaiser Permanente Puyallup Medical Center</td>\n",
       "      <td>https://www.kiro7.com/news/local/where-are-coi...</td>\n",
       "      <td>47.154826</td>\n",
       "      <td>-122.279163</td>\n",
       "    </tr>\n",
       "    <tr>\n",
       "      <th>93</th>\n",
       "      <td>Kaiser Permanente Factoria Medical Center</td>\n",
       "      <td>https://www.kiro7.com/news/local/where-are-coi...</td>\n",
       "      <td>47.579376</td>\n",
       "      <td>-122.160489</td>\n",
       "    </tr>\n",
       "    <tr>\n",
       "      <th>94</th>\n",
       "      <td>Kaiser Permanente Olympia Medical Center</td>\n",
       "      <td>https://www.kiro7.com/news/local/where-are-coi...</td>\n",
       "      <td>47.056896</td>\n",
       "      <td>-122.842262</td>\n",
       "    </tr>\n",
       "    <tr>\n",
       "      <th>95</th>\n",
       "      <td>Seattle Kaiser Permanente Capitol Hill Campus</td>\n",
       "      <td>https://www.kiro7.com/news/local/where-are-coi...</td>\n",
       "      <td>47.619885</td>\n",
       "      <td>-122.312075</td>\n",
       "    </tr>\n",
       "    <tr>\n",
       "      <th>96</th>\n",
       "      <td>Kaiser Permanente Silverdale Medical Center</td>\n",
       "      <td>https://www.kiro7.com/news/local/where-are-coi...</td>\n",
       "      <td>47.658041</td>\n",
       "      <td>-122.686679</td>\n",
       "    </tr>\n",
       "    <tr>\n",
       "      <th>97</th>\n",
       "      <td>Kaiser Permanente Burien Medical Center</td>\n",
       "      <td>https://www.kiro7.com/news/local/where-are-coi...</td>\n",
       "      <td>47.472359</td>\n",
       "      <td>-122.336055</td>\n",
       "    </tr>\n",
       "    <tr>\n",
       "      <th>98</th>\n",
       "      <td>Swedish Issaquah Campus</td>\n",
       "      <td>https://www.kiro7.com/news/local/where-are-coi...</td>\n",
       "      <td>47.535712</td>\n",
       "      <td>-122.021768</td>\n",
       "    </tr>\n",
       "    <tr>\n",
       "      <th>99</th>\n",
       "      <td>Swedish First Hill</td>\n",
       "      <td>https://www.kiro7.com/news/local/where-are-coi...</td>\n",
       "      <td>47.606305</td>\n",
       "      <td>-122.321767</td>\n",
       "    </tr>\n",
       "    <tr>\n",
       "      <th>100</th>\n",
       "      <td>Swedish Edmonds Campus</td>\n",
       "      <td>https://www.kiro7.com/news/local/where-are-coi...</td>\n",
       "      <td>47.802805</td>\n",
       "      <td>-122.333591</td>\n",
       "    </tr>\n",
       "    <tr>\n",
       "      <th>101</th>\n",
       "      <td>West Virginia University Medicine</td>\n",
       "      <td>https://wvumedicine.org/news/article/wvu-medic...</td>\n",
       "      <td>39.653912</td>\n",
       "      <td>-79.957749</td>\n",
       "    </tr>\n",
       "    <tr>\n",
       "      <th>102</th>\n",
       "      <td>WVU Camden Clark Medical Center</td>\n",
       "      <td>https://www.wtap.com/content/news/BREAKING-Par...</td>\n",
       "      <td>39.269618</td>\n",
       "      <td>-81.559949</td>\n",
       "    </tr>\n",
       "    <tr>\n",
       "      <th>103</th>\n",
       "      <td>Wheeling Hospital, Wheeling Park (parking lot)</td>\n",
       "      <td>https://wtov9.com/news/local/wheeling-hospital...</td>\n",
       "      <td>40.057975</td>\n",
       "      <td>-80.666753</td>\n",
       "    </tr>\n",
       "    <tr>\n",
       "      <th>104</th>\n",
       "      <td>WVU United Hospital Center</td>\n",
       "      <td>https://www.wvnews.com/theet/news/bridgeport-w...</td>\n",
       "      <td>39.328546</td>\n",
       "      <td>-80.239579</td>\n",
       "    </tr>\n",
       "    <tr>\n",
       "      <th>105</th>\n",
       "      <td>South Beach Psychiatric Center</td>\n",
       "      <td>https://nypost.com/2020/03/19/nycs-first-drive...</td>\n",
       "      <td>40.582200</td>\n",
       "      <td>-74.079470</td>\n",
       "    </tr>\n",
       "    <tr>\n",
       "      <th>106</th>\n",
       "      <td>Cheyenne Regional Medical Center</td>\n",
       "      <td>https://www.wyomingnews.com/news/local_news/dr...</td>\n",
       "      <td>41.140052</td>\n",
       "      <td>-104.815170</td>\n",
       "    </tr>\n",
       "    <tr>\n",
       "      <th>107</th>\n",
       "      <td>Mountain View Hospital</td>\n",
       "      <td>https://www.kivitv.com/news/drive-thru-covid-1...</td>\n",
       "      <td>43.478948</td>\n",
       "      <td>-112.001602</td>\n",
       "    </tr>\n",
       "    <tr>\n",
       "      <th>108</th>\n",
       "      <td>St. Luke\\'s Meridian Medical Center</td>\n",
       "      <td>https://www.idahostatesman.com/news/coronaviru...</td>\n",
       "      <td>43.598708</td>\n",
       "      <td>-116.353059</td>\n",
       "    </tr>\n",
       "    <tr>\n",
       "      <th>109</th>\n",
       "      <td>St. Luke\\'s Wood River Hospital</td>\n",
       "      <td>https://www.idahostatesman.com/news/coronaviru...</td>\n",
       "      <td>43.648703</td>\n",
       "      <td>-114.349951</td>\n",
       "    </tr>\n",
       "    <tr>\n",
       "      <th>110</th>\n",
       "      <td>St. Luke\\'s Elmore Medical Center</td>\n",
       "      <td>https://www.idahostatesman.com/news/coronaviru...</td>\n",
       "      <td>43.138650</td>\n",
       "      <td>-115.693131</td>\n",
       "    </tr>\n",
       "    <tr>\n",
       "      <th>111</th>\n",
       "      <td>Saltzer Medical Group</td>\n",
       "      <td>https://www.idahostatesman.com/news/coronaviru...</td>\n",
       "      <td>43.617235</td>\n",
       "      <td>-116.589524</td>\n",
       "    </tr>\n",
       "    <tr>\n",
       "      <th>112</th>\n",
       "      <td>St. Luke\\'s Magic Valley Medical Center</td>\n",
       "      <td>https://www.idahostatesman.com/news/coronaviru...</td>\n",
       "      <td>42.590956</td>\n",
       "      <td>-114.496583</td>\n",
       "    </tr>\n",
       "    <tr>\n",
       "      <th>113</th>\n",
       "      <td>Trinity Medical Arts Clinic</td>\n",
       "      <td>https://www.kfyrtv.com/content/news/Health-off...</td>\n",
       "      <td>48.232260</td>\n",
       "      <td>-101.286197</td>\n",
       "    </tr>\n",
       "    <tr>\n",
       "      <th>114</th>\n",
       "      <td>Temple University- Ambler Campus</td>\n",
       "      <td>https://6abc.com/health/covid19-montco-cases-j...</td>\n",
       "      <td>40.165290</td>\n",
       "      <td>-75.197320</td>\n",
       "    </tr>\n",
       "    <tr>\n",
       "      <th>115</th>\n",
       "      <td>Citizens Bank Park</td>\n",
       "      <td>https://www.nbcphiladelphia.com/news/coronavir...</td>\n",
       "      <td>39.906971</td>\n",
       "      <td>-75.166443</td>\n",
       "    </tr>\n",
       "    <tr>\n",
       "      <th>116</th>\n",
       "      <td>Mercy Coronavirus Evaluation Site</td>\n",
       "      <td>https://www.5newsonline.com/article/news/healt...</td>\n",
       "      <td>36.329311</td>\n",
       "      <td>-94.175240</td>\n",
       "    </tr>\n",
       "    <tr>\n",
       "      <th>117</th>\n",
       "      <td>Conway Regional Hospital System</td>\n",
       "      <td>https://www.thv11.com/mobile/article/news/loca...</td>\n",
       "      <td>35.085860</td>\n",
       "      <td>-92.457180</td>\n",
       "    </tr>\n",
       "    <tr>\n",
       "      <th>118</th>\n",
       "      <td>Norwalk Hospital</td>\n",
       "      <td>https://www.thehour.com/news/coronavirus/artic...</td>\n",
       "      <td>41.110862</td>\n",
       "      <td>-73.421968</td>\n",
       "    </tr>\n",
       "    <tr>\n",
       "      <th>119</th>\n",
       "      <td>Bridgeport Hospital</td>\n",
       "      <td>https://www.thehour.com/news/coronavirus/artic...</td>\n",
       "      <td>41.189471</td>\n",
       "      <td>-73.167470</td>\n",
       "    </tr>\n",
       "    <tr>\n",
       "      <th>120</th>\n",
       "      <td>Murphy Medical Associates</td>\n",
       "      <td>https://www.thehour.com/news/coronavirus/artic...</td>\n",
       "      <td>41.060055</td>\n",
       "      <td>-73.537312</td>\n",
       "    </tr>\n",
       "    <tr>\n",
       "      <th>121</th>\n",
       "      <td>Greenwich Hospital</td>\n",
       "      <td>https://www.thehour.com/news/coronavirus/artic...</td>\n",
       "      <td>41.034510</td>\n",
       "      <td>-73.630350</td>\n",
       "    </tr>\n",
       "    <tr>\n",
       "      <th>122</th>\n",
       "      <td>Murphy Medical Associates</td>\n",
       "      <td>https://www.thehour.com/news/coronavirus/artic...</td>\n",
       "      <td>41.175170</td>\n",
       "      <td>-73.129810</td>\n",
       "    </tr>\n",
       "    <tr>\n",
       "      <th>123</th>\n",
       "      <td>Murphy Medical Associates</td>\n",
       "      <td>https://www.thehour.com/news/coronavirus/artic...</td>\n",
       "      <td>41.128570</td>\n",
       "      <td>-73.484840</td>\n",
       "    </tr>\n",
       "    <tr>\n",
       "      <th>124</th>\n",
       "      <td>Danbury Hospital</td>\n",
       "      <td>https://www.thehour.com/news/coronavirus/artic...</td>\n",
       "      <td>41.404750</td>\n",
       "      <td>-73.447250</td>\n",
       "    </tr>\n",
       "    <tr>\n",
       "      <th>125</th>\n",
       "      <td>Yale- New Haven</td>\n",
       "      <td>https://www.thehour.com/news/coronavirus/artic...</td>\n",
       "      <td>41.285460</td>\n",
       "      <td>-72.929370</td>\n",
       "    </tr>\n",
       "    <tr>\n",
       "      <th>126</th>\n",
       "      <td>Bayview Medical Center</td>\n",
       "      <td>https://www.delawarepublic.org/post/christiana...</td>\n",
       "      <td>38.753850</td>\n",
       "      <td>-75.163830</td>\n",
       "    </tr>\n",
       "    <tr>\n",
       "      <th>127</th>\n",
       "      <td>Cleveland Clinic Florida</td>\n",
       "      <td>https://www.miamiherald.com/news/coronavirus/a...</td>\n",
       "      <td>26.077090</td>\n",
       "      <td>-80.367120</td>\n",
       "    </tr>\n",
       "    <tr>\n",
       "      <th>128</th>\n",
       "      <td>Broward Health</td>\n",
       "      <td>https://www.miamiherald.com/news/coronavirus/a...</td>\n",
       "      <td>26.275160</td>\n",
       "      <td>-80.118520</td>\n",
       "    </tr>\n",
       "    <tr>\n",
       "      <th>129</th>\n",
       "      <td>Memorial Hospital West-C.B. Park</td>\n",
       "      <td>https://www.miamiherald.com/news/coronavirus/a...</td>\n",
       "      <td>26.012610</td>\n",
       "      <td>-80.314750</td>\n",
       "    </tr>\n",
       "    <tr>\n",
       "      <th>130</th>\n",
       "      <td>Doris Ison Health Center</td>\n",
       "      <td>https://www.miamiherald.com/news/coronavirus/a...</td>\n",
       "      <td>25.565470</td>\n",
       "      <td>-80.357720</td>\n",
       "    </tr>\n",
       "    <tr>\n",
       "      <th>131</th>\n",
       "      <td>Piedmont Athens- Oconee Health Campus</td>\n",
       "      <td>https://www.onlineathens.com/news/20200319/pie...</td>\n",
       "      <td>33.915540</td>\n",
       "      <td>-83.465230</td>\n",
       "    </tr>\n",
       "    <tr>\n",
       "      <th>132</th>\n",
       "      <td>Urgent Care Hawaii-Pearl City</td>\n",
       "      <td>https://www.hawaiinewsnow.com/2020/03/12/urgen...</td>\n",
       "      <td>21.401630</td>\n",
       "      <td>-157.970250</td>\n",
       "    </tr>\n",
       "    <tr>\n",
       "      <th>133</th>\n",
       "      <td>Urgent Care Hawaii--Kapolei</td>\n",
       "      <td>https://www.hawaiinewsnow.com/2020/03/12/urgen...</td>\n",
       "      <td>21.333770</td>\n",
       "      <td>-158.083450</td>\n",
       "    </tr>\n",
       "    <tr>\n",
       "      <th>134</th>\n",
       "      <td>Urgent Care Hawaii-Kailua</td>\n",
       "      <td>https://www.hawaiinewsnow.com/2020/03/12/urgen...</td>\n",
       "      <td>21.394300</td>\n",
       "      <td>-157.743090</td>\n",
       "    </tr>\n",
       "    <tr>\n",
       "      <th>135</th>\n",
       "      <td>University of Chicago Medical Center</td>\n",
       "      <td>https://www.nbcchicago.com/news/local/drive-th...</td>\n",
       "      <td>41.788200</td>\n",
       "      <td>-87.604490</td>\n",
       "    </tr>\n",
       "    <tr>\n",
       "      <th>136</th>\n",
       "      <td>Advocate Lutheran General Hospital</td>\n",
       "      <td>https://www.nbcchicago.com/news/local/drive-th...</td>\n",
       "      <td>42.039371</td>\n",
       "      <td>-87.847572</td>\n",
       "    </tr>\n",
       "    <tr>\n",
       "      <th>137</th>\n",
       "      <td>Deaconess Midtown Hospital</td>\n",
       "      <td>https://www.courierpress.com/story/news/2020/0...</td>\n",
       "      <td>37.983160</td>\n",
       "      <td>-87.571210</td>\n",
       "    </tr>\n",
       "    <tr>\n",
       "      <th>138</th>\n",
       "      <td>North Iowa Events Center</td>\n",
       "      <td>https://kttc.com/2020/03/18/drive-through-test...</td>\n",
       "      <td>43.155430</td>\n",
       "      <td>-93.204280</td>\n",
       "    </tr>\n",
       "    <tr>\n",
       "      <th>139</th>\n",
       "      <td>Augusta University Health System- Christenber...</td>\n",
       "      <td>https://www.wjbf.com/lifestyle/health/coronavi...</td>\n",
       "      <td>33.470410</td>\n",
       "      <td>-82.042000</td>\n",
       "    </tr>\n",
       "  </tbody>\n",
       "</table>\n",
       "</div>"
      ],
      "text/plain": [
       "                                                  Name  \\\n",
       "0     collaborative effort between health care prov...   \n",
       "1              Church of the Highlands- Grant\\'s Mill    \n",
       "2                                                UAMS    \n",
       "3                                Mayo Clinic Hospital    \n",
       "4                                         Mayo Clinic    \n",
       "5                                Stanford Health Care    \n",
       "6                     Kaiser Permanente French Campus    \n",
       "7     Colorado Department of Public Health and Envi...   \n",
       "8                                     Denver Coliseum    \n",
       "9                                   Hartford Hospital    \n",
       "10                                     ChristianaCare    \n",
       "11                     Cleveland Clinic Martin Health    \n",
       "12                                    FoundCare, Inc.    \n",
       "13                            Ascension Sacred Heart     \n",
       "14       Memorial Healthcare System in Broward County    \n",
       "15           Valdosta\\'s South Georgia Medical Center    \n",
       "16         Dept. of Public Health-West Central Health    \n",
       "17                               MercyMed of Columbus    \n",
       "18                                          Walgreens    \n",
       "19            Walgreens/ Premire Medical Group Hawaii    \n",
       "20                    Advocate Good Shepherd Hospital    \n",
       "21                              Advocate Good Shepard    \n",
       "22                  Franciscian Health Michigan City     \n",
       "23                                      Stormont Vail    \n",
       "24                 Baton Rouge General Medical Center    \n",
       "25                         Cape Cod Community College    \n",
       "26                                  Falmouth Hospital    \n",
       "27                                  Cape Cod Hospital    \n",
       "28              LifeBridge Health / Carroll Hospital     \n",
       "29     University of Maryland Upper Chesapeake Health    \n",
       "30                      Medstar St. Mary\\'s Hospital     \n",
       "31                       Henry Ford Allegiance Health    \n",
       "32                       Beaumont Hospital, Royal Oak    \n",
       "33                        Beaumont Hospital, Dearborn    \n",
       "34                            Beaumont Hospital, Troy    \n",
       "35                Beaumont Hospital, Framington Hills    \n",
       "36                                    Spectrum Health    \n",
       "37                       Mayo Family Clinic Northwest    \n",
       "38                         Mercy Virtual Care Center     \n",
       "39                                    Med Plus Clinic    \n",
       "40                                    Med Plus Clinic    \n",
       "41                                    Biltmore Church    \n",
       "42                               UNC Asheville Health    \n",
       "43                                  Bryan Urgent Care    \n",
       "44                New Hampshire National Gaurd Armory    \n",
       "45                                    Elliot Hospital    \n",
       "46                            Riverside Medical Group    \n",
       "47                    Bergen County Community College    \n",
       "48                           Holy Name Medical Center    \n",
       "49                                     IMMEDIATE CARE    \n",
       "50                    Lovelace Medical Center PRESNow    \n",
       "51                                    PMG Urgent Care    \n",
       "52                 Sahara West Urgent Care & Wellness    \n",
       "53                                   Glen Island Park    \n",
       "54                         University of Dayton Arena    \n",
       "55                            UC Health West Medical     \n",
       "56                       UH Landerbrook Health Center    \n",
       "57            Jameson Crane Sports Medicine Institute    \n",
       "58                     Access Solutions Medical Group    \n",
       "59                               Penn Medicine Radnor    \n",
       "60          Main Line Health Center in Newtown Square    \n",
       "61                   Central Outreach Wellness Center    \n",
       "62                   Central Outreach Wellness Center    \n",
       "63                   Central Outreach Wellness Center    \n",
       "64           MUSC Health West Ashley Medical Pavilion    \n",
       "65       Prisma Health Richland Hospital North Portal    \n",
       "66    Prisma Health Greenville Memorial Medical Cam...   \n",
       "67             Monument Health Rapid City Urgent Care    \n",
       "68                           Womens Health Care Group    \n",
       "69                             Baylor Scott and White    \n",
       "70                                  Parkland Hospital    \n",
       "71                            My Family Doctor clinic    \n",
       "72                    Davis Hospital & Medical Center    \n",
       "73                       Jordan Valley Medical Center    \n",
       "74                      Mountain Point Medical Center    \n",
       "75                  Davis Hospital and Medical Center    \n",
       "76                       Jordan Valley Medical Center    \n",
       "77                      Mountain Point Medical Center    \n",
       "78                     Sentara Princess Anne Hospital    \n",
       "79       Sentara Williamsburg Regional Medical Center    \n",
       "80                                  Sentara Edinburgh    \n",
       "81                           Virginia Hospital Center    \n",
       "82                Southwestern Vermont Medical Center    \n",
       "83                              Porter Medical Center    \n",
       "84            Froedtrent South Pleasant Prarie Clinic    \n",
       "85                          Mercer County Fairgrounds    \n",
       "86                       OCH Regional Medical Center:    \n",
       "87                       Sandhills Medical Foundation    \n",
       "88                       East Tennessee Medical Group    \n",
       "89              George Washington University Hospital    \n",
       "90                        UW Medical Center Northwest    \n",
       "91          Kaiser Permanente Lynnwood Medical Center    \n",
       "92          Kaiser Permanente Puyallup Medical Center    \n",
       "93          Kaiser Permanente Factoria Medical Center    \n",
       "94           Kaiser Permanente Olympia Medical Center    \n",
       "95      Seattle Kaiser Permanente Capitol Hill Campus    \n",
       "96        Kaiser Permanente Silverdale Medical Center    \n",
       "97            Kaiser Permanente Burien Medical Center    \n",
       "98                            Swedish Issaquah Campus    \n",
       "99                                 Swedish First Hill    \n",
       "100                            Swedish Edmonds Campus    \n",
       "101                 West Virginia University Medicine    \n",
       "102                   WVU Camden Clark Medical Center    \n",
       "103    Wheeling Hospital, Wheeling Park (parking lot)    \n",
       "104                        WVU United Hospital Center    \n",
       "105                    South Beach Psychiatric Center    \n",
       "106                  Cheyenne Regional Medical Center    \n",
       "107                            Mountain View Hospital    \n",
       "108               St. Luke\\'s Meridian Medical Center    \n",
       "109                   St. Luke\\'s Wood River Hospital    \n",
       "110                 St. Luke\\'s Elmore Medical Center    \n",
       "111                             Saltzer Medical Group    \n",
       "112           St. Luke\\'s Magic Valley Medical Center    \n",
       "113                       Trinity Medical Arts Clinic    \n",
       "114                 Temple University- Ambler Campus     \n",
       "115                                Citizens Bank Park    \n",
       "116                 Mercy Coronavirus Evaluation Site    \n",
       "117                  Conway Regional Hospital System     \n",
       "118                                  Norwalk Hospital    \n",
       "119                               Bridgeport Hospital    \n",
       "120                         Murphy Medical Associates    \n",
       "121                                Greenwich Hospital    \n",
       "122                         Murphy Medical Associates    \n",
       "123                         Murphy Medical Associates    \n",
       "124                                 Danbury Hospital     \n",
       "125                                   Yale- New Haven    \n",
       "126                            Bayview Medical Center    \n",
       "127                          Cleveland Clinic Florida    \n",
       "128                                   Broward Health     \n",
       "129                  Memorial Hospital West-C.B. Park    \n",
       "130                          Doris Ison Health Center    \n",
       "131             Piedmont Athens- Oconee Health Campus    \n",
       "132                     Urgent Care Hawaii-Pearl City    \n",
       "133                       Urgent Care Hawaii--Kapolei    \n",
       "134                         Urgent Care Hawaii-Kailua    \n",
       "135              University of Chicago Medical Center    \n",
       "136               Advocate Lutheran General Hospital     \n",
       "137                       Deaconess Midtown Hospital     \n",
       "138                          North Iowa Events Center    \n",
       "139   Augusta University Health System- Christenber...   \n",
       "\n",
       "                                                   URL   Latitude   Longitude  \n",
       "0    https://www.adn.com/alaska-news/anchorage/2020...  61.182870 -149.837269  \n",
       "1    https://www.google.com/amp/s/www.wvtm13.com/am...  33.516999  -86.655847  \n",
       "2    https://www.thv11.com/mobile/article/news/heal...  34.749005  -92.320096  \n",
       "3    https://www.12news.com/article/news/health/cor...  33.662111 -111.953513  \n",
       "4    https://www.12news.com/article/news/health/cor...  33.586042 -111.794079  \n",
       "5    http://med.stanford.edu/news/all-news/2020/03/...  37.441515 -122.168679  \n",
       "6    https://www.sfgate.com/bayarea/article/coronav...  37.780666 -122.463766  \n",
       "7    https://www.denverpost.com/2020/03/11/colorado...  39.716960 -104.894000  \n",
       "8    https://www.colorado.gov/pacific/cdphe/covid-1...  39.780582 -104.971930  \n",
       "9    https://www.courant.com/news/connecticut/hc-ne...  41.754561  -72.679231  \n",
       "10   https://philadelphia.cbslocal.com/2020/03/13/c...  39.734839  -75.563741  \n",
       "11   https://www.tcpalm.com/story/news/local/martin...  27.199391  -80.243303  \n",
       "12   https://www.wptv.com/news/region-c-palm-beach-...  26.641752  -80.087597  \n",
       "13   https://www.pnj.com/story/news/2020/03/15/pens...  30.481178  -87.210788  \n",
       "14   https://www.fox13news.com/news/national-guard-...  26.019739  -80.180328  \n",
       "15   https://www.wctv.tv/content/news/Valdostas-Sou...  30.862330  -83.286606  \n",
       "16   https://www.ledger-enquirer.com/news/coronavir...  32.483200  -84.979134  \n",
       "17   https://www.ledger-enquirer.com/news/coronavir...  32.498280  -84.989480  \n",
       "18   https://www.kitv.com/story/41897124/hawaii-tes...  21.419480 -157.802140  \n",
       "19   https://www.kitv.com/story/41897124/hawaii-tes...  21.419479 -157.802139  \n",
       "20   https://wgntv.com/news/coronavirus/suburban-ho...  42.195604  -88.173205  \n",
       "21   https://www.fox32chicago.com/news/hospital-in-...  42.193861  -88.182121  \n",
       "22   https://www.nbcchicago.com/news/local/northwes...  41.708080  -86.877950  \n",
       "23   https://www.wibw.com/content/news/Stormont-Vai...  39.051670  -95.695028  \n",
       "24   https://www.wrkf.org/post/louisianas-first-dri...  30.449546  -91.153092  \n",
       "25   https://www.wpri.com/health/coronavirus/massac...  41.688000  -70.336430  \n",
       "26   https://www.nbcboston.com/news/local/remote-co...  41.564415  -70.622307  \n",
       "27   https://www.nbcboston.com/news/local/remote-co...  41.652951  -70.273178  \n",
       "28   https://www.baltimoresun.com/coronavirus/bs-hs...  39.558286  -76.990377  \n",
       "29   https://baltimore.cbslocal.com/2020/03/13/coro...  39.519134  -76.346384  \n",
       "30   https://www.nbcwashington.com/news/local/drive...  38.299590  -76.640781  \n",
       "31   https://www.crainsdetroit.com/coronavirus/sout...  42.254720  -84.465680  \n",
       "32   https://www.crainsdetroit.com/coronavirus/sout...  42.515387  -83.193281  \n",
       "33   https://www.crainsdetroit.com/coronavirus/sout...  42.289892  -83.214738  \n",
       "34   https://www.crainsdetroit.com/coronavirus/sout...  42.619154  -83.092572  \n",
       "35   https://www.crainsdetroit.com/coronavirus/sout...  42.446379  -83.323736  \n",
       "36   https://www.woodtv.com/health/coronavirus/spec...  42.969420  -85.636429  \n",
       "37   https://www.postbulletin.com/life/health/mayo-...  44.019210  -92.487930  \n",
       "38   https://www.kmov.com/news/mercy-collects-tests...  38.651463  -90.558906  \n",
       "39   https://www.djournal.com/news/drive-thru-covid...  34.315931  -88.705076  \n",
       "40   https://www.djournal.com/news/drive-thru-covid...  34.239764  -88.400269  \n",
       "41   https://www.citizen-times.com/story/news/local...  35.487077  -82.567176  \n",
       "42   https://www.citizen-times.com/story/news/local...  35.613564  -82.561249  \n",
       "43   https://www.bryanhealth.com/about-bryan-health...  40.734095  -96.684085  \n",
       "44   https://www.unionleader.com/news/health/corona...  43.002010  -71.466310  \n",
       "45   https://patch.com/new-hampshire/londonderry/el...  42.984138  -71.437317  \n",
       "46   http://newjersey.news12.com/story/41896736/dri...  40.793667  -74.068731  \n",
       "47   https://www.nj.com/coronavirus/2020/03/nj-sett...  40.951540  -74.093830  \n",
       "48   https://www.northjersey.com/story/news/bergen/...  40.887932  -74.005348  \n",
       "49     http://immcare.com/locations/marlboro-location/  40.333453  -74.241914  \n",
       "50   https://www.abqjournal.com/1431891/lovelace-te...  35.134373 -106.702202  \n",
       "51   https://www.krqe.com/health/coronavirus-new-me...  35.127167 -106.708975  \n",
       "52   https://news3lv.com/news/local/local-clinic-of...  36.142840 -115.226260  \n",
       "53   https://www.amny.com/editorial/drive-thru-covi...  40.884640  -73.783813  \n",
       "54   https://www.daytondailynews.com/news/local/cor...  39.735841  -84.199970  \n",
       "55   https://www.cincinnati.com/story/news/2020/03/...  39.120436  -84.502341  \n",
       "56   https://fox8.com/news/coronavirus/university-h...  41.503255  -81.469037  \n",
       "57   https://www.nbc4i.com/community/health/coronav...  40.017815  -83.031645  \n",
       "58   https://www.newson6.com/story/41907765/oklahom...  36.075850  -95.903120  \n",
       "59   https://www.phillyvoice.com/coronavirus-testin...  40.042681  -75.358201  \n",
       "60   https://www.phillyvoice.com/coronavirus-testin...  39.987111  -75.410235  \n",
       "61   https://www.wtae.com/article/drive-thru-corona...  40.448730  -80.000850  \n",
       "62   https://www.wtae.com/article/drive-thru-corona...  40.181950  -80.240880  \n",
       "63   https://www.wtae.com/article/drive-thru-corona...  40.611880  -80.286320  \n",
       "64   https://web.musc.edu/about/news-center/2020/03...  32.797787  -80.030756  \n",
       "65   https://www.wistv.com/2020/03/16/prisma-health...  34.027870  -81.033300  \n",
       "66   https://www.wistv.com/2020/03/16/prisma-health...  34.821480  -82.413770  \n",
       "67   https://www.newscenter1.tv/monument-health-add...  44.073355 -103.254773  \n",
       "68   https://wreg.com/news/shelby-county-clinic-off...  35.316610  -89.635740  \n",
       "69   https://www.texastribune.org/2020/03/14/corona...  30.393260  -97.720230  \n",
       "70   https://www.wfaa.com/article/news/health/coron...  32.812654  -96.835932  \n",
       "71   https://www.houstonchronicle.com/news/houston-...  29.711486  -95.494249  \n",
       "72   https://www.abc4.com/news/health/coronavirus/s...  41.091222 -111.995128  \n",
       "73   https://www.abc4.com/news/health/coronavirus/s...  40.587988 -111.975367  \n",
       "74   https://www.abc4.com/news/health/coronavirus/s...  40.425273 -111.878564  \n",
       "75   https://www.abc4.com/news/health/coronavirus/s...  41.091110 -111.995230  \n",
       "76   https://www.abc4.com/news/health/coronavirus/s...  40.590380 -111.974190  \n",
       "77   https://www.abc4.com/news/health/coronavirus/s...  40.425210 -111.878500  \n",
       "78   https://www.13newsnow.com/article/news/health/...  36.775257  -76.098828  \n",
       "79   https://www.13newsnow.com/article/news/health/...  37.336665  -76.740890  \n",
       "80   https://www.13newsnow.com/article/news/health/...  36.652765  -76.230894  \n",
       "81   https://www.nbcwashington.com/news/local/drive...  38.889316  -77.106930  \n",
       "82   https://www.burlingtonfreepress.com/story/news...  42.874199  -73.207550  \n",
       "83   https://addisonindependent.com/news/porter-hos...  43.999889  -73.168541  \n",
       "84   https://www.tmj4.com/news/coronavirus/froedter...  42.555195  -87.890865  \n",
       "85   https://www.whio.com/news/local/coronavirus-dr...  40.550192  -84.583886  \n",
       "86   https://www.clarionledger.com/story/news/2020/...  33.476120  -88.821130  \n",
       "87   https://www.postandcourier.com/health/covid19/...  34.277070  -80.611930  \n",
       "88   https://www.wate.com/news/drive-through-corona...  35.767680  -83.977250  \n",
       "89   https://www.washingtonpost.com/local/virginia-...  38.900930  -77.047720  \n",
       "90   https://www.geekwire.com/2020/uw-medicine-open...  47.714130 -122.336998  \n",
       "91   https://www.kiro7.com/news/local/where-are-coi...  47.814670 -122.306078  \n",
       "92   https://www.kiro7.com/news/local/where-are-coi...  47.154826 -122.279163  \n",
       "93   https://www.kiro7.com/news/local/where-are-coi...  47.579376 -122.160489  \n",
       "94   https://www.kiro7.com/news/local/where-are-coi...  47.056896 -122.842262  \n",
       "95   https://www.kiro7.com/news/local/where-are-coi...  47.619885 -122.312075  \n",
       "96   https://www.kiro7.com/news/local/where-are-coi...  47.658041 -122.686679  \n",
       "97   https://www.kiro7.com/news/local/where-are-coi...  47.472359 -122.336055  \n",
       "98   https://www.kiro7.com/news/local/where-are-coi...  47.535712 -122.021768  \n",
       "99   https://www.kiro7.com/news/local/where-are-coi...  47.606305 -122.321767  \n",
       "100  https://www.kiro7.com/news/local/where-are-coi...  47.802805 -122.333591  \n",
       "101  https://wvumedicine.org/news/article/wvu-medic...  39.653912  -79.957749  \n",
       "102  https://www.wtap.com/content/news/BREAKING-Par...  39.269618  -81.559949  \n",
       "103  https://wtov9.com/news/local/wheeling-hospital...  40.057975  -80.666753  \n",
       "104  https://www.wvnews.com/theet/news/bridgeport-w...  39.328546  -80.239579  \n",
       "105  https://nypost.com/2020/03/19/nycs-first-drive...  40.582200  -74.079470  \n",
       "106  https://www.wyomingnews.com/news/local_news/dr...  41.140052 -104.815170  \n",
       "107  https://www.kivitv.com/news/drive-thru-covid-1...  43.478948 -112.001602  \n",
       "108  https://www.idahostatesman.com/news/coronaviru...  43.598708 -116.353059  \n",
       "109  https://www.idahostatesman.com/news/coronaviru...  43.648703 -114.349951  \n",
       "110  https://www.idahostatesman.com/news/coronaviru...  43.138650 -115.693131  \n",
       "111  https://www.idahostatesman.com/news/coronaviru...  43.617235 -116.589524  \n",
       "112  https://www.idahostatesman.com/news/coronaviru...  42.590956 -114.496583  \n",
       "113  https://www.kfyrtv.com/content/news/Health-off...  48.232260 -101.286197  \n",
       "114  https://6abc.com/health/covid19-montco-cases-j...  40.165290  -75.197320  \n",
       "115  https://www.nbcphiladelphia.com/news/coronavir...  39.906971  -75.166443  \n",
       "116  https://www.5newsonline.com/article/news/healt...  36.329311  -94.175240  \n",
       "117  https://www.thv11.com/mobile/article/news/loca...  35.085860  -92.457180  \n",
       "118  https://www.thehour.com/news/coronavirus/artic...  41.110862  -73.421968  \n",
       "119  https://www.thehour.com/news/coronavirus/artic...  41.189471  -73.167470  \n",
       "120  https://www.thehour.com/news/coronavirus/artic...  41.060055  -73.537312  \n",
       "121  https://www.thehour.com/news/coronavirus/artic...  41.034510  -73.630350  \n",
       "122  https://www.thehour.com/news/coronavirus/artic...  41.175170  -73.129810  \n",
       "123  https://www.thehour.com/news/coronavirus/artic...  41.128570  -73.484840  \n",
       "124  https://www.thehour.com/news/coronavirus/artic...  41.404750  -73.447250  \n",
       "125  https://www.thehour.com/news/coronavirus/artic...  41.285460  -72.929370  \n",
       "126  https://www.delawarepublic.org/post/christiana...  38.753850  -75.163830  \n",
       "127  https://www.miamiherald.com/news/coronavirus/a...  26.077090  -80.367120  \n",
       "128  https://www.miamiherald.com/news/coronavirus/a...  26.275160  -80.118520  \n",
       "129  https://www.miamiherald.com/news/coronavirus/a...  26.012610  -80.314750  \n",
       "130  https://www.miamiherald.com/news/coronavirus/a...  25.565470  -80.357720  \n",
       "131  https://www.onlineathens.com/news/20200319/pie...  33.915540  -83.465230  \n",
       "132  https://www.hawaiinewsnow.com/2020/03/12/urgen...  21.401630 -157.970250  \n",
       "133  https://www.hawaiinewsnow.com/2020/03/12/urgen...  21.333770 -158.083450  \n",
       "134  https://www.hawaiinewsnow.com/2020/03/12/urgen...  21.394300 -157.743090  \n",
       "135  https://www.nbcchicago.com/news/local/drive-th...  41.788200  -87.604490  \n",
       "136  https://www.nbcchicago.com/news/local/drive-th...  42.039371  -87.847572  \n",
       "137  https://www.courierpress.com/story/news/2020/0...  37.983160  -87.571210  \n",
       "138  https://kttc.com/2020/03/18/drive-through-test...  43.155430  -93.204280  \n",
       "139  https://www.wjbf.com/lifestyle/health/coronavi...  33.470410  -82.042000  "
      ]
     },
     "execution_count": 6,
     "metadata": {},
     "output_type": "execute_result"
    }
   ],
   "source": [
    "df"
   ]
  },
  {
   "cell_type": "markdown",
   "metadata": {},
   "source": [
    "### Save dataframe to `csv`"
   ]
  },
  {
   "cell_type": "code",
   "execution_count": 7,
   "metadata": {},
   "outputs": [],
   "source": [
    "df.to_csv(os.path.join(DATA_DIR, 'us-drive-thru-testing-locations.csv'))"
   ]
  },
  {
   "cell_type": "markdown",
   "metadata": {},
   "source": [
    "### Plotting Drive-Thru centers via Plotly Express"
   ]
  },
  {
   "cell_type": "code",
   "execution_count": 14,
   "metadata": {
    "scrolled": false
   },
   "outputs": [
    {
     "data": {
      "application/vnd.plotly.v1+json": {
       "config": {
        "plotlyServerURL": "https://plot.ly"
       },
       "data": [
        {
         "hoverlabel": {
          "namelength": 0
         },
         "hovertemplate": "<b>%{hovertext}</b><br><br>Latitude=%{lat}<br>Longitude=%{lon}",
         "hovertext": [
          " collaborative effort between health care providers ",
          " Church of the Highlands- Grant\\'s Mill ",
          " UAMS ",
          " Mayo Clinic Hospital ",
          " Mayo Clinic ",
          " Stanford Health Care ",
          " Kaiser Permanente French Campus ",
          " Colorado Department of Public Health and Environment State Lab ",
          " Denver Coliseum ",
          " Hartford Hospital ",
          " ChristianaCare ",
          " Cleveland Clinic Martin Health ",
          " FoundCare, Inc. ",
          " Ascension Sacred Heart  ",
          " Memorial Healthcare System in Broward County ",
          " Valdosta\\'s South Georgia Medical Center ",
          " Dept. of Public Health-West Central Health ",
          " MercyMed of Columbus ",
          " Walgreens ",
          " Walgreens/ Premire Medical Group Hawaii ",
          " Advocate Good Shepherd Hospital ",
          " Advocate Good Shepard ",
          " Franciscian Health Michigan City  ",
          " Stormont Vail ",
          " Baton Rouge General Medical Center ",
          " Cape Cod Community College ",
          " Falmouth Hospital ",
          " Cape Cod Hospital ",
          " LifeBridge Health / Carroll Hospital  ",
          " University of Maryland Upper Chesapeake Health ",
          " Medstar St. Mary\\'s Hospital  ",
          " Henry Ford Allegiance Health ",
          " Beaumont Hospital, Royal Oak ",
          " Beaumont Hospital, Dearborn ",
          " Beaumont Hospital, Troy ",
          " Beaumont Hospital, Framington Hills ",
          " Spectrum Health ",
          " Mayo Family Clinic Northwest ",
          " Mercy Virtual Care Center  ",
          " Med Plus Clinic ",
          " Med Plus Clinic ",
          " Biltmore Church ",
          " UNC Asheville Health ",
          " Bryan Urgent Care ",
          " New Hampshire National Gaurd Armory ",
          " Elliot Hospital ",
          " Riverside Medical Group ",
          " Bergen County Community College ",
          " Holy Name Medical Center ",
          " IMMEDIATE CARE ",
          " Lovelace Medical Center PRESNow ",
          " PMG Urgent Care ",
          " Sahara West Urgent Care & Wellness ",
          " Glen Island Park ",
          " University of Dayton Arena ",
          " UC Health West Medical  ",
          " UH Landerbrook Health Center ",
          " Jameson Crane Sports Medicine Institute ",
          " Access Solutions Medical Group ",
          " Penn Medicine Radnor ",
          " Main Line Health Center in Newtown Square ",
          " Central Outreach Wellness Center ",
          " Central Outreach Wellness Center ",
          " Central Outreach Wellness Center ",
          " MUSC Health West Ashley Medical Pavilion ",
          " Prisma Health Richland Hospital North Portal ",
          " Prisma Health Greenville Memorial Medical Campus ",
          " Monument Health Rapid City Urgent Care ",
          " Womens Health Care Group ",
          " Baylor Scott and White ",
          " Parkland Hospital ",
          " My Family Doctor clinic ",
          " Davis Hospital & Medical Center ",
          " Jordan Valley Medical Center ",
          " Mountain Point Medical Center ",
          " Davis Hospital and Medical Center ",
          " Jordan Valley Medical Center ",
          " Mountain Point Medical Center ",
          " Sentara Princess Anne Hospital ",
          " Sentara Williamsburg Regional Medical Center ",
          " Sentara Edinburgh ",
          " Virginia Hospital Center ",
          " Southwestern Vermont Medical Center ",
          " Porter Medical Center ",
          " Froedtrent South Pleasant Prarie Clinic ",
          " Mercer County Fairgrounds ",
          " OCH Regional Medical Center: ",
          " Sandhills Medical Foundation ",
          " East Tennessee Medical Group ",
          " George Washington University Hospital ",
          " UW Medical Center Northwest ",
          " Kaiser Permanente Lynnwood Medical Center ",
          " Kaiser Permanente Puyallup Medical Center ",
          " Kaiser Permanente Factoria Medical Center ",
          " Kaiser Permanente Olympia Medical Center ",
          " Seattle Kaiser Permanente Capitol Hill Campus ",
          " Kaiser Permanente Silverdale Medical Center ",
          " Kaiser Permanente Burien Medical Center ",
          " Swedish Issaquah Campus ",
          " Swedish First Hill ",
          " Swedish Edmonds Campus ",
          " West Virginia University Medicine ",
          " WVU Camden Clark Medical Center ",
          " Wheeling Hospital, Wheeling Park (parking lot) ",
          " WVU United Hospital Center ",
          " South Beach Psychiatric Center ",
          " Cheyenne Regional Medical Center ",
          " Mountain View Hospital ",
          " St. Luke\\'s Meridian Medical Center ",
          " St. Luke\\'s Wood River Hospital ",
          " St. Luke\\'s Elmore Medical Center ",
          " Saltzer Medical Group ",
          " St. Luke\\'s Magic Valley Medical Center ",
          " Trinity Medical Arts Clinic ",
          " Temple University- Ambler Campus  ",
          " Citizens Bank Park ",
          " Mercy Coronavirus Evaluation Site ",
          " Conway Regional Hospital System  ",
          " Norwalk Hospital ",
          " Bridgeport Hospital ",
          " Murphy Medical Associates ",
          " Greenwich Hospital ",
          " Murphy Medical Associates ",
          " Murphy Medical Associates ",
          " Danbury Hospital  ",
          " Yale- New Haven ",
          " Bayview Medical Center ",
          " Cleveland Clinic Florida ",
          " Broward Health  ",
          " Memorial Hospital West-C.B. Park ",
          " Doris Ison Health Center ",
          " Piedmont Athens- Oconee Health Campus ",
          " Urgent Care Hawaii-Pearl City ",
          " Urgent Care Hawaii--Kapolei ",
          " Urgent Care Hawaii-Kailua ",
          " University of Chicago Medical Center ",
          " Advocate Lutheran General Hospital  ",
          " Deaconess Midtown Hospital  ",
          " North Iowa Events Center ",
          " Augusta University Health System- Christenberry Fieldhouse "
         ],
         "lat": [
          61.1828699,
          33.51699910000001,
          34.749005100000005,
          33.66211083,
          33.586042299999995,
          37.441514899999994,
          37.780666100000005,
          39.71696,
          39.780581700000006,
          41.754560999999995,
          39.7348389,
          27.199390500000003,
          26.6417515,
          30.481178000000003,
          26.019739,
          30.8623305,
          32.4832,
          32.49828,
          21.41948,
          21.419479,
          42.19560429999999,
          42.19386055,
          41.708079999999995,
          39.0516701,
          30.449546299999998,
          41.688,
          41.564415000000004,
          41.652951,
          39.558286100000004,
          39.5191344,
          38.29958962,
          42.25472,
          42.51538660000001,
          42.289891600000004,
          42.6191539,
          42.4463793,
          42.96942,
          44.01921,
          38.65146299,
          34.3159308,
          34.2397644,
          35.4870769,
          35.613563899999995,
          40.7340951,
          43.00201,
          42.984138,
          40.7936668,
          40.95154,
          40.887932,
          40.333453399999996,
          35.1343734,
          35.127167,
          36.14284,
          40.884640000000005,
          39.7358407,
          39.120435799999996,
          41.503254999999996,
          40.017815,
          36.07585,
          40.042680600000004,
          39.9871109,
          40.44873,
          40.18195,
          40.61188,
          32.7977875,
          34.02787,
          34.82148,
          44.0733552,
          35.31661,
          30.393259999999998,
          32.8126539,
          29.7114865,
          41.091221999999995,
          40.58798839999999,
          40.425272799999995,
          41.09111,
          40.590379999999996,
          40.42521,
          36.7752571,
          37.336665,
          36.6527646,
          38.8893156,
          42.874199,
          43.999889,
          42.5551949,
          40.550191999999996,
          33.47612,
          34.27707,
          35.76768,
          38.900929999999995,
          47.71413,
          47.81467049,
          47.15482636,
          47.57937631,
          47.05689595,
          47.61988495,
          47.65804056,
          47.47235926,
          47.535712100000005,
          47.6063055,
          47.80280535,
          39.6539117,
          39.2696181,
          40.0579749,
          39.328546,
          40.5822,
          41.140052000000004,
          43.478947999999995,
          43.598708,
          43.648703000000005,
          43.13865,
          43.617235,
          42.590956,
          48.23226,
          40.16529,
          39.906971,
          36.329311,
          35.08586,
          41.1108619,
          41.18947085,
          41.06005506,
          41.03451,
          41.17517,
          41.12857,
          41.40475,
          41.28546,
          38.75385,
          26.07709,
          26.275159999999996,
          26.012610000000002,
          25.56547,
          33.91554,
          21.401629999999997,
          21.33377,
          21.3943,
          41.7882,
          42.039371,
          37.98316,
          43.155429999999996,
          33.47041
         ],
         "legendgroup": "",
         "lon": [
          -149.837269,
          -86.6558468,
          -92.32009649999999,
          -111.95351289999999,
          -111.7940787,
          -122.1686795,
          -122.4637656,
          -104.89399999999999,
          -104.9719301,
          -72.679231,
          -75.56374090000001,
          -80.2433033,
          -80.0875967,
          -87.210788,
          -80.180328,
          -83.28660579999999,
          -84.979134,
          -84.98948,
          -157.80213999999998,
          -157.80213899999998,
          -88.1732048,
          -88.18212083,
          -86.87795,
          -95.6950282,
          -91.1530923,
          -70.33643000000001,
          -70.62230699999999,
          -70.273178,
          -76.990377,
          -76.3463844,
          -76.64078128,
          -84.46568,
          -83.193281,
          -83.2147379,
          -83.09257240000001,
          -83.323736,
          -85.6364292,
          -92.48793,
          -90.55890626,
          -88.7050755,
          -88.40026920000001,
          -82.56717590000001,
          -82.56124940000001,
          -96.6840854,
          -71.46631,
          -71.43731700000001,
          -74.0687306,
          -74.09383000000001,
          -74.005348,
          -74.24191359999999,
          -106.70220220000002,
          -106.7089755,
          -115.22626000000001,
          -73.783813,
          -84.1999699,
          -84.5023411,
          -81.469037,
          -83.031645,
          -95.90312,
          -75.35820079999999,
          -75.4102349,
          -80.00085,
          -80.24088,
          -80.28631999999999,
          -80.0307564,
          -81.0333,
          -82.41377,
          -103.2547728,
          -89.63574,
          -97.72023,
          -96.8359325,
          -95.4942494,
          -111.99512800000001,
          -111.97536699999999,
          -111.87856380000001,
          -111.99523,
          -111.97419,
          -111.8785,
          -76.0988283,
          -76.74089000000001,
          -76.23089399999999,
          -77.10692970000001,
          -73.20755,
          -73.168541,
          -87.890865,
          -84.58388599999999,
          -88.82113000000001,
          -80.61193,
          -83.97725,
          -77.04772,
          -122.336998,
          -122.3060784,
          -122.2791635,
          -122.1604894,
          -122.8422618,
          -122.312075,
          -122.6866795,
          -122.336055,
          -122.02176809999999,
          -122.3217666,
          -122.33359109999998,
          -79.95774859999999,
          -81.5599487,
          -80.6667535,
          -80.239579,
          -74.07947,
          -104.81517,
          -112.001602,
          -116.353059,
          -114.349951,
          -115.69313100000001,
          -116.589524,
          -114.496583,
          -101.286197,
          -75.19731999999999,
          -75.166443,
          -94.17524,
          -92.45718000000001,
          -73.42196835,
          -73.1674697,
          -73.5373122,
          -73.63035,
          -73.12980999999999,
          -73.48484,
          -73.44725,
          -72.92936999999999,
          -75.16383,
          -80.36712,
          -80.11851999999999,
          -80.31475,
          -80.35772,
          -83.46523,
          -157.97025,
          -158.08345,
          -157.74309,
          -87.60449,
          -87.847572,
          -87.57121,
          -93.20428000000001,
          -82.042
         ],
         "marker": {
          "color": "#636efa"
         },
         "mode": "markers",
         "name": "",
         "showlegend": false,
         "subplot": "mapbox",
         "type": "scattermapbox"
        }
       ],
       "layout": {
        "legend": {
         "tracegroupgap": 0
        },
        "mapbox": {
         "accesstoken": "pk.eyJ1IjoiaHVuZ3J5cGllMDAiLCJhIjoiY2s4M3ZmYzR6MDNsMTNvcGZ2Z2lhNTEzeiJ9.IQaySE7GpM6Zgx2xfDuGbw",
         "center": {
          "lat": 38.59679631164285,
          "lon": -93.12449141942858
         },
         "domain": {
          "x": [
           0,
           1
          ],
          "y": [
           0,
           1
          ]
         },
         "style": "dark",
         "zoom": 3
        },
        "margin": {
         "b": 0,
         "l": 0,
         "r": 0,
         "t": 0
        },
        "template": {
         "data": {
          "bar": [
           {
            "error_x": {
             "color": "#2a3f5f"
            },
            "error_y": {
             "color": "#2a3f5f"
            },
            "marker": {
             "line": {
              "color": "#E5ECF6",
              "width": 0.5
             }
            },
            "type": "bar"
           }
          ],
          "barpolar": [
           {
            "marker": {
             "line": {
              "color": "#E5ECF6",
              "width": 0.5
             }
            },
            "type": "barpolar"
           }
          ],
          "carpet": [
           {
            "aaxis": {
             "endlinecolor": "#2a3f5f",
             "gridcolor": "white",
             "linecolor": "white",
             "minorgridcolor": "white",
             "startlinecolor": "#2a3f5f"
            },
            "baxis": {
             "endlinecolor": "#2a3f5f",
             "gridcolor": "white",
             "linecolor": "white",
             "minorgridcolor": "white",
             "startlinecolor": "#2a3f5f"
            },
            "type": "carpet"
           }
          ],
          "choropleth": [
           {
            "colorbar": {
             "outlinewidth": 0,
             "ticks": ""
            },
            "type": "choropleth"
           }
          ],
          "contour": [
           {
            "colorbar": {
             "outlinewidth": 0,
             "ticks": ""
            },
            "colorscale": [
             [
              0,
              "#0d0887"
             ],
             [
              0.1111111111111111,
              "#46039f"
             ],
             [
              0.2222222222222222,
              "#7201a8"
             ],
             [
              0.3333333333333333,
              "#9c179e"
             ],
             [
              0.4444444444444444,
              "#bd3786"
             ],
             [
              0.5555555555555556,
              "#d8576b"
             ],
             [
              0.6666666666666666,
              "#ed7953"
             ],
             [
              0.7777777777777778,
              "#fb9f3a"
             ],
             [
              0.8888888888888888,
              "#fdca26"
             ],
             [
              1,
              "#f0f921"
             ]
            ],
            "type": "contour"
           }
          ],
          "contourcarpet": [
           {
            "colorbar": {
             "outlinewidth": 0,
             "ticks": ""
            },
            "type": "contourcarpet"
           }
          ],
          "heatmap": [
           {
            "colorbar": {
             "outlinewidth": 0,
             "ticks": ""
            },
            "colorscale": [
             [
              0,
              "#0d0887"
             ],
             [
              0.1111111111111111,
              "#46039f"
             ],
             [
              0.2222222222222222,
              "#7201a8"
             ],
             [
              0.3333333333333333,
              "#9c179e"
             ],
             [
              0.4444444444444444,
              "#bd3786"
             ],
             [
              0.5555555555555556,
              "#d8576b"
             ],
             [
              0.6666666666666666,
              "#ed7953"
             ],
             [
              0.7777777777777778,
              "#fb9f3a"
             ],
             [
              0.8888888888888888,
              "#fdca26"
             ],
             [
              1,
              "#f0f921"
             ]
            ],
            "type": "heatmap"
           }
          ],
          "heatmapgl": [
           {
            "colorbar": {
             "outlinewidth": 0,
             "ticks": ""
            },
            "colorscale": [
             [
              0,
              "#0d0887"
             ],
             [
              0.1111111111111111,
              "#46039f"
             ],
             [
              0.2222222222222222,
              "#7201a8"
             ],
             [
              0.3333333333333333,
              "#9c179e"
             ],
             [
              0.4444444444444444,
              "#bd3786"
             ],
             [
              0.5555555555555556,
              "#d8576b"
             ],
             [
              0.6666666666666666,
              "#ed7953"
             ],
             [
              0.7777777777777778,
              "#fb9f3a"
             ],
             [
              0.8888888888888888,
              "#fdca26"
             ],
             [
              1,
              "#f0f921"
             ]
            ],
            "type": "heatmapgl"
           }
          ],
          "histogram": [
           {
            "marker": {
             "colorbar": {
              "outlinewidth": 0,
              "ticks": ""
             }
            },
            "type": "histogram"
           }
          ],
          "histogram2d": [
           {
            "colorbar": {
             "outlinewidth": 0,
             "ticks": ""
            },
            "colorscale": [
             [
              0,
              "#0d0887"
             ],
             [
              0.1111111111111111,
              "#46039f"
             ],
             [
              0.2222222222222222,
              "#7201a8"
             ],
             [
              0.3333333333333333,
              "#9c179e"
             ],
             [
              0.4444444444444444,
              "#bd3786"
             ],
             [
              0.5555555555555556,
              "#d8576b"
             ],
             [
              0.6666666666666666,
              "#ed7953"
             ],
             [
              0.7777777777777778,
              "#fb9f3a"
             ],
             [
              0.8888888888888888,
              "#fdca26"
             ],
             [
              1,
              "#f0f921"
             ]
            ],
            "type": "histogram2d"
           }
          ],
          "histogram2dcontour": [
           {
            "colorbar": {
             "outlinewidth": 0,
             "ticks": ""
            },
            "colorscale": [
             [
              0,
              "#0d0887"
             ],
             [
              0.1111111111111111,
              "#46039f"
             ],
             [
              0.2222222222222222,
              "#7201a8"
             ],
             [
              0.3333333333333333,
              "#9c179e"
             ],
             [
              0.4444444444444444,
              "#bd3786"
             ],
             [
              0.5555555555555556,
              "#d8576b"
             ],
             [
              0.6666666666666666,
              "#ed7953"
             ],
             [
              0.7777777777777778,
              "#fb9f3a"
             ],
             [
              0.8888888888888888,
              "#fdca26"
             ],
             [
              1,
              "#f0f921"
             ]
            ],
            "type": "histogram2dcontour"
           }
          ],
          "mesh3d": [
           {
            "colorbar": {
             "outlinewidth": 0,
             "ticks": ""
            },
            "type": "mesh3d"
           }
          ],
          "parcoords": [
           {
            "line": {
             "colorbar": {
              "outlinewidth": 0,
              "ticks": ""
             }
            },
            "type": "parcoords"
           }
          ],
          "pie": [
           {
            "automargin": true,
            "type": "pie"
           }
          ],
          "scatter": [
           {
            "marker": {
             "colorbar": {
              "outlinewidth": 0,
              "ticks": ""
             }
            },
            "type": "scatter"
           }
          ],
          "scatter3d": [
           {
            "line": {
             "colorbar": {
              "outlinewidth": 0,
              "ticks": ""
             }
            },
            "marker": {
             "colorbar": {
              "outlinewidth": 0,
              "ticks": ""
             }
            },
            "type": "scatter3d"
           }
          ],
          "scattercarpet": [
           {
            "marker": {
             "colorbar": {
              "outlinewidth": 0,
              "ticks": ""
             }
            },
            "type": "scattercarpet"
           }
          ],
          "scattergeo": [
           {
            "marker": {
             "colorbar": {
              "outlinewidth": 0,
              "ticks": ""
             }
            },
            "type": "scattergeo"
           }
          ],
          "scattergl": [
           {
            "marker": {
             "colorbar": {
              "outlinewidth": 0,
              "ticks": ""
             }
            },
            "type": "scattergl"
           }
          ],
          "scattermapbox": [
           {
            "marker": {
             "colorbar": {
              "outlinewidth": 0,
              "ticks": ""
             }
            },
            "type": "scattermapbox"
           }
          ],
          "scatterpolar": [
           {
            "marker": {
             "colorbar": {
              "outlinewidth": 0,
              "ticks": ""
             }
            },
            "type": "scatterpolar"
           }
          ],
          "scatterpolargl": [
           {
            "marker": {
             "colorbar": {
              "outlinewidth": 0,
              "ticks": ""
             }
            },
            "type": "scatterpolargl"
           }
          ],
          "scatterternary": [
           {
            "marker": {
             "colorbar": {
              "outlinewidth": 0,
              "ticks": ""
             }
            },
            "type": "scatterternary"
           }
          ],
          "surface": [
           {
            "colorbar": {
             "outlinewidth": 0,
             "ticks": ""
            },
            "colorscale": [
             [
              0,
              "#0d0887"
             ],
             [
              0.1111111111111111,
              "#46039f"
             ],
             [
              0.2222222222222222,
              "#7201a8"
             ],
             [
              0.3333333333333333,
              "#9c179e"
             ],
             [
              0.4444444444444444,
              "#bd3786"
             ],
             [
              0.5555555555555556,
              "#d8576b"
             ],
             [
              0.6666666666666666,
              "#ed7953"
             ],
             [
              0.7777777777777778,
              "#fb9f3a"
             ],
             [
              0.8888888888888888,
              "#fdca26"
             ],
             [
              1,
              "#f0f921"
             ]
            ],
            "type": "surface"
           }
          ],
          "table": [
           {
            "cells": {
             "fill": {
              "color": "#EBF0F8"
             },
             "line": {
              "color": "white"
             }
            },
            "header": {
             "fill": {
              "color": "#C8D4E3"
             },
             "line": {
              "color": "white"
             }
            },
            "type": "table"
           }
          ]
         },
         "layout": {
          "annotationdefaults": {
           "arrowcolor": "#2a3f5f",
           "arrowhead": 0,
           "arrowwidth": 1
          },
          "coloraxis": {
           "colorbar": {
            "outlinewidth": 0,
            "ticks": ""
           }
          },
          "colorscale": {
           "diverging": [
            [
             0,
             "#8e0152"
            ],
            [
             0.1,
             "#c51b7d"
            ],
            [
             0.2,
             "#de77ae"
            ],
            [
             0.3,
             "#f1b6da"
            ],
            [
             0.4,
             "#fde0ef"
            ],
            [
             0.5,
             "#f7f7f7"
            ],
            [
             0.6,
             "#e6f5d0"
            ],
            [
             0.7,
             "#b8e186"
            ],
            [
             0.8,
             "#7fbc41"
            ],
            [
             0.9,
             "#4d9221"
            ],
            [
             1,
             "#276419"
            ]
           ],
           "sequential": [
            [
             0,
             "#0d0887"
            ],
            [
             0.1111111111111111,
             "#46039f"
            ],
            [
             0.2222222222222222,
             "#7201a8"
            ],
            [
             0.3333333333333333,
             "#9c179e"
            ],
            [
             0.4444444444444444,
             "#bd3786"
            ],
            [
             0.5555555555555556,
             "#d8576b"
            ],
            [
             0.6666666666666666,
             "#ed7953"
            ],
            [
             0.7777777777777778,
             "#fb9f3a"
            ],
            [
             0.8888888888888888,
             "#fdca26"
            ],
            [
             1,
             "#f0f921"
            ]
           ],
           "sequentialminus": [
            [
             0,
             "#0d0887"
            ],
            [
             0.1111111111111111,
             "#46039f"
            ],
            [
             0.2222222222222222,
             "#7201a8"
            ],
            [
             0.3333333333333333,
             "#9c179e"
            ],
            [
             0.4444444444444444,
             "#bd3786"
            ],
            [
             0.5555555555555556,
             "#d8576b"
            ],
            [
             0.6666666666666666,
             "#ed7953"
            ],
            [
             0.7777777777777778,
             "#fb9f3a"
            ],
            [
             0.8888888888888888,
             "#fdca26"
            ],
            [
             1,
             "#f0f921"
            ]
           ]
          },
          "colorway": [
           "#636efa",
           "#EF553B",
           "#00cc96",
           "#ab63fa",
           "#FFA15A",
           "#19d3f3",
           "#FF6692",
           "#B6E880",
           "#FF97FF",
           "#FECB52"
          ],
          "font": {
           "color": "#2a3f5f"
          },
          "geo": {
           "bgcolor": "white",
           "lakecolor": "white",
           "landcolor": "#E5ECF6",
           "showlakes": true,
           "showland": true,
           "subunitcolor": "white"
          },
          "hoverlabel": {
           "align": "left"
          },
          "hovermode": "closest",
          "mapbox": {
           "style": "light"
          },
          "paper_bgcolor": "white",
          "plot_bgcolor": "#E5ECF6",
          "polar": {
           "angularaxis": {
            "gridcolor": "white",
            "linecolor": "white",
            "ticks": ""
           },
           "bgcolor": "#E5ECF6",
           "radialaxis": {
            "gridcolor": "white",
            "linecolor": "white",
            "ticks": ""
           }
          },
          "scene": {
           "xaxis": {
            "backgroundcolor": "#E5ECF6",
            "gridcolor": "white",
            "gridwidth": 2,
            "linecolor": "white",
            "showbackground": true,
            "ticks": "",
            "zerolinecolor": "white"
           },
           "yaxis": {
            "backgroundcolor": "#E5ECF6",
            "gridcolor": "white",
            "gridwidth": 2,
            "linecolor": "white",
            "showbackground": true,
            "ticks": "",
            "zerolinecolor": "white"
           },
           "zaxis": {
            "backgroundcolor": "#E5ECF6",
            "gridcolor": "white",
            "gridwidth": 2,
            "linecolor": "white",
            "showbackground": true,
            "ticks": "",
            "zerolinecolor": "white"
           }
          },
          "shapedefaults": {
           "line": {
            "color": "#2a3f5f"
           }
          },
          "ternary": {
           "aaxis": {
            "gridcolor": "white",
            "linecolor": "white",
            "ticks": ""
           },
           "baxis": {
            "gridcolor": "white",
            "linecolor": "white",
            "ticks": ""
           },
           "bgcolor": "#E5ECF6",
           "caxis": {
            "gridcolor": "white",
            "linecolor": "white",
            "ticks": ""
           }
          },
          "title": {
           "x": 0.05
          },
          "xaxis": {
           "automargin": true,
           "gridcolor": "white",
           "linecolor": "white",
           "ticks": "",
           "title": {
            "standoff": 15
           },
           "zerolinecolor": "white",
           "zerolinewidth": 2
          },
          "yaxis": {
           "automargin": true,
           "gridcolor": "white",
           "linecolor": "white",
           "ticks": "",
           "title": {
            "standoff": 15
           },
           "zerolinecolor": "white",
           "zerolinewidth": 2
          }
         }
        }
       }
      },
      "text/html": [
       "<div>\n",
       "        \n",
       "        \n",
       "            <div id=\"d772d708-7290-4abf-9980-3a1680150b64\" class=\"plotly-graph-div\" style=\"height:525px; width:100%;\"></div>\n",
       "            <script type=\"text/javascript\">\n",
       "                require([\"plotly\"], function(Plotly) {\n",
       "                    window.PLOTLYENV=window.PLOTLYENV || {};\n",
       "                    \n",
       "                if (document.getElementById(\"d772d708-7290-4abf-9980-3a1680150b64\")) {\n",
       "                    Plotly.newPlot(\n",
       "                        'd772d708-7290-4abf-9980-3a1680150b64',\n",
       "                        [{\"hoverlabel\": {\"namelength\": 0}, \"hovertemplate\": \"<b>%{hovertext}</b><br><br>Latitude=%{lat}<br>Longitude=%{lon}\", \"hovertext\": [\" collaborative effort between health care providers \", \" Church of the Highlands- Grant\\\\'s Mill \", \" UAMS \", \" Mayo Clinic Hospital \", \" Mayo Clinic \", \" Stanford Health Care \", \" Kaiser Permanente French Campus \", \" Colorado Department of Public Health and Environment State Lab \", \" Denver Coliseum \", \" Hartford Hospital \", \" ChristianaCare \", \" Cleveland Clinic Martin Health \", \" FoundCare, Inc. \", \" Ascension Sacred Heart  \", \" Memorial Healthcare System in Broward County \", \" Valdosta\\\\'s South Georgia Medical Center \", \" Dept. of Public Health-West Central Health \", \" MercyMed of Columbus \", \" Walgreens \", \" Walgreens/ Premire Medical Group Hawaii \", \" Advocate Good Shepherd Hospital \", \" Advocate Good Shepard \", \" Franciscian Health Michigan City  \", \" Stormont Vail \", \" Baton Rouge General Medical Center \", \" Cape Cod Community College \", \" Falmouth Hospital \", \" Cape Cod Hospital \", \" LifeBridge Health / Carroll Hospital  \", \" University of Maryland Upper Chesapeake Health \", \" Medstar St. Mary\\\\'s Hospital  \", \" Henry Ford Allegiance Health \", \" Beaumont Hospital, Royal Oak \", \" Beaumont Hospital, Dearborn \", \" Beaumont Hospital, Troy \", \" Beaumont Hospital, Framington Hills \", \" Spectrum Health \", \" Mayo Family Clinic Northwest \", \" Mercy Virtual Care Center  \", \" Med Plus Clinic \", \" Med Plus Clinic \", \" Biltmore Church \", \" UNC Asheville Health \", \" Bryan Urgent Care \", \" New Hampshire National Gaurd Armory \", \" Elliot Hospital \", \" Riverside Medical Group \", \" Bergen County Community College \", \" Holy Name Medical Center \", \" IMMEDIATE CARE \", \" Lovelace Medical Center PRESNow \", \" PMG Urgent Care \", \" Sahara West Urgent Care & Wellness \", \" Glen Island Park \", \" University of Dayton Arena \", \" UC Health West Medical  \", \" UH Landerbrook Health Center \", \" Jameson Crane Sports Medicine Institute \", \" Access Solutions Medical Group \", \" Penn Medicine Radnor \", \" Main Line Health Center in Newtown Square \", \" Central Outreach Wellness Center \", \" Central Outreach Wellness Center \", \" Central Outreach Wellness Center \", \" MUSC Health West Ashley Medical Pavilion \", \" Prisma Health Richland Hospital North Portal \", \" Prisma Health Greenville Memorial Medical Campus \", \" Monument Health Rapid City Urgent Care \", \" Womens Health Care Group \", \" Baylor Scott and White \", \" Parkland Hospital \", \" My Family Doctor clinic \", \" Davis Hospital & Medical Center \", \" Jordan Valley Medical Center \", \" Mountain Point Medical Center \", \" Davis Hospital and Medical Center \", \" Jordan Valley Medical Center \", \" Mountain Point Medical Center \", \" Sentara Princess Anne Hospital \", \" Sentara Williamsburg Regional Medical Center \", \" Sentara Edinburgh \", \" Virginia Hospital Center \", \" Southwestern Vermont Medical Center \", \" Porter Medical Center \", \" Froedtrent South Pleasant Prarie Clinic \", \" Mercer County Fairgrounds \", \" OCH Regional Medical Center: \", \" Sandhills Medical Foundation \", \" East Tennessee Medical Group \", \" George Washington University Hospital \", \" UW Medical Center Northwest \", \" Kaiser Permanente Lynnwood Medical Center \", \" Kaiser Permanente Puyallup Medical Center \", \" Kaiser Permanente Factoria Medical Center \", \" Kaiser Permanente Olympia Medical Center \", \" Seattle Kaiser Permanente Capitol Hill Campus \", \" Kaiser Permanente Silverdale Medical Center \", \" Kaiser Permanente Burien Medical Center \", \" Swedish Issaquah Campus \", \" Swedish First Hill \", \" Swedish Edmonds Campus \", \" West Virginia University Medicine \", \" WVU Camden Clark Medical Center \", \" Wheeling Hospital, Wheeling Park (parking lot) \", \" WVU United Hospital Center \", \" South Beach Psychiatric Center \", \" Cheyenne Regional Medical Center \", \" Mountain View Hospital \", \" St. Luke\\\\'s Meridian Medical Center \", \" St. Luke\\\\'s Wood River Hospital \", \" St. Luke\\\\'s Elmore Medical Center \", \" Saltzer Medical Group \", \" St. Luke\\\\'s Magic Valley Medical Center \", \" Trinity Medical Arts Clinic \", \" Temple University- Ambler Campus  \", \" Citizens Bank Park \", \" Mercy Coronavirus Evaluation Site \", \" Conway Regional Hospital System  \", \" Norwalk Hospital \", \" Bridgeport Hospital \", \" Murphy Medical Associates \", \" Greenwich Hospital \", \" Murphy Medical Associates \", \" Murphy Medical Associates \", \" Danbury Hospital  \", \" Yale- New Haven \", \" Bayview Medical Center \", \" Cleveland Clinic Florida \", \" Broward Health  \", \" Memorial Hospital West-C.B. Park \", \" Doris Ison Health Center \", \" Piedmont Athens- Oconee Health Campus \", \" Urgent Care Hawaii-Pearl City \", \" Urgent Care Hawaii--Kapolei \", \" Urgent Care Hawaii-Kailua \", \" University of Chicago Medical Center \", \" Advocate Lutheran General Hospital  \", \" Deaconess Midtown Hospital  \", \" North Iowa Events Center \", \" Augusta University Health System- Christenberry Fieldhouse \"], \"lat\": [61.1828699, 33.51699910000001, 34.749005100000005, 33.66211083, 33.586042299999995, 37.441514899999994, 37.780666100000005, 39.71696, 39.780581700000006, 41.754560999999995, 39.7348389, 27.199390500000003, 26.6417515, 30.481178000000003, 26.019739, 30.8623305, 32.4832, 32.49828, 21.41948, 21.419479, 42.19560429999999, 42.19386055, 41.708079999999995, 39.0516701, 30.449546299999998, 41.688, 41.564415000000004, 41.652951, 39.558286100000004, 39.5191344, 38.29958962, 42.25472, 42.51538660000001, 42.289891600000004, 42.6191539, 42.4463793, 42.96942, 44.01921, 38.65146299, 34.3159308, 34.2397644, 35.4870769, 35.613563899999995, 40.7340951, 43.00201, 42.984138, 40.7936668, 40.95154, 40.887932, 40.333453399999996, 35.1343734, 35.127167, 36.14284, 40.884640000000005, 39.7358407, 39.120435799999996, 41.503254999999996, 40.017815, 36.07585, 40.042680600000004, 39.9871109, 40.44873, 40.18195, 40.61188, 32.7977875, 34.02787, 34.82148, 44.0733552, 35.31661, 30.393259999999998, 32.8126539, 29.7114865, 41.091221999999995, 40.58798839999999, 40.425272799999995, 41.09111, 40.590379999999996, 40.42521, 36.7752571, 37.336665, 36.6527646, 38.8893156, 42.874199, 43.999889, 42.5551949, 40.550191999999996, 33.47612, 34.27707, 35.76768, 38.900929999999995, 47.71413, 47.81467049, 47.15482636, 47.57937631, 47.05689595, 47.61988495, 47.65804056, 47.47235926, 47.535712100000005, 47.6063055, 47.80280535, 39.6539117, 39.2696181, 40.0579749, 39.328546, 40.5822, 41.140052000000004, 43.478947999999995, 43.598708, 43.648703000000005, 43.13865, 43.617235, 42.590956, 48.23226, 40.16529, 39.906971, 36.329311, 35.08586, 41.1108619, 41.18947085, 41.06005506, 41.03451, 41.17517, 41.12857, 41.40475, 41.28546, 38.75385, 26.07709, 26.275159999999996, 26.012610000000002, 25.56547, 33.91554, 21.401629999999997, 21.33377, 21.3943, 41.7882, 42.039371, 37.98316, 43.155429999999996, 33.47041], \"legendgroup\": \"\", \"lon\": [-149.837269, -86.6558468, -92.32009649999999, -111.95351289999999, -111.7940787, -122.1686795, -122.4637656, -104.89399999999999, -104.9719301, -72.679231, -75.56374090000001, -80.2433033, -80.0875967, -87.210788, -80.180328, -83.28660579999999, -84.979134, -84.98948, -157.80213999999998, -157.80213899999998, -88.1732048, -88.18212083, -86.87795, -95.6950282, -91.1530923, -70.33643000000001, -70.62230699999999, -70.273178, -76.990377, -76.3463844, -76.64078128, -84.46568, -83.193281, -83.2147379, -83.09257240000001, -83.323736, -85.6364292, -92.48793, -90.55890626, -88.7050755, -88.40026920000001, -82.56717590000001, -82.56124940000001, -96.6840854, -71.46631, -71.43731700000001, -74.0687306, -74.09383000000001, -74.005348, -74.24191359999999, -106.70220220000002, -106.7089755, -115.22626000000001, -73.783813, -84.1999699, -84.5023411, -81.469037, -83.031645, -95.90312, -75.35820079999999, -75.4102349, -80.00085, -80.24088, -80.28631999999999, -80.0307564, -81.0333, -82.41377, -103.2547728, -89.63574, -97.72023, -96.8359325, -95.4942494, -111.99512800000001, -111.97536699999999, -111.87856380000001, -111.99523, -111.97419, -111.8785, -76.0988283, -76.74089000000001, -76.23089399999999, -77.10692970000001, -73.20755, -73.168541, -87.890865, -84.58388599999999, -88.82113000000001, -80.61193, -83.97725, -77.04772, -122.336998, -122.3060784, -122.2791635, -122.1604894, -122.8422618, -122.312075, -122.6866795, -122.336055, -122.02176809999999, -122.3217666, -122.33359109999998, -79.95774859999999, -81.5599487, -80.6667535, -80.239579, -74.07947, -104.81517, -112.001602, -116.353059, -114.349951, -115.69313100000001, -116.589524, -114.496583, -101.286197, -75.19731999999999, -75.166443, -94.17524, -92.45718000000001, -73.42196835, -73.1674697, -73.5373122, -73.63035, -73.12980999999999, -73.48484, -73.44725, -72.92936999999999, -75.16383, -80.36712, -80.11851999999999, -80.31475, -80.35772, -83.46523, -157.97025, -158.08345, -157.74309, -87.60449, -87.847572, -87.57121, -93.20428000000001, -82.042], \"marker\": {\"color\": \"#636efa\"}, \"mode\": \"markers\", \"name\": \"\", \"showlegend\": false, \"subplot\": \"mapbox\", \"type\": \"scattermapbox\"}],\n",
       "                        {\"legend\": {\"tracegroupgap\": 0}, \"mapbox\": {\"accesstoken\": \"pk.eyJ1IjoiaHVuZ3J5cGllMDAiLCJhIjoiY2s4M3ZmYzR6MDNsMTNvcGZ2Z2lhNTEzeiJ9.IQaySE7GpM6Zgx2xfDuGbw\", \"center\": {\"lat\": 38.59679631164285, \"lon\": -93.12449141942858}, \"domain\": {\"x\": [0.0, 1.0], \"y\": [0.0, 1.0]}, \"style\": \"dark\", \"zoom\": 3}, \"margin\": {\"b\": 0, \"l\": 0, \"r\": 0, \"t\": 0}, \"template\": {\"data\": {\"bar\": [{\"error_x\": {\"color\": \"#2a3f5f\"}, \"error_y\": {\"color\": \"#2a3f5f\"}, \"marker\": {\"line\": {\"color\": \"#E5ECF6\", \"width\": 0.5}}, \"type\": \"bar\"}], \"barpolar\": [{\"marker\": {\"line\": {\"color\": \"#E5ECF6\", \"width\": 0.5}}, \"type\": \"barpolar\"}], \"carpet\": [{\"aaxis\": {\"endlinecolor\": \"#2a3f5f\", \"gridcolor\": \"white\", \"linecolor\": \"white\", \"minorgridcolor\": \"white\", \"startlinecolor\": \"#2a3f5f\"}, \"baxis\": {\"endlinecolor\": \"#2a3f5f\", \"gridcolor\": \"white\", \"linecolor\": \"white\", \"minorgridcolor\": \"white\", \"startlinecolor\": \"#2a3f5f\"}, \"type\": \"carpet\"}], \"choropleth\": [{\"colorbar\": {\"outlinewidth\": 0, \"ticks\": \"\"}, \"type\": \"choropleth\"}], \"contour\": [{\"colorbar\": {\"outlinewidth\": 0, \"ticks\": \"\"}, \"colorscale\": [[0.0, \"#0d0887\"], [0.1111111111111111, \"#46039f\"], [0.2222222222222222, \"#7201a8\"], [0.3333333333333333, \"#9c179e\"], [0.4444444444444444, \"#bd3786\"], [0.5555555555555556, \"#d8576b\"], [0.6666666666666666, \"#ed7953\"], [0.7777777777777778, \"#fb9f3a\"], [0.8888888888888888, \"#fdca26\"], [1.0, \"#f0f921\"]], \"type\": \"contour\"}], \"contourcarpet\": [{\"colorbar\": {\"outlinewidth\": 0, \"ticks\": \"\"}, \"type\": \"contourcarpet\"}], \"heatmap\": [{\"colorbar\": {\"outlinewidth\": 0, \"ticks\": \"\"}, \"colorscale\": [[0.0, \"#0d0887\"], [0.1111111111111111, \"#46039f\"], [0.2222222222222222, \"#7201a8\"], [0.3333333333333333, \"#9c179e\"], [0.4444444444444444, \"#bd3786\"], [0.5555555555555556, \"#d8576b\"], [0.6666666666666666, \"#ed7953\"], [0.7777777777777778, \"#fb9f3a\"], [0.8888888888888888, \"#fdca26\"], [1.0, \"#f0f921\"]], \"type\": \"heatmap\"}], \"heatmapgl\": [{\"colorbar\": {\"outlinewidth\": 0, \"ticks\": \"\"}, \"colorscale\": [[0.0, \"#0d0887\"], [0.1111111111111111, \"#46039f\"], [0.2222222222222222, \"#7201a8\"], [0.3333333333333333, \"#9c179e\"], [0.4444444444444444, \"#bd3786\"], [0.5555555555555556, \"#d8576b\"], [0.6666666666666666, \"#ed7953\"], [0.7777777777777778, \"#fb9f3a\"], [0.8888888888888888, \"#fdca26\"], [1.0, \"#f0f921\"]], \"type\": \"heatmapgl\"}], \"histogram\": [{\"marker\": {\"colorbar\": {\"outlinewidth\": 0, \"ticks\": \"\"}}, \"type\": \"histogram\"}], \"histogram2d\": [{\"colorbar\": {\"outlinewidth\": 0, \"ticks\": \"\"}, \"colorscale\": [[0.0, \"#0d0887\"], [0.1111111111111111, \"#46039f\"], [0.2222222222222222, \"#7201a8\"], [0.3333333333333333, \"#9c179e\"], [0.4444444444444444, \"#bd3786\"], [0.5555555555555556, \"#d8576b\"], [0.6666666666666666, \"#ed7953\"], [0.7777777777777778, \"#fb9f3a\"], [0.8888888888888888, \"#fdca26\"], [1.0, \"#f0f921\"]], \"type\": \"histogram2d\"}], \"histogram2dcontour\": [{\"colorbar\": {\"outlinewidth\": 0, \"ticks\": \"\"}, \"colorscale\": [[0.0, \"#0d0887\"], [0.1111111111111111, \"#46039f\"], [0.2222222222222222, \"#7201a8\"], [0.3333333333333333, \"#9c179e\"], [0.4444444444444444, \"#bd3786\"], [0.5555555555555556, \"#d8576b\"], [0.6666666666666666, \"#ed7953\"], [0.7777777777777778, \"#fb9f3a\"], [0.8888888888888888, \"#fdca26\"], [1.0, \"#f0f921\"]], \"type\": \"histogram2dcontour\"}], \"mesh3d\": [{\"colorbar\": {\"outlinewidth\": 0, \"ticks\": \"\"}, \"type\": \"mesh3d\"}], \"parcoords\": [{\"line\": {\"colorbar\": {\"outlinewidth\": 0, \"ticks\": \"\"}}, \"type\": \"parcoords\"}], \"pie\": [{\"automargin\": true, \"type\": \"pie\"}], \"scatter\": [{\"marker\": {\"colorbar\": {\"outlinewidth\": 0, \"ticks\": \"\"}}, \"type\": \"scatter\"}], \"scatter3d\": [{\"line\": {\"colorbar\": {\"outlinewidth\": 0, \"ticks\": \"\"}}, \"marker\": {\"colorbar\": {\"outlinewidth\": 0, \"ticks\": \"\"}}, \"type\": \"scatter3d\"}], \"scattercarpet\": [{\"marker\": {\"colorbar\": {\"outlinewidth\": 0, \"ticks\": \"\"}}, \"type\": \"scattercarpet\"}], \"scattergeo\": [{\"marker\": {\"colorbar\": {\"outlinewidth\": 0, \"ticks\": \"\"}}, \"type\": \"scattergeo\"}], \"scattergl\": [{\"marker\": {\"colorbar\": {\"outlinewidth\": 0, \"ticks\": \"\"}}, \"type\": \"scattergl\"}], \"scattermapbox\": [{\"marker\": {\"colorbar\": {\"outlinewidth\": 0, \"ticks\": \"\"}}, \"type\": \"scattermapbox\"}], \"scatterpolar\": [{\"marker\": {\"colorbar\": {\"outlinewidth\": 0, \"ticks\": \"\"}}, \"type\": \"scatterpolar\"}], \"scatterpolargl\": [{\"marker\": {\"colorbar\": {\"outlinewidth\": 0, \"ticks\": \"\"}}, \"type\": \"scatterpolargl\"}], \"scatterternary\": [{\"marker\": {\"colorbar\": {\"outlinewidth\": 0, \"ticks\": \"\"}}, \"type\": \"scatterternary\"}], \"surface\": [{\"colorbar\": {\"outlinewidth\": 0, \"ticks\": \"\"}, \"colorscale\": [[0.0, \"#0d0887\"], [0.1111111111111111, \"#46039f\"], [0.2222222222222222, \"#7201a8\"], [0.3333333333333333, \"#9c179e\"], [0.4444444444444444, \"#bd3786\"], [0.5555555555555556, \"#d8576b\"], [0.6666666666666666, \"#ed7953\"], [0.7777777777777778, \"#fb9f3a\"], [0.8888888888888888, \"#fdca26\"], [1.0, \"#f0f921\"]], \"type\": \"surface\"}], \"table\": [{\"cells\": {\"fill\": {\"color\": \"#EBF0F8\"}, \"line\": {\"color\": \"white\"}}, \"header\": {\"fill\": {\"color\": \"#C8D4E3\"}, \"line\": {\"color\": \"white\"}}, \"type\": \"table\"}]}, \"layout\": {\"annotationdefaults\": {\"arrowcolor\": \"#2a3f5f\", \"arrowhead\": 0, \"arrowwidth\": 1}, \"coloraxis\": {\"colorbar\": {\"outlinewidth\": 0, \"ticks\": \"\"}}, \"colorscale\": {\"diverging\": [[0, \"#8e0152\"], [0.1, \"#c51b7d\"], [0.2, \"#de77ae\"], [0.3, \"#f1b6da\"], [0.4, \"#fde0ef\"], [0.5, \"#f7f7f7\"], [0.6, \"#e6f5d0\"], [0.7, \"#b8e186\"], [0.8, \"#7fbc41\"], [0.9, \"#4d9221\"], [1, \"#276419\"]], \"sequential\": [[0.0, \"#0d0887\"], [0.1111111111111111, \"#46039f\"], [0.2222222222222222, \"#7201a8\"], [0.3333333333333333, \"#9c179e\"], [0.4444444444444444, \"#bd3786\"], [0.5555555555555556, \"#d8576b\"], [0.6666666666666666, \"#ed7953\"], [0.7777777777777778, \"#fb9f3a\"], [0.8888888888888888, \"#fdca26\"], [1.0, \"#f0f921\"]], \"sequentialminus\": [[0.0, \"#0d0887\"], [0.1111111111111111, \"#46039f\"], [0.2222222222222222, \"#7201a8\"], [0.3333333333333333, \"#9c179e\"], [0.4444444444444444, \"#bd3786\"], [0.5555555555555556, \"#d8576b\"], [0.6666666666666666, \"#ed7953\"], [0.7777777777777778, \"#fb9f3a\"], [0.8888888888888888, \"#fdca26\"], [1.0, \"#f0f921\"]]}, \"colorway\": [\"#636efa\", \"#EF553B\", \"#00cc96\", \"#ab63fa\", \"#FFA15A\", \"#19d3f3\", \"#FF6692\", \"#B6E880\", \"#FF97FF\", \"#FECB52\"], \"font\": {\"color\": \"#2a3f5f\"}, \"geo\": {\"bgcolor\": \"white\", \"lakecolor\": \"white\", \"landcolor\": \"#E5ECF6\", \"showlakes\": true, \"showland\": true, \"subunitcolor\": \"white\"}, \"hoverlabel\": {\"align\": \"left\"}, \"hovermode\": \"closest\", \"mapbox\": {\"style\": \"light\"}, \"paper_bgcolor\": \"white\", \"plot_bgcolor\": \"#E5ECF6\", \"polar\": {\"angularaxis\": {\"gridcolor\": \"white\", \"linecolor\": \"white\", \"ticks\": \"\"}, \"bgcolor\": \"#E5ECF6\", \"radialaxis\": {\"gridcolor\": \"white\", \"linecolor\": \"white\", \"ticks\": \"\"}}, \"scene\": {\"xaxis\": {\"backgroundcolor\": \"#E5ECF6\", \"gridcolor\": \"white\", \"gridwidth\": 2, \"linecolor\": \"white\", \"showbackground\": true, \"ticks\": \"\", \"zerolinecolor\": \"white\"}, \"yaxis\": {\"backgroundcolor\": \"#E5ECF6\", \"gridcolor\": \"white\", \"gridwidth\": 2, \"linecolor\": \"white\", \"showbackground\": true, \"ticks\": \"\", \"zerolinecolor\": \"white\"}, \"zaxis\": {\"backgroundcolor\": \"#E5ECF6\", \"gridcolor\": \"white\", \"gridwidth\": 2, \"linecolor\": \"white\", \"showbackground\": true, \"ticks\": \"\", \"zerolinecolor\": \"white\"}}, \"shapedefaults\": {\"line\": {\"color\": \"#2a3f5f\"}}, \"ternary\": {\"aaxis\": {\"gridcolor\": \"white\", \"linecolor\": \"white\", \"ticks\": \"\"}, \"baxis\": {\"gridcolor\": \"white\", \"linecolor\": \"white\", \"ticks\": \"\"}, \"bgcolor\": \"#E5ECF6\", \"caxis\": {\"gridcolor\": \"white\", \"linecolor\": \"white\", \"ticks\": \"\"}}, \"title\": {\"x\": 0.05}, \"xaxis\": {\"automargin\": true, \"gridcolor\": \"white\", \"linecolor\": \"white\", \"ticks\": \"\", \"title\": {\"standoff\": 15}, \"zerolinecolor\": \"white\", \"zerolinewidth\": 2}, \"yaxis\": {\"automargin\": true, \"gridcolor\": \"white\", \"linecolor\": \"white\", \"ticks\": \"\", \"title\": {\"standoff\": 15}, \"zerolinecolor\": \"white\", \"zerolinewidth\": 2}}}},\n",
       "                        {\"responsive\": true}\n",
       "                    ).then(function(){\n",
       "                            \n",
       "var gd = document.getElementById('d772d708-7290-4abf-9980-3a1680150b64');\n",
       "var x = new MutationObserver(function (mutations, observer) {{\n",
       "        var display = window.getComputedStyle(gd).display;\n",
       "        if (!display || display === 'none') {{\n",
       "            console.log([gd, 'removed!']);\n",
       "            Plotly.purge(gd);\n",
       "            observer.disconnect();\n",
       "        }}\n",
       "}});\n",
       "\n",
       "// Listen for the removal of the full notebook cells\n",
       "var notebookContainer = gd.closest('#notebook-container');\n",
       "if (notebookContainer) {{\n",
       "    x.observe(notebookContainer, {childList: true});\n",
       "}}\n",
       "\n",
       "// Listen for the clearing of the current output cell\n",
       "var outputEl = gd.closest('.output');\n",
       "if (outputEl) {{\n",
       "    x.observe(outputEl, {childList: true});\n",
       "}}\n",
       "\n",
       "                        })\n",
       "                };\n",
       "                });\n",
       "            </script>\n",
       "        </div>"
      ]
     },
     "metadata": {},
     "output_type": "display_data"
    }
   ],
   "source": [
    "fig = px.scatter_mapbox(df, lat=\"Latitude\", lon=\"Longitude\", hover_name=\"Name\", zoom=3)\n",
    "fig.update_layout(mapbox_style=\"dark\")\n",
    "fig.update_layout(margin={\"r\":0,\"t\":0,\"l\":0,\"b\":0})\n",
    "fig.show()"
   ]
  }
 ],
 "metadata": {
  "kernelspec": {
   "display_name": "Python 3",
   "language": "python",
   "name": "python3"
  },
  "language_info": {
   "codemirror_mode": {
    "name": "ipython",
    "version": 3
   },
   "file_extension": ".py",
   "mimetype": "text/x-python",
   "name": "python",
   "nbconvert_exporter": "python",
   "pygments_lexer": "ipython3",
   "version": "3.7.6"
  }
 },
 "nbformat": 4,
 "nbformat_minor": 4
}
