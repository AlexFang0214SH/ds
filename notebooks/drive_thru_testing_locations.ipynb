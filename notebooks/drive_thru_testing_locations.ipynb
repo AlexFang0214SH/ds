{
 "cells": [
  {
   "cell_type": "code",
   "execution_count": 3,
   "metadata": {},
   "outputs": [],
   "source": [
    "import pandas as pd\n",
    "from bs4 import BeautifulSoup\n",
    "import requests\n",
    "import plotly.express as px\n",
    "#from decouple import config\n",
    "import os\n",
    "from IPython.display import IFrame\n",
    "\n",
    "# ---------------- Pandas settings --------------- #\n",
    "# Removes rows and columns truncation of '...'\n",
    "pd.set_option('display.max_rows', 200)\n",
    "pd.set_option('display.max_columns', 200)\n",
    "\n",
    "\n",
    "# ----------------- Set Mapbox Token --------------- #\n",
    "MAPBOX_ACCESS_TOKEN=config(\"MAPBOX_ACCESS_TOKEN\")\n",
    "px.set_mapbox_access_token(MAPBOX_ACCESS_TOKEN)\n",
    "\n",
    "# Set Data Dir\n",
    "DATA_DIR=\"../drive_thru_testing_locations\""
   ]
  },
  {
   "cell_type": "markdown",
   "metadata": {},
   "source": [
    "**Source: https://covid19.sokat.ai/**"
   ]
  },
  {
   "cell_type": "code",
   "execution_count": 4,
   "metadata": {},
   "outputs": [
    {
     "data": {
      "text/html": [
       "\n",
       "        <iframe\n",
       "            width=\"100%\"\n",
       "            height=\"400\"\n",
       "            src=\"https://covid19.sokat.ai/\"\n",
       "            frameborder=\"0\"\n",
       "            allowfullscreen\n",
       "        ></iframe>\n",
       "        "
      ],
      "text/plain": [
       "<IPython.lib.display.IFrame at 0x7f7b05c20110>"
      ]
     },
     "execution_count": 4,
     "metadata": {},
     "output_type": "execute_result"
    }
   ],
   "source": [
    "IFrame(\"https://covid19.sokat.ai/\", width=\"100%\", height=400)"
   ]
  },
  {
   "cell_type": "code",
   "execution_count": 36,
   "metadata": {},
   "outputs": [],
   "source": [
    "def markers_to_dataframe(url):\n",
    "    \"\"\"This function takes the https://covid19.sokat.ai/ web map as input to generate a CSV file of drive-thru testing locations. \n",
    "    \"\"\"\n",
    "    # Download webpage data with requests\n",
    "    page = requests.get(url)\n",
    "    # Rarse the webpage data with BeautifulSoup\n",
    "    soup = BeautifulSoup(page.content, 'html.parser')\n",
    "    \n",
    "    # Select scripts in HTML file\n",
    "    scripts = list(soup.find_all('script'))\n",
    "    \n",
    "    # Subset for the script with marker data and begin string splitting\n",
    "    html = str(list(scripts[7])).split('var marker')\n",
    "    \n",
    "    # Use for-loops to generate the names, coordinates, and URLs of drive-thru testing locations\n",
    "    list_of_names = []\n",
    "    list_of_coords = []\n",
    "    list_of_urls = []\n",
    "    \n",
    "    for i in range(2,len(html)-1):\n",
    "        list_of_names.append(html[i].split('target=\"_blank\">')[1].split('</a></div>')[0])\n",
    "        list_of_coords.append(html[i].split('target=\"_blank\">')[0].split(\"L.marker(\\\\n                [\")[1].split(\"]\")[0])\n",
    "        list_of_urls.append(html[i].split('target=\"_blank\">')[0].split('><a href=\"')[1].split('\"')[0])\n",
    "\n",
    "    # Concatenate lists into a pandas DataFrame\n",
    "    dataframe = pd.DataFrame([list_of_names, list_of_coords, list_of_urls]).T\n",
    "    \n",
    "    # Rename the columns with appropriate titles\n",
    "    dataframe.columns = [\"Name\",\"Coordinate\", \"URL\"]\n",
    "    \n",
    "    # Generate Latitude and Longitude Series with string splitting\n",
    "    dataframe[\"Latitude\"] = dataframe[\"Coordinate\"].str.split(expand=True)[0].str.replace(\",\",\"\").astype(float)\n",
    "    dataframe[\"Longitude\"] = dataframe[\"Coordinate\"].str.split(expand=True)[1].astype(float)\n",
    "    \n",
    "    # Return results\n",
    "    return dataframe"
   ]
  },
  {
   "cell_type": "code",
   "execution_count": 32,
   "metadata": {},
   "outputs": [
    {
     "name": "stdout",
     "output_type": "stream",
     "text": [
      "<class 'pandas.core.frame.DataFrame'>\n",
      "RangeIndex: 332 entries, 0 to 331\n",
      "Data columns (total 4 columns):\n",
      " #   Column     Non-Null Count  Dtype  \n",
      "---  ------     --------------  -----  \n",
      " 0   Name       332 non-null    object \n",
      " 1   URL        332 non-null    object \n",
      " 2   Latitude   332 non-null    float64\n",
      " 3   Longitude  332 non-null    float64\n",
      "dtypes: float64(2), object(2)\n",
      "memory usage: 10.5+ KB\n"
     ]
    }
   ],
   "source": [
    "df = markers_to_dataframe(\"https://covid19.sokat.ai/\")\n",
    "df = df[[\"Name\", \"URL\", \"Latitude\", \"Longitude\"]] # added to parse coordinates column out to save space\n",
    "df.info() # check for data type"
   ]
  },
  {
   "cell_type": "code",
   "execution_count": 33,
   "metadata": {
    "scrolled": true
   },
   "outputs": [
    {
     "data": {
      "text/plain": [
       "Name         0\n",
       "URL          0\n",
       "Latitude     0\n",
       "Longitude    0\n",
       "dtype: int64"
      ]
     },
     "execution_count": 33,
     "metadata": {},
     "output_type": "execute_result"
    }
   ],
   "source": [
    "df.isnull().sum() # Check for missing values"
   ]
  },
  {
   "cell_type": "markdown",
   "metadata": {},
   "source": [
    "### Display data"
   ]
  },
  {
   "cell_type": "code",
   "execution_count": 37,
   "metadata": {},
   "outputs": [
    {
     "data": {
      "text/html": [
       "<div>\n",
       "<style scoped>\n",
       "    .dataframe tbody tr th:only-of-type {\n",
       "        vertical-align: middle;\n",
       "    }\n",
       "\n",
       "    .dataframe tbody tr th {\n",
       "        vertical-align: top;\n",
       "    }\n",
       "\n",
       "    .dataframe thead th {\n",
       "        text-align: right;\n",
       "    }\n",
       "</style>\n",
       "<table border=\"1\" class=\"dataframe\">\n",
       "  <thead>\n",
       "    <tr style=\"text-align: right;\">\n",
       "      <th></th>\n",
       "      <th>Name</th>\n",
       "      <th>URL</th>\n",
       "      <th>Latitude</th>\n",
       "      <th>Longitude</th>\n",
       "    </tr>\n",
       "  </thead>\n",
       "  <tbody>\n",
       "    <tr>\n",
       "      <th>0</th>\n",
       "      <td>Collaborative Effort of Health Care Providers</td>\n",
       "      <td>https://www.adn.com/alaska-news/anchorage/2020...</td>\n",
       "      <td>61.182870</td>\n",
       "      <td>-149.837269</td>\n",
       "    </tr>\n",
       "    <tr>\n",
       "      <th>1</th>\n",
       "      <td>Alaska Healthcare</td>\n",
       "      <td>https://www.tomsguide.com/news/drive-through-c...</td>\n",
       "      <td>61.182620</td>\n",
       "      <td>-149.838060</td>\n",
       "    </tr>\n",
       "    <tr>\n",
       "      <th>2</th>\n",
       "      <td>Fairbanks\\' Foundation Health Partners</td>\n",
       "      <td>http://www.newsminer.com/alerts/fairbanks-laun...</td>\n",
       "      <td>64.839980</td>\n",
       "      <td>-147.714320</td>\n",
       "    </tr>\n",
       "    <tr>\n",
       "      <th>3</th>\n",
       "      <td>Fairbanks Memorial Hospital</td>\n",
       "      <td>https://www.adn.com/alaska-news/2020/03/25/som...</td>\n",
       "      <td>64.832649</td>\n",
       "      <td>-147.741562</td>\n",
       "    </tr>\n",
       "    <tr>\n",
       "      <th>4</th>\n",
       "      <td>Church of the Highlands- Grant\\'s Mill</td>\n",
       "      <td>https://www.google.com/amp/s/www.wvtm13.com/am...</td>\n",
       "      <td>33.516999</td>\n",
       "      <td>-86.655847</td>\n",
       "    </tr>\n",
       "    <tr>\n",
       "      <th>...</th>\n",
       "      <td>...</td>\n",
       "      <td>...</td>\n",
       "      <td>...</td>\n",
       "      <td>...</td>\n",
       "    </tr>\n",
       "    <tr>\n",
       "      <th>327</th>\n",
       "      <td>LVHN COVID-19 Assess and Test–Macungie</td>\n",
       "      <td>https://www.lvhn.org/testing-services/coronavi...</td>\n",
       "      <td>40.520270</td>\n",
       "      <td>-75.566380</td>\n",
       "    </tr>\n",
       "    <tr>\n",
       "      <th>328</th>\n",
       "      <td>LVHN COVID-19 Assess and Test–Muhlenberg</td>\n",
       "      <td>https://www.lvhn.org/testing-services/coronavi...</td>\n",
       "      <td>40.647550</td>\n",
       "      <td>-75.408170</td>\n",
       "    </tr>\n",
       "    <tr>\n",
       "      <th>329</th>\n",
       "      <td>LVHN COVID-19 Assess and Test–Nazareth</td>\n",
       "      <td>https://www.lvhn.org/testing-services/coronavi...</td>\n",
       "      <td>40.731020</td>\n",
       "      <td>-75.313660</td>\n",
       "    </tr>\n",
       "    <tr>\n",
       "      <th>330</th>\n",
       "      <td>LVHN COVID-19 Assess and Test\\xad\\xad–Richlan...</td>\n",
       "      <td>https://www.lvhn.org/testing-services/coronavi...</td>\n",
       "      <td>40.458400</td>\n",
       "      <td>-75.368450</td>\n",
       "    </tr>\n",
       "    <tr>\n",
       "      <th>331</th>\n",
       "      <td>LVHN COVID-19 Assess and Test–Bartonsville</td>\n",
       "      <td>https://www.lvhn.org/testing-services/coronavi...</td>\n",
       "      <td>41.003330</td>\n",
       "      <td>-75.267880</td>\n",
       "    </tr>\n",
       "  </tbody>\n",
       "</table>\n",
       "<p>332 rows × 4 columns</p>\n",
       "</div>"
      ],
      "text/plain": [
       "                                                  Name  \\\n",
       "0       Collaborative Effort of Health Care Providers    \n",
       "1                                   Alaska Healthcare    \n",
       "2              Fairbanks\\' Foundation Health Partners    \n",
       "3                         Fairbanks Memorial Hospital    \n",
       "4              Church of the Highlands- Grant\\'s Mill    \n",
       "..                                                 ...   \n",
       "327            LVHN COVID-19 Assess and Test–Macungie    \n",
       "328          LVHN COVID-19 Assess and Test–Muhlenberg    \n",
       "329           LVHN COVID-19 Assess and Test–Nazareth     \n",
       "330   LVHN COVID-19 Assess and Test\\xad\\xad–Richlan...   \n",
       "331        LVHN COVID-19 Assess and Test–Bartonsville    \n",
       "\n",
       "                                                   URL   Latitude   Longitude  \n",
       "0    https://www.adn.com/alaska-news/anchorage/2020...  61.182870 -149.837269  \n",
       "1    https://www.tomsguide.com/news/drive-through-c...  61.182620 -149.838060  \n",
       "2    http://www.newsminer.com/alerts/fairbanks-laun...  64.839980 -147.714320  \n",
       "3    https://www.adn.com/alaska-news/2020/03/25/som...  64.832649 -147.741562  \n",
       "4    https://www.google.com/amp/s/www.wvtm13.com/am...  33.516999  -86.655847  \n",
       "..                                                 ...        ...         ...  \n",
       "327  https://www.lvhn.org/testing-services/coronavi...  40.520270  -75.566380  \n",
       "328  https://www.lvhn.org/testing-services/coronavi...  40.647550  -75.408170  \n",
       "329  https://www.lvhn.org/testing-services/coronavi...  40.731020  -75.313660  \n",
       "330  https://www.lvhn.org/testing-services/coronavi...  40.458400  -75.368450  \n",
       "331  https://www.lvhn.org/testing-services/coronavi...  41.003330  -75.267880  \n",
       "\n",
       "[332 rows x 4 columns]"
      ]
     },
     "execution_count": 37,
     "metadata": {},
     "output_type": "execute_result"
    }
   ],
   "source": [
    "df"
   ]
  },
  {
   "cell_type": "markdown",
   "metadata": {},
   "source": [
    "### Save dataframe to `csv`"
   ]
  },
  {
   "cell_type": "code",
   "execution_count": 38,
   "metadata": {},
   "outputs": [],
   "source": [
    "df.to_csv(os.path.join(DATA_DIR, 'us-drive-thru-testing-locations.csv'))"
   ]
  },
  {
   "cell_type": "markdown",
   "metadata": {},
   "source": [
    "### Plotting Drive-Thru centers via Plotly Express"
   ]
  },
  {
   "cell_type": "code",
   "execution_count": 11,
   "metadata": {},
   "outputs": [
    {
     "data": {
      "application/vnd.plotly.v1+json": {
       "config": {
        "plotlyServerURL": "https://plot.ly"
       },
       "data": [
        {
         "hoverlabel": {
          "namelength": 0
         },
         "hovertemplate": "<b>%{hovertext}</b><br><br>Latitude=%{lat}<br>Longitude=%{lon}",
         "hovertext": [
          " Collaborative Effort of Health Care Providers ",
          " Alaska Healthcare ",
          " Fairbanks\\' Foundation Health Partners ",
          " Fairbanks Memorial Hospital ",
          " Church of the Highlands- Grant\\'s Mill ",
          " UAMS ",
          " Mercy Coronavirus Evaluation Site ",
          " Conway Regional Hospital System  ",
          " Mayo Clinic Hospital ",
          " Mayo Clinic ",
          " Maready Medical ",
          " Coconino County Department of Health and Human Services ",
          " Coconino County Department of Health and Human Services ",
          " Stanford Health Care ",
          " Kaiser Permanente French Campus ",
          " Mammoth Hospital ",
          " Visalia Walk In Medical Clinic - West Caldwell Ave ",
          " One Medical ",
          " Clovis Urgent Care Medical Center ",
          " Industrial Health Care Urgent Care ",
          " San Joaquin Valley Rehabilitation Hospital ",
          " 24/7 Urgent Care Clinic ",
          " UCSF ",
          " Colorado Department of Public Health and Environment State Lab ",
          " Denver Coliseum ",
          " Hartford Hospital ",
          " Norwalk Hospital ",
          " Bridgeport Hospital ",
          " Murphy Medical Associates ",
          " Greenwich Hospital ",
          " Murphy Medical Associates ",
          " Murphy Medical Associates ",
          " Danbury Hospital  ",
          " Yale- New Haven ",
          " George Washington University Hospital ",
          " AllCare ",
          " AllCare of Rhode Island Ave. ",
          " ChristianaCare ",
          " Bayview Medical Center ",
          " Cleveland Clinic Martin Health ",
          " FoundCare, Inc. ",
          " Ascension Sacred Heart  ",
          " Memorial Healthcare System in Broward County ",
          " Cleveland Clinic Florida ",
          " Broward Health  ",
          " Memorial Hospital West-C.B. Park ",
          " BayCare ",
          " BayCare ",
          " BayCare ",
          " BayCare ",
          " BayCare ",
          " BayCare ",
          " BayCare ",
          " Orange Country Convention Center ",
          " Ascension St. Vincent’s ",
          " BayCare Health System ",
          " City of Jacksonville | Baptist Health | Telescope Health (Prime F. Osborn III Convention Center) ",
          " Community Health Northwest Florida (Brownsville Community Center) ",
          " Community Health of South Florida, Inc. (Marathon Community Park) ",
          " Community Health of South Florida, Inc.(Doris Ison Health Center) ",
          " Hillsborough County Dept of Health (Raymond James Stadium) ",
          " Larkin Community Hospital ",
          " Lee Health Convenient Care ",
          " Manatee County Health Department (Bradenton Area Convention Center) ",
          " NCH Healthcare System ",
          " Premiere Medical Associates ",
          " Premiere Medical Associates ",
          " Tallahassee Memorial HealthCare ",
          " The City of Miami, Jackson Health Systems, Nat\\'l Guard, and the University of Miami (Marlins Park) ",
          " University of Florida Health (The Villages Polo Club) ",
          " The Florida Department of Health ",
          " Valdosta\\'s South Georgia Medical Center ",
          " Dept. of Public Health-West Central Health ",
          " MercyMed of Columbus ",
          " Piedmont Athens- Oconee Health Campus ",
          " Augusta University Health System- Christenberry Fieldhouse ",
          " AllCare ",
          " Walgreens/ Premire Medical Group Hawaii ",
          " Urgent Care Hawaii-Pearl City ",
          " Urgent Care Hawaii--Kapolei ",
          " Urgent Care Hawaii-Kailua ",
          " North Iowa Events Center ",
          " MercyOne Medical Group North Iowa ",
          " Mountain View Hospital ",
          " St. Luke\\'s Meridian Medical Center ",
          " St. Luke\\'s Wood River Hospital ",
          " St. Luke\\'s Elmore Medical Center ",
          " Saltzer Medical Group ",
          " St. Luke\\'s Magic Valley Medical Center ",
          " Advocate Good Shepard ",
          " University of Chicago Medical Center ",
          " Advocate Lutheran General Hospital  ",
          " Siteman Cancer Center ",
          " SSM Health Good Samaritan Hospital ",
          " Roseland Community Hospital ",
          " Northwestern Memorial Hospital, Lavin Family Pavillion ",
          " Rush University Medical Center ",
          " Innovative Express Care ",
          " Illinois Department of Public Health, Harwood Heights Community Testing Site ",
          " Walmart ",
          " NorthShore University HealthSystem ",
          " Edward-Elmhurst Health ",
          " Walmart ",
          " Walgreens ",
          " Franciscian Health Michigan City  ",
          " Deaconess Midtown Hospital  ",
          " Stormont Vail ",
          " Sharon Lee Family Health Clinic ",
          " Saint Luke\\'s Multispecialty Clinc, Mission Farms ",
          " Bluegrass Extended Care Medicine ",
          " Integrity Extended Healthcare ",
          " Baton Rouge General Medical Center ",
          " Mahalia Jackson Theatre ",
          " University of New Orleans Lakefront Arena ",
          " Alario Event Center ",
          " Office of Public Health - Rapides Parish Coliseum ",
          " Burton Coliseum Complex ",
          " SWLA Center for Health Services ",
          " Moss Memorial Health Clinic ",
          " New Orleans East Hospital ",
          " Odyssey House Louisiana ",
          " Thibodaux Regional Health System ",
          " TGMC Medical Arts facility ",
          " CrescentCare ",
          " Ochsner Urgent Care - Mid City ",
          " Ochsner Urgent Care – Houma ",
          " Ochsner Urgent Care – Mandeville ",
          " West Jefferson Medical Center ",
          " St. Elizabeth Hospital ",
          " Cape Cod Community College ",
          " Cape Cod Hospital ",
          " AFC Urgent Care Waltham ",
          " UMassMemorial HealthAlliance — Clinton Hospital ",
          " Falmouth Hospital ",
          " Cape Cod Hospital ",
          " LifeBridge Health / Carroll Hospital  ",
          " University of Maryland Upper Chesapeake Health ",
          " Medstar St. Mary\\'s Hospital  ",
          " Chesapeake ERgent Care ",
          " AllCare "
         ],
         "lat": [
          61.1828699,
          61.18261999999999,
          64.83998000000001,
          64.832649,
          33.51699910000001,
          34.749005100000005,
          36.329311,
          35.08586,
          33.66211083,
          33.586042299999995,
          33.34102,
          35.21788,
          35.141220000000004,
          37.441514899999994,
          37.780666100000005,
          37.64393,
          36.2981,
          38.00823,
          36.80905,
          36.56586,
          36.84008,
          36.83701,
          37.786097999999996,
          39.71696,
          39.780581700000006,
          41.754560999999995,
          41.1108619,
          41.18947085,
          41.06005506,
          41.03451,
          41.17517,
          41.12857,
          41.40475,
          41.28546,
          38.900929999999995,
          38.90603,
          38.90603,
          39.7348389,
          38.75385,
          27.199390500000003,
          26.6417515,
          30.481178000000003,
          26.019739,
          26.07709,
          26.275159999999996,
          26.012610000000002,
          27.89265,
          28.22932,
          28.042920000000002,
          27.98084,
          28.12605,
          27.893790000000003,
          28.127059999999997,
          28.427271,
          30.30759,
          28.12685,
          30.32804,
          30.42356,
          24.71221,
          25.565929999999998,
          27.976440000000004,
          25.86885,
          26.59184,
          27.515140000000002,
          26.27415,
          28.951390000000004,
          29.063240000000004,
          30.466520000000003,
          25.77816,
          28.934009999999997,
          27.2672577,
          30.8623305,
          32.4832,
          32.49828,
          33.91554,
          33.47041,
          33.86005,
          21.419479,
          21.401629999999997,
          21.33377,
          21.3943,
          43.155429999999996,
          43.14852,
          43.478947999999995,
          43.598708,
          43.648703000000005,
          43.13865,
          43.617235,
          42.590956,
          42.19386055,
          41.7882,
          42.039371,
          38.5638097,
          38.297049799999996,
          41.69232,
          41.894890000000004,
          41.87486,
          41.92522,
          41.955870000000004,
          41.90683,
          42.061729,
          41.8089,
          41.51891,
          41.70601,
          41.708079999999995,
          37.98316,
          39.0516701,
          39.06843,
          38.93635,
          38.019709999999996,
          37.621281,
          30.449546299999998,
          29.961540000000003,
          30.030509999999996,
          29.89746,
          31.2964,
          30.13968,
          30.241059999999997,
          30.18283,
          30.031229999999997,
          29.95083,
          29.784470000000002,
          29.59628,
          29.97379,
          29.97502,
          29.59827,
          30.38717,
          29.89156,
          30.209809999999997,
          41.688,
          41.652951,
          42.376062,
          42.541043,
          41.564415000000004,
          41.653488,
          39.558286100000004,
          39.5191344,
          38.29958962,
          39.02564,
          39.27774
         ],
         "legendgroup": "",
         "lon": [
          -149.837269,
          -149.83806,
          -147.71432,
          -147.74156200000002,
          -86.6558468,
          -92.32009649999999,
          -94.17524,
          -92.45718000000001,
          -111.95351289999999,
          -111.7940787,
          -111.68648,
          -111.61301,
          -111.69421000000001,
          -122.1686795,
          -122.4637656,
          -118.9631,
          -119.3179,
          -122.5446971,
          -119.68763,
          -119.61261999999999,
          -119.76037,
          -119.78126,
          -122.448631,
          -104.89399999999999,
          -104.9719301,
          -72.679231,
          -73.42196835,
          -73.1674697,
          -73.5373122,
          -73.63035,
          -73.12980999999999,
          -73.48484,
          -73.44725,
          -72.92936999999999,
          -77.04772,
          -77.03908,
          -77.03908,
          -75.56374090000001,
          -75.16383,
          -80.2433033,
          -80.0875967,
          -87.210788,
          -80.180328,
          -80.36712,
          -80.11851999999999,
          -80.31475,
          -82.66664,
          -82.73236999999999,
          -82.70663,
          -82.50010999999999,
          -82.37106999999999,
          -82.24229,
          -81.63869,
          -81.46970400000001,
          -81.69021,
          -81.63859000000001,
          -81.67407,
          -87.25411,
          -81.08821,
          -80.35728,
          -82.50499,
          -80.31281,
          -81.87106,
          -82.56239000000001,
          -81.78779,
          -81.96226999999999,
          -82.2742,
          -84.28696,
          -80.22155,
          -81.99609,
          -82.4393082,
          -83.28660579999999,
          -84.979134,
          -84.98948,
          -83.46523,
          -82.042,
          -84.37996,
          -157.80213899999998,
          -157.97025,
          -158.08345,
          -157.74309,
          -93.20428000000001,
          -93.25968,
          -112.001602,
          -116.353059,
          -114.349951,
          -115.69313100000001,
          -116.589524,
          -114.496583,
          -88.18212083,
          -87.60449,
          -87.847572,
          -89.98395440000002,
          -88.93928740000001,
          -87.62566,
          -87.62119,
          -87.66898,
          -87.6683,
          -87.80308000000001,
          -87.90938,
          -87.761108,
          -88.16605,
          -88.14235,
          -88.09575,
          -86.87795,
          -87.57121,
          -95.6950282,
          -94.61367,
          -94.63797,
          -84.55700999999999,
          -84.76403,
          -91.1530923,
          -90.07054000000001,
          -90.04930999999999,
          -90.16709,
          -92.50381999999999,
          -93.21356999999999,
          -93.1927,
          -93.20795,
          -89.97188,
          -90.09983000000001,
          -90.80975,
          -90.71584,
          -90.05644000000001,
          -90.10138,
          -90.70781,
          -90.07984,
          -90.09493,
          -90.93235,
          -70.33643000000001,
          -70.273178,
          -71.252789,
          -71.76191800000001,
          -70.62230699999999,
          -70.273262,
          -76.990377,
          -76.3463844,
          -76.64078128,
          -76.68894499999999,
          -76.83596
         ],
         "marker": {
          "color": "#636efa"
         },
         "mode": "markers",
         "name": "",
         "showlegend": false,
         "subplot": "mapbox",
         "type": "scattermapbox"
        }
       ],
       "layout": {
        "legend": {
         "tracegroupgap": 0
        },
        "mapbox": {
         "center": {
          "lat": 35.56775135292857,
          "lon": -92.89802887971429
         },
         "domain": {
          "x": [
           0,
           1
          ],
          "y": [
           0,
           1
          ]
         },
         "zoom": 3
        },
        "margin": {
         "b": 0,
         "l": 0,
         "r": 0,
         "t": 0
        },
        "template": {
         "data": {
          "bar": [
           {
            "error_x": {
             "color": "#2a3f5f"
            },
            "error_y": {
             "color": "#2a3f5f"
            },
            "marker": {
             "line": {
              "color": "#E5ECF6",
              "width": 0.5
             }
            },
            "type": "bar"
           }
          ],
          "barpolar": [
           {
            "marker": {
             "line": {
              "color": "#E5ECF6",
              "width": 0.5
             }
            },
            "type": "barpolar"
           }
          ],
          "carpet": [
           {
            "aaxis": {
             "endlinecolor": "#2a3f5f",
             "gridcolor": "white",
             "linecolor": "white",
             "minorgridcolor": "white",
             "startlinecolor": "#2a3f5f"
            },
            "baxis": {
             "endlinecolor": "#2a3f5f",
             "gridcolor": "white",
             "linecolor": "white",
             "minorgridcolor": "white",
             "startlinecolor": "#2a3f5f"
            },
            "type": "carpet"
           }
          ],
          "choropleth": [
           {
            "colorbar": {
             "outlinewidth": 0,
             "ticks": ""
            },
            "type": "choropleth"
           }
          ],
          "contour": [
           {
            "colorbar": {
             "outlinewidth": 0,
             "ticks": ""
            },
            "colorscale": [
             [
              0,
              "#0d0887"
             ],
             [
              0.1111111111111111,
              "#46039f"
             ],
             [
              0.2222222222222222,
              "#7201a8"
             ],
             [
              0.3333333333333333,
              "#9c179e"
             ],
             [
              0.4444444444444444,
              "#bd3786"
             ],
             [
              0.5555555555555556,
              "#d8576b"
             ],
             [
              0.6666666666666666,
              "#ed7953"
             ],
             [
              0.7777777777777778,
              "#fb9f3a"
             ],
             [
              0.8888888888888888,
              "#fdca26"
             ],
             [
              1,
              "#f0f921"
             ]
            ],
            "type": "contour"
           }
          ],
          "contourcarpet": [
           {
            "colorbar": {
             "outlinewidth": 0,
             "ticks": ""
            },
            "type": "contourcarpet"
           }
          ],
          "heatmap": [
           {
            "colorbar": {
             "outlinewidth": 0,
             "ticks": ""
            },
            "colorscale": [
             [
              0,
              "#0d0887"
             ],
             [
              0.1111111111111111,
              "#46039f"
             ],
             [
              0.2222222222222222,
              "#7201a8"
             ],
             [
              0.3333333333333333,
              "#9c179e"
             ],
             [
              0.4444444444444444,
              "#bd3786"
             ],
             [
              0.5555555555555556,
              "#d8576b"
             ],
             [
              0.6666666666666666,
              "#ed7953"
             ],
             [
              0.7777777777777778,
              "#fb9f3a"
             ],
             [
              0.8888888888888888,
              "#fdca26"
             ],
             [
              1,
              "#f0f921"
             ]
            ],
            "type": "heatmap"
           }
          ],
          "heatmapgl": [
           {
            "colorbar": {
             "outlinewidth": 0,
             "ticks": ""
            },
            "colorscale": [
             [
              0,
              "#0d0887"
             ],
             [
              0.1111111111111111,
              "#46039f"
             ],
             [
              0.2222222222222222,
              "#7201a8"
             ],
             [
              0.3333333333333333,
              "#9c179e"
             ],
             [
              0.4444444444444444,
              "#bd3786"
             ],
             [
              0.5555555555555556,
              "#d8576b"
             ],
             [
              0.6666666666666666,
              "#ed7953"
             ],
             [
              0.7777777777777778,
              "#fb9f3a"
             ],
             [
              0.8888888888888888,
              "#fdca26"
             ],
             [
              1,
              "#f0f921"
             ]
            ],
            "type": "heatmapgl"
           }
          ],
          "histogram": [
           {
            "marker": {
             "colorbar": {
              "outlinewidth": 0,
              "ticks": ""
             }
            },
            "type": "histogram"
           }
          ],
          "histogram2d": [
           {
            "colorbar": {
             "outlinewidth": 0,
             "ticks": ""
            },
            "colorscale": [
             [
              0,
              "#0d0887"
             ],
             [
              0.1111111111111111,
              "#46039f"
             ],
             [
              0.2222222222222222,
              "#7201a8"
             ],
             [
              0.3333333333333333,
              "#9c179e"
             ],
             [
              0.4444444444444444,
              "#bd3786"
             ],
             [
              0.5555555555555556,
              "#d8576b"
             ],
             [
              0.6666666666666666,
              "#ed7953"
             ],
             [
              0.7777777777777778,
              "#fb9f3a"
             ],
             [
              0.8888888888888888,
              "#fdca26"
             ],
             [
              1,
              "#f0f921"
             ]
            ],
            "type": "histogram2d"
           }
          ],
          "histogram2dcontour": [
           {
            "colorbar": {
             "outlinewidth": 0,
             "ticks": ""
            },
            "colorscale": [
             [
              0,
              "#0d0887"
             ],
             [
              0.1111111111111111,
              "#46039f"
             ],
             [
              0.2222222222222222,
              "#7201a8"
             ],
             [
              0.3333333333333333,
              "#9c179e"
             ],
             [
              0.4444444444444444,
              "#bd3786"
             ],
             [
              0.5555555555555556,
              "#d8576b"
             ],
             [
              0.6666666666666666,
              "#ed7953"
             ],
             [
              0.7777777777777778,
              "#fb9f3a"
             ],
             [
              0.8888888888888888,
              "#fdca26"
             ],
             [
              1,
              "#f0f921"
             ]
            ],
            "type": "histogram2dcontour"
           }
          ],
          "mesh3d": [
           {
            "colorbar": {
             "outlinewidth": 0,
             "ticks": ""
            },
            "type": "mesh3d"
           }
          ],
          "parcoords": [
           {
            "line": {
             "colorbar": {
              "outlinewidth": 0,
              "ticks": ""
             }
            },
            "type": "parcoords"
           }
          ],
          "pie": [
           {
            "automargin": true,
            "type": "pie"
           }
          ],
          "scatter": [
           {
            "marker": {
             "colorbar": {
              "outlinewidth": 0,
              "ticks": ""
             }
            },
            "type": "scatter"
           }
          ],
          "scatter3d": [
           {
            "line": {
             "colorbar": {
              "outlinewidth": 0,
              "ticks": ""
             }
            },
            "marker": {
             "colorbar": {
              "outlinewidth": 0,
              "ticks": ""
             }
            },
            "type": "scatter3d"
           }
          ],
          "scattercarpet": [
           {
            "marker": {
             "colorbar": {
              "outlinewidth": 0,
              "ticks": ""
             }
            },
            "type": "scattercarpet"
           }
          ],
          "scattergeo": [
           {
            "marker": {
             "colorbar": {
              "outlinewidth": 0,
              "ticks": ""
             }
            },
            "type": "scattergeo"
           }
          ],
          "scattergl": [
           {
            "marker": {
             "colorbar": {
              "outlinewidth": 0,
              "ticks": ""
             }
            },
            "type": "scattergl"
           }
          ],
          "scattermapbox": [
           {
            "marker": {
             "colorbar": {
              "outlinewidth": 0,
              "ticks": ""
             }
            },
            "type": "scattermapbox"
           }
          ],
          "scatterpolar": [
           {
            "marker": {
             "colorbar": {
              "outlinewidth": 0,
              "ticks": ""
             }
            },
            "type": "scatterpolar"
           }
          ],
          "scatterpolargl": [
           {
            "marker": {
             "colorbar": {
              "outlinewidth": 0,
              "ticks": ""
             }
            },
            "type": "scatterpolargl"
           }
          ],
          "scatterternary": [
           {
            "marker": {
             "colorbar": {
              "outlinewidth": 0,
              "ticks": ""
             }
            },
            "type": "scatterternary"
           }
          ],
          "surface": [
           {
            "colorbar": {
             "outlinewidth": 0,
             "ticks": ""
            },
            "colorscale": [
             [
              0,
              "#0d0887"
             ],
             [
              0.1111111111111111,
              "#46039f"
             ],
             [
              0.2222222222222222,
              "#7201a8"
             ],
             [
              0.3333333333333333,
              "#9c179e"
             ],
             [
              0.4444444444444444,
              "#bd3786"
             ],
             [
              0.5555555555555556,
              "#d8576b"
             ],
             [
              0.6666666666666666,
              "#ed7953"
             ],
             [
              0.7777777777777778,
              "#fb9f3a"
             ],
             [
              0.8888888888888888,
              "#fdca26"
             ],
             [
              1,
              "#f0f921"
             ]
            ],
            "type": "surface"
           }
          ],
          "table": [
           {
            "cells": {
             "fill": {
              "color": "#EBF0F8"
             },
             "line": {
              "color": "white"
             }
            },
            "header": {
             "fill": {
              "color": "#C8D4E3"
             },
             "line": {
              "color": "white"
             }
            },
            "type": "table"
           }
          ]
         },
         "layout": {
          "annotationdefaults": {
           "arrowcolor": "#2a3f5f",
           "arrowhead": 0,
           "arrowwidth": 1
          },
          "coloraxis": {
           "colorbar": {
            "outlinewidth": 0,
            "ticks": ""
           }
          },
          "colorscale": {
           "diverging": [
            [
             0,
             "#8e0152"
            ],
            [
             0.1,
             "#c51b7d"
            ],
            [
             0.2,
             "#de77ae"
            ],
            [
             0.3,
             "#f1b6da"
            ],
            [
             0.4,
             "#fde0ef"
            ],
            [
             0.5,
             "#f7f7f7"
            ],
            [
             0.6,
             "#e6f5d0"
            ],
            [
             0.7,
             "#b8e186"
            ],
            [
             0.8,
             "#7fbc41"
            ],
            [
             0.9,
             "#4d9221"
            ],
            [
             1,
             "#276419"
            ]
           ],
           "sequential": [
            [
             0,
             "#0d0887"
            ],
            [
             0.1111111111111111,
             "#46039f"
            ],
            [
             0.2222222222222222,
             "#7201a8"
            ],
            [
             0.3333333333333333,
             "#9c179e"
            ],
            [
             0.4444444444444444,
             "#bd3786"
            ],
            [
             0.5555555555555556,
             "#d8576b"
            ],
            [
             0.6666666666666666,
             "#ed7953"
            ],
            [
             0.7777777777777778,
             "#fb9f3a"
            ],
            [
             0.8888888888888888,
             "#fdca26"
            ],
            [
             1,
             "#f0f921"
            ]
           ],
           "sequentialminus": [
            [
             0,
             "#0d0887"
            ],
            [
             0.1111111111111111,
             "#46039f"
            ],
            [
             0.2222222222222222,
             "#7201a8"
            ],
            [
             0.3333333333333333,
             "#9c179e"
            ],
            [
             0.4444444444444444,
             "#bd3786"
            ],
            [
             0.5555555555555556,
             "#d8576b"
            ],
            [
             0.6666666666666666,
             "#ed7953"
            ],
            [
             0.7777777777777778,
             "#fb9f3a"
            ],
            [
             0.8888888888888888,
             "#fdca26"
            ],
            [
             1,
             "#f0f921"
            ]
           ]
          },
          "colorway": [
           "#636efa",
           "#EF553B",
           "#00cc96",
           "#ab63fa",
           "#FFA15A",
           "#19d3f3",
           "#FF6692",
           "#B6E880",
           "#FF97FF",
           "#FECB52"
          ],
          "font": {
           "color": "#2a3f5f"
          },
          "geo": {
           "bgcolor": "white",
           "lakecolor": "white",
           "landcolor": "#E5ECF6",
           "showlakes": true,
           "showland": true,
           "subunitcolor": "white"
          },
          "hoverlabel": {
           "align": "left"
          },
          "hovermode": "closest",
          "mapbox": {
           "style": "light"
          },
          "paper_bgcolor": "white",
          "plot_bgcolor": "#E5ECF6",
          "polar": {
           "angularaxis": {
            "gridcolor": "white",
            "linecolor": "white",
            "ticks": ""
           },
           "bgcolor": "#E5ECF6",
           "radialaxis": {
            "gridcolor": "white",
            "linecolor": "white",
            "ticks": ""
           }
          },
          "scene": {
           "xaxis": {
            "backgroundcolor": "#E5ECF6",
            "gridcolor": "white",
            "gridwidth": 2,
            "linecolor": "white",
            "showbackground": true,
            "ticks": "",
            "zerolinecolor": "white"
           },
           "yaxis": {
            "backgroundcolor": "#E5ECF6",
            "gridcolor": "white",
            "gridwidth": 2,
            "linecolor": "white",
            "showbackground": true,
            "ticks": "",
            "zerolinecolor": "white"
           },
           "zaxis": {
            "backgroundcolor": "#E5ECF6",
            "gridcolor": "white",
            "gridwidth": 2,
            "linecolor": "white",
            "showbackground": true,
            "ticks": "",
            "zerolinecolor": "white"
           }
          },
          "shapedefaults": {
           "line": {
            "color": "#2a3f5f"
           }
          },
          "ternary": {
           "aaxis": {
            "gridcolor": "white",
            "linecolor": "white",
            "ticks": ""
           },
           "baxis": {
            "gridcolor": "white",
            "linecolor": "white",
            "ticks": ""
           },
           "bgcolor": "#E5ECF6",
           "caxis": {
            "gridcolor": "white",
            "linecolor": "white",
            "ticks": ""
           }
          },
          "title": {
           "x": 0.05
          },
          "xaxis": {
           "automargin": true,
           "gridcolor": "white",
           "linecolor": "white",
           "ticks": "",
           "title": {
            "standoff": 15
           },
           "zerolinecolor": "white",
           "zerolinewidth": 2
          },
          "yaxis": {
           "automargin": true,
           "gridcolor": "white",
           "linecolor": "white",
           "ticks": "",
           "title": {
            "standoff": 15
           },
           "zerolinecolor": "white",
           "zerolinewidth": 2
          }
         }
        }
       }
      },
      "text/html": [
       "<div>\n",
       "        \n",
       "        \n",
       "            <div id=\"0429cd59-8484-4d29-8bdc-41bcf2a9cb46\" class=\"plotly-graph-div\" style=\"height:525px; width:100%;\"></div>\n",
       "            <script type=\"text/javascript\">\n",
       "                require([\"plotly\"], function(Plotly) {\n",
       "                    window.PLOTLYENV=window.PLOTLYENV || {};\n",
       "                    \n",
       "                if (document.getElementById(\"0429cd59-8484-4d29-8bdc-41bcf2a9cb46\")) {\n",
       "                    Plotly.newPlot(\n",
       "                        '0429cd59-8484-4d29-8bdc-41bcf2a9cb46',\n",
       "                        [{\"hoverlabel\": {\"namelength\": 0}, \"hovertemplate\": \"<b>%{hovertext}</b><br><br>Latitude=%{lat}<br>Longitude=%{lon}\", \"hovertext\": [\" Collaborative Effort of Health Care Providers \", \" Alaska Healthcare \", \" Fairbanks\\\\' Foundation Health Partners \", \" Fairbanks Memorial Hospital \", \" Church of the Highlands- Grant\\\\'s Mill \", \" UAMS \", \" Mercy Coronavirus Evaluation Site \", \" Conway Regional Hospital System  \", \" Mayo Clinic Hospital \", \" Mayo Clinic \", \" Maready Medical \", \" Coconino County Department of Health and Human Services \", \" Coconino County Department of Health and Human Services \", \" Stanford Health Care \", \" Kaiser Permanente French Campus \", \" Mammoth Hospital \", \" Visalia Walk In Medical Clinic - West Caldwell Ave \", \" One Medical \", \" Clovis Urgent Care Medical Center \", \" Industrial Health Care Urgent Care \", \" San Joaquin Valley Rehabilitation Hospital \", \" 24/7 Urgent Care Clinic \", \" UCSF \", \" Colorado Department of Public Health and Environment State Lab \", \" Denver Coliseum \", \" Hartford Hospital \", \" Norwalk Hospital \", \" Bridgeport Hospital \", \" Murphy Medical Associates \", \" Greenwich Hospital \", \" Murphy Medical Associates \", \" Murphy Medical Associates \", \" Danbury Hospital  \", \" Yale- New Haven \", \" George Washington University Hospital \", \" AllCare \", \" AllCare of Rhode Island Ave. \", \" ChristianaCare \", \" Bayview Medical Center \", \" Cleveland Clinic Martin Health \", \" FoundCare, Inc. \", \" Ascension Sacred Heart  \", \" Memorial Healthcare System in Broward County \", \" Cleveland Clinic Florida \", \" Broward Health  \", \" Memorial Hospital West-C.B. Park \", \" BayCare \", \" BayCare \", \" BayCare \", \" BayCare \", \" BayCare \", \" BayCare \", \" BayCare \", \" Orange Country Convention Center \", \" Ascension St. Vincent\\u2019s \", \" BayCare Health System \", \" City of Jacksonville | Baptist Health | Telescope Health (Prime F. Osborn III Convention Center) \", \" Community Health Northwest Florida (Brownsville Community Center) \", \" Community Health of South Florida, Inc. (Marathon Community Park) \", \" Community Health of South Florida, Inc.(Doris Ison Health Center) \", \" Hillsborough County Dept of Health (Raymond James Stadium) \", \" Larkin Community Hospital \", \" Lee Health Convenient Care \", \" Manatee County Health Department (Bradenton Area Convention Center) \", \" NCH Healthcare System \", \" Premiere Medical Associates \", \" Premiere Medical Associates \", \" Tallahassee Memorial HealthCare \", \" The City of Miami, Jackson Health Systems, Nat\\\\'l Guard, and the University of Miami (Marlins Park) \", \" University of Florida Health (The Villages Polo Club) \", \" The Florida Department of Health \", \" Valdosta\\\\'s South Georgia Medical Center \", \" Dept. of Public Health-West Central Health \", \" MercyMed of Columbus \", \" Piedmont Athens- Oconee Health Campus \", \" Augusta University Health System- Christenberry Fieldhouse \", \" AllCare \", \" Walgreens/ Premire Medical Group Hawaii \", \" Urgent Care Hawaii-Pearl City \", \" Urgent Care Hawaii--Kapolei \", \" Urgent Care Hawaii-Kailua \", \" North Iowa Events Center \", \" MercyOne Medical Group North Iowa \", \" Mountain View Hospital \", \" St. Luke\\\\'s Meridian Medical Center \", \" St. Luke\\\\'s Wood River Hospital \", \" St. Luke\\\\'s Elmore Medical Center \", \" Saltzer Medical Group \", \" St. Luke\\\\'s Magic Valley Medical Center \", \" Advocate Good Shepard \", \" University of Chicago Medical Center \", \" Advocate Lutheran General Hospital  \", \" Siteman Cancer Center \", \" SSM Health Good Samaritan Hospital \", \" Roseland Community Hospital \", \" Northwestern Memorial Hospital, Lavin Family Pavillion \", \" Rush University Medical Center \", \" Innovative Express Care \", \" Illinois Department of Public Health, Harwood Heights Community Testing Site \", \" Walmart \", \" NorthShore University HealthSystem \", \" Edward-Elmhurst Health \", \" Walmart \", \" Walgreens \", \" Franciscian Health Michigan City  \", \" Deaconess Midtown Hospital  \", \" Stormont Vail \", \" Sharon Lee Family Health Clinic \", \" Saint Luke\\\\'s Multispecialty Clinc, Mission Farms \", \" Bluegrass Extended Care Medicine \", \" Integrity Extended Healthcare \", \" Baton Rouge General Medical Center \", \" Mahalia Jackson Theatre \", \" University of New Orleans Lakefront Arena \", \" Alario Event Center \", \" Office of Public Health - Rapides Parish Coliseum \", \" Burton Coliseum Complex \", \" SWLA Center for Health Services \", \" Moss Memorial Health Clinic \", \" New Orleans East Hospital \", \" Odyssey House Louisiana \", \" Thibodaux Regional Health System \", \" TGMC Medical Arts facility \", \" CrescentCare \", \" Ochsner Urgent Care - Mid City \", \" Ochsner Urgent Care \\u2013 Houma \", \" Ochsner Urgent Care \\u2013 Mandeville \", \" West Jefferson Medical Center \", \" St. Elizabeth Hospital \", \" Cape Cod Community College \", \" Cape Cod Hospital \", \" AFC Urgent Care Waltham \", \" UMassMemorial HealthAlliance \\u2014 Clinton Hospital \", \" Falmouth Hospital \", \" Cape Cod Hospital \", \" LifeBridge Health / Carroll Hospital  \", \" University of Maryland Upper Chesapeake Health \", \" Medstar St. Mary\\\\'s Hospital  \", \" Chesapeake ERgent Care \", \" AllCare \"], \"lat\": [61.1828699, 61.18261999999999, 64.83998000000001, 64.832649, 33.51699910000001, 34.749005100000005, 36.329311, 35.08586, 33.66211083, 33.586042299999995, 33.34102, 35.21788, 35.141220000000004, 37.441514899999994, 37.780666100000005, 37.64393, 36.2981, 38.00823, 36.80905, 36.56586, 36.84008, 36.83701, 37.786097999999996, 39.71696, 39.780581700000006, 41.754560999999995, 41.1108619, 41.18947085, 41.06005506, 41.03451, 41.17517, 41.12857, 41.40475, 41.28546, 38.900929999999995, 38.90603, 38.90603, 39.7348389, 38.75385, 27.199390500000003, 26.6417515, 30.481178000000003, 26.019739, 26.07709, 26.275159999999996, 26.012610000000002, 27.89265, 28.22932, 28.042920000000002, 27.98084, 28.12605, 27.893790000000003, 28.127059999999997, 28.427271, 30.30759, 28.12685, 30.32804, 30.42356, 24.71221, 25.565929999999998, 27.976440000000004, 25.86885, 26.59184, 27.515140000000002, 26.27415, 28.951390000000004, 29.063240000000004, 30.466520000000003, 25.77816, 28.934009999999997, 27.2672577, 30.8623305, 32.4832, 32.49828, 33.91554, 33.47041, 33.86005, 21.419479, 21.401629999999997, 21.33377, 21.3943, 43.155429999999996, 43.14852, 43.478947999999995, 43.598708, 43.648703000000005, 43.13865, 43.617235, 42.590956, 42.19386055, 41.7882, 42.039371, 38.5638097, 38.297049799999996, 41.69232, 41.894890000000004, 41.87486, 41.92522, 41.955870000000004, 41.90683, 42.061729, 41.8089, 41.51891, 41.70601, 41.708079999999995, 37.98316, 39.0516701, 39.06843, 38.93635, 38.019709999999996, 37.621281, 30.449546299999998, 29.961540000000003, 30.030509999999996, 29.89746, 31.2964, 30.13968, 30.241059999999997, 30.18283, 30.031229999999997, 29.95083, 29.784470000000002, 29.59628, 29.97379, 29.97502, 29.59827, 30.38717, 29.89156, 30.209809999999997, 41.688, 41.652951, 42.376062, 42.541043, 41.564415000000004, 41.653488, 39.558286100000004, 39.5191344, 38.29958962, 39.02564, 39.27774], \"legendgroup\": \"\", \"lon\": [-149.837269, -149.83806, -147.71432, -147.74156200000002, -86.6558468, -92.32009649999999, -94.17524, -92.45718000000001, -111.95351289999999, -111.7940787, -111.68648, -111.61301, -111.69421000000001, -122.1686795, -122.4637656, -118.9631, -119.3179, -122.5446971, -119.68763, -119.61261999999999, -119.76037, -119.78126, -122.448631, -104.89399999999999, -104.9719301, -72.679231, -73.42196835, -73.1674697, -73.5373122, -73.63035, -73.12980999999999, -73.48484, -73.44725, -72.92936999999999, -77.04772, -77.03908, -77.03908, -75.56374090000001, -75.16383, -80.2433033, -80.0875967, -87.210788, -80.180328, -80.36712, -80.11851999999999, -80.31475, -82.66664, -82.73236999999999, -82.70663, -82.50010999999999, -82.37106999999999, -82.24229, -81.63869, -81.46970400000001, -81.69021, -81.63859000000001, -81.67407, -87.25411, -81.08821, -80.35728, -82.50499, -80.31281, -81.87106, -82.56239000000001, -81.78779, -81.96226999999999, -82.2742, -84.28696, -80.22155, -81.99609, -82.4393082, -83.28660579999999, -84.979134, -84.98948, -83.46523, -82.042, -84.37996, -157.80213899999998, -157.97025, -158.08345, -157.74309, -93.20428000000001, -93.25968, -112.001602, -116.353059, -114.349951, -115.69313100000001, -116.589524, -114.496583, -88.18212083, -87.60449, -87.847572, -89.98395440000002, -88.93928740000001, -87.62566, -87.62119, -87.66898, -87.6683, -87.80308000000001, -87.90938, -87.761108, -88.16605, -88.14235, -88.09575, -86.87795, -87.57121, -95.6950282, -94.61367, -94.63797, -84.55700999999999, -84.76403, -91.1530923, -90.07054000000001, -90.04930999999999, -90.16709, -92.50381999999999, -93.21356999999999, -93.1927, -93.20795, -89.97188, -90.09983000000001, -90.80975, -90.71584, -90.05644000000001, -90.10138, -90.70781, -90.07984, -90.09493, -90.93235, -70.33643000000001, -70.273178, -71.252789, -71.76191800000001, -70.62230699999999, -70.273262, -76.990377, -76.3463844, -76.64078128, -76.68894499999999, -76.83596], \"marker\": {\"color\": \"#636efa\"}, \"mode\": \"markers\", \"name\": \"\", \"showlegend\": false, \"subplot\": \"mapbox\", \"type\": \"scattermapbox\"}],\n",
       "                        {\"legend\": {\"tracegroupgap\": 0}, \"mapbox\": {\"center\": {\"lat\": 35.56775135292857, \"lon\": -92.89802887971429}, \"domain\": {\"x\": [0.0, 1.0], \"y\": [0.0, 1.0]}, \"zoom\": 3}, \"margin\": {\"b\": 0, \"l\": 0, \"r\": 0, \"t\": 0}, \"template\": {\"data\": {\"bar\": [{\"error_x\": {\"color\": \"#2a3f5f\"}, \"error_y\": {\"color\": \"#2a3f5f\"}, \"marker\": {\"line\": {\"color\": \"#E5ECF6\", \"width\": 0.5}}, \"type\": \"bar\"}], \"barpolar\": [{\"marker\": {\"line\": {\"color\": \"#E5ECF6\", \"width\": 0.5}}, \"type\": \"barpolar\"}], \"carpet\": [{\"aaxis\": {\"endlinecolor\": \"#2a3f5f\", \"gridcolor\": \"white\", \"linecolor\": \"white\", \"minorgridcolor\": \"white\", \"startlinecolor\": \"#2a3f5f\"}, \"baxis\": {\"endlinecolor\": \"#2a3f5f\", \"gridcolor\": \"white\", \"linecolor\": \"white\", \"minorgridcolor\": \"white\", \"startlinecolor\": \"#2a3f5f\"}, \"type\": \"carpet\"}], \"choropleth\": [{\"colorbar\": {\"outlinewidth\": 0, \"ticks\": \"\"}, \"type\": \"choropleth\"}], \"contour\": [{\"colorbar\": {\"outlinewidth\": 0, \"ticks\": \"\"}, \"colorscale\": [[0.0, \"#0d0887\"], [0.1111111111111111, \"#46039f\"], [0.2222222222222222, \"#7201a8\"], [0.3333333333333333, \"#9c179e\"], [0.4444444444444444, \"#bd3786\"], [0.5555555555555556, \"#d8576b\"], [0.6666666666666666, \"#ed7953\"], [0.7777777777777778, \"#fb9f3a\"], [0.8888888888888888, \"#fdca26\"], [1.0, \"#f0f921\"]], \"type\": \"contour\"}], \"contourcarpet\": [{\"colorbar\": {\"outlinewidth\": 0, \"ticks\": \"\"}, \"type\": \"contourcarpet\"}], \"heatmap\": [{\"colorbar\": {\"outlinewidth\": 0, \"ticks\": \"\"}, \"colorscale\": [[0.0, \"#0d0887\"], [0.1111111111111111, \"#46039f\"], [0.2222222222222222, \"#7201a8\"], [0.3333333333333333, \"#9c179e\"], [0.4444444444444444, \"#bd3786\"], [0.5555555555555556, \"#d8576b\"], [0.6666666666666666, \"#ed7953\"], [0.7777777777777778, \"#fb9f3a\"], [0.8888888888888888, \"#fdca26\"], [1.0, \"#f0f921\"]], \"type\": \"heatmap\"}], \"heatmapgl\": [{\"colorbar\": {\"outlinewidth\": 0, \"ticks\": \"\"}, \"colorscale\": [[0.0, \"#0d0887\"], [0.1111111111111111, \"#46039f\"], [0.2222222222222222, \"#7201a8\"], [0.3333333333333333, \"#9c179e\"], [0.4444444444444444, \"#bd3786\"], [0.5555555555555556, \"#d8576b\"], [0.6666666666666666, \"#ed7953\"], [0.7777777777777778, \"#fb9f3a\"], [0.8888888888888888, \"#fdca26\"], [1.0, \"#f0f921\"]], \"type\": \"heatmapgl\"}], \"histogram\": [{\"marker\": {\"colorbar\": {\"outlinewidth\": 0, \"ticks\": \"\"}}, \"type\": \"histogram\"}], \"histogram2d\": [{\"colorbar\": {\"outlinewidth\": 0, \"ticks\": \"\"}, \"colorscale\": [[0.0, \"#0d0887\"], [0.1111111111111111, \"#46039f\"], [0.2222222222222222, \"#7201a8\"], [0.3333333333333333, \"#9c179e\"], [0.4444444444444444, \"#bd3786\"], [0.5555555555555556, \"#d8576b\"], [0.6666666666666666, \"#ed7953\"], [0.7777777777777778, \"#fb9f3a\"], [0.8888888888888888, \"#fdca26\"], [1.0, \"#f0f921\"]], \"type\": \"histogram2d\"}], \"histogram2dcontour\": [{\"colorbar\": {\"outlinewidth\": 0, \"ticks\": \"\"}, \"colorscale\": [[0.0, \"#0d0887\"], [0.1111111111111111, \"#46039f\"], [0.2222222222222222, \"#7201a8\"], [0.3333333333333333, \"#9c179e\"], [0.4444444444444444, \"#bd3786\"], [0.5555555555555556, \"#d8576b\"], [0.6666666666666666, \"#ed7953\"], [0.7777777777777778, \"#fb9f3a\"], [0.8888888888888888, \"#fdca26\"], [1.0, \"#f0f921\"]], \"type\": \"histogram2dcontour\"}], \"mesh3d\": [{\"colorbar\": {\"outlinewidth\": 0, \"ticks\": \"\"}, \"type\": \"mesh3d\"}], \"parcoords\": [{\"line\": {\"colorbar\": {\"outlinewidth\": 0, \"ticks\": \"\"}}, \"type\": \"parcoords\"}], \"pie\": [{\"automargin\": true, \"type\": \"pie\"}], \"scatter\": [{\"marker\": {\"colorbar\": {\"outlinewidth\": 0, \"ticks\": \"\"}}, \"type\": \"scatter\"}], \"scatter3d\": [{\"line\": {\"colorbar\": {\"outlinewidth\": 0, \"ticks\": \"\"}}, \"marker\": {\"colorbar\": {\"outlinewidth\": 0, \"ticks\": \"\"}}, \"type\": \"scatter3d\"}], \"scattercarpet\": [{\"marker\": {\"colorbar\": {\"outlinewidth\": 0, \"ticks\": \"\"}}, \"type\": \"scattercarpet\"}], \"scattergeo\": [{\"marker\": {\"colorbar\": {\"outlinewidth\": 0, \"ticks\": \"\"}}, \"type\": \"scattergeo\"}], \"scattergl\": [{\"marker\": {\"colorbar\": {\"outlinewidth\": 0, \"ticks\": \"\"}}, \"type\": \"scattergl\"}], \"scattermapbox\": [{\"marker\": {\"colorbar\": {\"outlinewidth\": 0, \"ticks\": \"\"}}, \"type\": \"scattermapbox\"}], \"scatterpolar\": [{\"marker\": {\"colorbar\": {\"outlinewidth\": 0, \"ticks\": \"\"}}, \"type\": \"scatterpolar\"}], \"scatterpolargl\": [{\"marker\": {\"colorbar\": {\"outlinewidth\": 0, \"ticks\": \"\"}}, \"type\": \"scatterpolargl\"}], \"scatterternary\": [{\"marker\": {\"colorbar\": {\"outlinewidth\": 0, \"ticks\": \"\"}}, \"type\": \"scatterternary\"}], \"surface\": [{\"colorbar\": {\"outlinewidth\": 0, \"ticks\": \"\"}, \"colorscale\": [[0.0, \"#0d0887\"], [0.1111111111111111, \"#46039f\"], [0.2222222222222222, \"#7201a8\"], [0.3333333333333333, \"#9c179e\"], [0.4444444444444444, \"#bd3786\"], [0.5555555555555556, \"#d8576b\"], [0.6666666666666666, \"#ed7953\"], [0.7777777777777778, \"#fb9f3a\"], [0.8888888888888888, \"#fdca26\"], [1.0, \"#f0f921\"]], \"type\": \"surface\"}], \"table\": [{\"cells\": {\"fill\": {\"color\": \"#EBF0F8\"}, \"line\": {\"color\": \"white\"}}, \"header\": {\"fill\": {\"color\": \"#C8D4E3\"}, \"line\": {\"color\": \"white\"}}, \"type\": \"table\"}]}, \"layout\": {\"annotationdefaults\": {\"arrowcolor\": \"#2a3f5f\", \"arrowhead\": 0, \"arrowwidth\": 1}, \"coloraxis\": {\"colorbar\": {\"outlinewidth\": 0, \"ticks\": \"\"}}, \"colorscale\": {\"diverging\": [[0, \"#8e0152\"], [0.1, \"#c51b7d\"], [0.2, \"#de77ae\"], [0.3, \"#f1b6da\"], [0.4, \"#fde0ef\"], [0.5, \"#f7f7f7\"], [0.6, \"#e6f5d0\"], [0.7, \"#b8e186\"], [0.8, \"#7fbc41\"], [0.9, \"#4d9221\"], [1, \"#276419\"]], \"sequential\": [[0.0, \"#0d0887\"], [0.1111111111111111, \"#46039f\"], [0.2222222222222222, \"#7201a8\"], [0.3333333333333333, \"#9c179e\"], [0.4444444444444444, \"#bd3786\"], [0.5555555555555556, \"#d8576b\"], [0.6666666666666666, \"#ed7953\"], [0.7777777777777778, \"#fb9f3a\"], [0.8888888888888888, \"#fdca26\"], [1.0, \"#f0f921\"]], \"sequentialminus\": [[0.0, \"#0d0887\"], [0.1111111111111111, \"#46039f\"], [0.2222222222222222, \"#7201a8\"], [0.3333333333333333, \"#9c179e\"], [0.4444444444444444, \"#bd3786\"], [0.5555555555555556, \"#d8576b\"], [0.6666666666666666, \"#ed7953\"], [0.7777777777777778, \"#fb9f3a\"], [0.8888888888888888, \"#fdca26\"], [1.0, \"#f0f921\"]]}, \"colorway\": [\"#636efa\", \"#EF553B\", \"#00cc96\", \"#ab63fa\", \"#FFA15A\", \"#19d3f3\", \"#FF6692\", \"#B6E880\", \"#FF97FF\", \"#FECB52\"], \"font\": {\"color\": \"#2a3f5f\"}, \"geo\": {\"bgcolor\": \"white\", \"lakecolor\": \"white\", \"landcolor\": \"#E5ECF6\", \"showlakes\": true, \"showland\": true, \"subunitcolor\": \"white\"}, \"hoverlabel\": {\"align\": \"left\"}, \"hovermode\": \"closest\", \"mapbox\": {\"style\": \"light\"}, \"paper_bgcolor\": \"white\", \"plot_bgcolor\": \"#E5ECF6\", \"polar\": {\"angularaxis\": {\"gridcolor\": \"white\", \"linecolor\": \"white\", \"ticks\": \"\"}, \"bgcolor\": \"#E5ECF6\", \"radialaxis\": {\"gridcolor\": \"white\", \"linecolor\": \"white\", \"ticks\": \"\"}}, \"scene\": {\"xaxis\": {\"backgroundcolor\": \"#E5ECF6\", \"gridcolor\": \"white\", \"gridwidth\": 2, \"linecolor\": \"white\", \"showbackground\": true, \"ticks\": \"\", \"zerolinecolor\": \"white\"}, \"yaxis\": {\"backgroundcolor\": \"#E5ECF6\", \"gridcolor\": \"white\", \"gridwidth\": 2, \"linecolor\": \"white\", \"showbackground\": true, \"ticks\": \"\", \"zerolinecolor\": \"white\"}, \"zaxis\": {\"backgroundcolor\": \"#E5ECF6\", \"gridcolor\": \"white\", \"gridwidth\": 2, \"linecolor\": \"white\", \"showbackground\": true, \"ticks\": \"\", \"zerolinecolor\": \"white\"}}, \"shapedefaults\": {\"line\": {\"color\": \"#2a3f5f\"}}, \"ternary\": {\"aaxis\": {\"gridcolor\": \"white\", \"linecolor\": \"white\", \"ticks\": \"\"}, \"baxis\": {\"gridcolor\": \"white\", \"linecolor\": \"white\", \"ticks\": \"\"}, \"bgcolor\": \"#E5ECF6\", \"caxis\": {\"gridcolor\": \"white\", \"linecolor\": \"white\", \"ticks\": \"\"}}, \"title\": {\"x\": 0.05}, \"xaxis\": {\"automargin\": true, \"gridcolor\": \"white\", \"linecolor\": \"white\", \"ticks\": \"\", \"title\": {\"standoff\": 15}, \"zerolinecolor\": \"white\", \"zerolinewidth\": 2}, \"yaxis\": {\"automargin\": true, \"gridcolor\": \"white\", \"linecolor\": \"white\", \"ticks\": \"\", \"title\": {\"standoff\": 15}, \"zerolinecolor\": \"white\", \"zerolinewidth\": 2}}}},\n",
       "                        {\"responsive\": true}\n",
       "                    ).then(function(){\n",
       "                            \n",
       "var gd = document.getElementById('0429cd59-8484-4d29-8bdc-41bcf2a9cb46');\n",
       "var x = new MutationObserver(function (mutations, observer) {{\n",
       "        var display = window.getComputedStyle(gd).display;\n",
       "        if (!display || display === 'none') {{\n",
       "            console.log([gd, 'removed!']);\n",
       "            Plotly.purge(gd);\n",
       "            observer.disconnect();\n",
       "        }}\n",
       "}});\n",
       "\n",
       "// Listen for the removal of the full notebook cells\n",
       "var notebookContainer = gd.closest('#notebook-container');\n",
       "if (notebookContainer) {{\n",
       "    x.observe(notebookContainer, {childList: true});\n",
       "}}\n",
       "\n",
       "// Listen for the clearing of the current output cell\n",
       "var outputEl = gd.closest('.output');\n",
       "if (outputEl) {{\n",
       "    x.observe(outputEl, {childList: true});\n",
       "}}\n",
       "\n",
       "                        })\n",
       "                };\n",
       "                });\n",
       "            </script>\n",
       "        </div>"
      ]
     },
     "metadata": {},
     "output_type": "display_data"
    }
   ],
   "source": [
    "fig = px.scatter_mapbox(df, lat=\"Latitude\", lon=\"Longitude\", hover_name=\"Name\", zoom=3)\n",
    "fig.update_layout(mapbox_style=\"dark\")\n",
    "fig.update_layout(margin={\"r\":0,\"t\":0,\"l\":0,\"b\":0})\n",
    "fig.show()"
   ]
  }
 ],
 "metadata": {
  "kernelspec": {
   "display_name": "Python 3",
   "language": "python",
   "name": "python3"
  },
  "language_info": {
   "codemirror_mode": {
    "name": "ipython",
    "version": 3
   },
   "file_extension": ".py",
   "mimetype": "text/x-python",
   "name": "python",
   "nbconvert_exporter": "python",
   "pygments_lexer": "ipython3",
   "version": "3.7.6"
  }
 },
 "nbformat": 4,
 "nbformat_minor": 4
}
