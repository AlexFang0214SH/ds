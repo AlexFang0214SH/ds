{
 "cells": [
  {
   "cell_type": "code",
   "execution_count": 2,
   "metadata": {},
   "outputs": [
    {
     "name": "stderr",
     "output_type": "stream",
     "text": [
      "/home/ubuntu/.local/share/virtualenvs/covid19-dash-q8XJLdOW/lib/python3.7/site-packages/ipykernel_launcher.py:12: FutureWarning: Passing a negative integer is deprecated in version 1.0 and will not be supported in future version. Instead, use None to not limit the column width.\n",
      "  if sys.path[0] == '':\n"
     ]
    }
   ],
   "source": [
    "from utils import CovidMongo\n",
    "import pandas as pd\n",
    "import os\n",
    "import numpy as np\n",
    "import json\n",
    "import re\n",
    "import os\n",
    "\n",
    "# --------- Pandas Settings ---------- #\n",
    "pd.set_option('display.max_rows', 200)\n",
    "pd.set_option('display.max_columns', 200)\n",
    "pd.set_option('display.max_colwidth', -1)"
   ]
  },
  {
   "cell_type": "markdown",
   "metadata": {},
   "source": [
    "## Load Data"
   ]
  },
  {
   "cell_type": "code",
   "execution_count": 3,
   "metadata": {},
   "outputs": [
    {
     "name": "stdout",
     "output_type": "stream",
     "text": [
      "<class 'pandas.core.frame.DataFrame'>\n",
      "RangeIndex: 258 entries, 0 to 257\n",
      "Data columns (total 8 columns):\n",
      " #   Column          Non-Null Count  Dtype  \n",
      "---  ------          --------------  -----  \n",
      " 0   Province/State  119 non-null    object \n",
      " 1   Country/Region  258 non-null    object \n",
      " 2   Last Update     258 non-null    object \n",
      " 3   Confirmed       258 non-null    int64  \n",
      " 4   Deaths          258 non-null    int64  \n",
      " 5   Recovered       258 non-null    int64  \n",
      " 6   Latitude        258 non-null    float64\n",
      " 7   Longitude       258 non-null    float64\n",
      "dtypes: float64(2), int64(3), object(3)\n",
      "memory usage: 16.2+ KB\n"
     ]
    }
   ],
   "source": [
    "DATA_DIR = \"../csse_covid_19_data/csse_covid_19_daily_reports/\"\n",
    "CSV_FILE = \"03-15-2020.csv\"\n",
    "\n",
    "df = pd.read_csv(os.path.join(DATA_DIR, CSV_FILE))\n",
    "df.info()"
   ]
  },
  {
   "cell_type": "code",
   "execution_count": 4,
   "metadata": {
    "scrolled": true
   },
   "outputs": [
    {
     "data": {
      "text/html": [
       "<div>\n",
       "<style scoped>\n",
       "    .dataframe tbody tr th:only-of-type {\n",
       "        vertical-align: middle;\n",
       "    }\n",
       "\n",
       "    .dataframe tbody tr th {\n",
       "        vertical-align: top;\n",
       "    }\n",
       "\n",
       "    .dataframe thead th {\n",
       "        text-align: right;\n",
       "    }\n",
       "</style>\n",
       "<table border=\"1\" class=\"dataframe\">\n",
       "  <thead>\n",
       "    <tr style=\"text-align: right;\">\n",
       "      <th></th>\n",
       "      <th>Province/State</th>\n",
       "      <th>Country/Region</th>\n",
       "      <th>Last Update</th>\n",
       "      <th>Confirmed</th>\n",
       "      <th>Deaths</th>\n",
       "      <th>Recovered</th>\n",
       "      <th>Latitude</th>\n",
       "      <th>Longitude</th>\n",
       "    </tr>\n",
       "  </thead>\n",
       "  <tbody>\n",
       "    <tr>\n",
       "      <th>0</th>\n",
       "      <td>Hubei</td>\n",
       "      <td>China</td>\n",
       "      <td>2020-03-15T18:20:18</td>\n",
       "      <td>67794</td>\n",
       "      <td>3085</td>\n",
       "      <td>54288</td>\n",
       "      <td>30.9756</td>\n",
       "      <td>112.2707</td>\n",
       "    </tr>\n",
       "    <tr>\n",
       "      <th>1</th>\n",
       "      <td>NaN</td>\n",
       "      <td>Italy</td>\n",
       "      <td>2020-03-14T20:13:16</td>\n",
       "      <td>24747</td>\n",
       "      <td>1809</td>\n",
       "      <td>2335</td>\n",
       "      <td>41.8719</td>\n",
       "      <td>12.5674</td>\n",
       "    </tr>\n",
       "    <tr>\n",
       "      <th>2</th>\n",
       "      <td>NaN</td>\n",
       "      <td>Iran</td>\n",
       "      <td>2020-03-15T18:20:18</td>\n",
       "      <td>13938</td>\n",
       "      <td>724</td>\n",
       "      <td>4590</td>\n",
       "      <td>32.4279</td>\n",
       "      <td>53.6880</td>\n",
       "    </tr>\n",
       "    <tr>\n",
       "      <th>3</th>\n",
       "      <td>NaN</td>\n",
       "      <td>Korea, South</td>\n",
       "      <td>2020-03-15T18:20:18</td>\n",
       "      <td>8162</td>\n",
       "      <td>75</td>\n",
       "      <td>510</td>\n",
       "      <td>35.9078</td>\n",
       "      <td>127.7669</td>\n",
       "    </tr>\n",
       "    <tr>\n",
       "      <th>4</th>\n",
       "      <td>NaN</td>\n",
       "      <td>Spain</td>\n",
       "      <td>2020-03-15T18:20:18</td>\n",
       "      <td>7798</td>\n",
       "      <td>289</td>\n",
       "      <td>517</td>\n",
       "      <td>40.4637</td>\n",
       "      <td>-3.7492</td>\n",
       "    </tr>\n",
       "  </tbody>\n",
       "</table>\n",
       "</div>"
      ],
      "text/plain": [
       "  Province/State Country/Region          Last Update  Confirmed  Deaths  \\\n",
       "0  Hubei          China          2020-03-15T18:20:18  67794      3085     \n",
       "1  NaN            Italy          2020-03-14T20:13:16  24747      1809     \n",
       "2  NaN            Iran           2020-03-15T18:20:18  13938      724      \n",
       "3  NaN            Korea, South   2020-03-15T18:20:18  8162       75       \n",
       "4  NaN            Spain          2020-03-15T18:20:18  7798       289      \n",
       "\n",
       "   Recovered  Latitude  Longitude  \n",
       "0  54288      30.9756   112.2707   \n",
       "1  2335       41.8719   12.5674    \n",
       "2  4590       32.4279   53.6880    \n",
       "3  510        35.9078   127.7669   \n",
       "4  517        40.4637  -3.7492     "
      ]
     },
     "execution_count": 4,
     "metadata": {},
     "output_type": "execute_result"
    }
   ],
   "source": [
    "df.head()"
   ]
  },
  {
   "cell_type": "code",
   "execution_count": 5,
   "metadata": {
    "scrolled": true
   },
   "outputs": [
    {
     "name": "stdout",
     "output_type": "stream",
     "text": [
      "<class 'pandas.core.frame.DataFrame'>\n",
      "RangeIndex: 258 entries, 0 to 257\n",
      "Data columns (total 8 columns):\n",
      " #   Column          Non-Null Count  Dtype  \n",
      "---  ------          --------------  -----  \n",
      " 0   Province/State  119 non-null    object \n",
      " 1   Country/Region  258 non-null    object \n",
      " 2   Last Update     258 non-null    object \n",
      " 3   Confirmed       258 non-null    int64  \n",
      " 4   Deaths          258 non-null    int64  \n",
      " 5   Recovered       258 non-null    int64  \n",
      " 6   Latitude        258 non-null    float64\n",
      " 7   Longitude       258 non-null    float64\n",
      "dtypes: float64(2), int64(3), object(3)\n",
      "memory usage: 16.2+ KB\n"
     ]
    }
   ],
   "source": [
    "df.info()"
   ]
  },
  {
   "cell_type": "markdown",
   "metadata": {},
   "source": [
    "# Wrangle"
   ]
  },
  {
   "cell_type": "code",
   "execution_count": 9,
   "metadata": {
    "scrolled": false
   },
   "outputs": [
    {
     "data": {
      "text/html": [
       "<div>\n",
       "<style scoped>\n",
       "    .dataframe tbody tr th:only-of-type {\n",
       "        vertical-align: middle;\n",
       "    }\n",
       "\n",
       "    .dataframe tbody tr th {\n",
       "        vertical-align: top;\n",
       "    }\n",
       "\n",
       "    .dataframe thead th {\n",
       "        text-align: right;\n",
       "    }\n",
       "</style>\n",
       "<table border=\"1\" class=\"dataframe\">\n",
       "  <thead>\n",
       "    <tr style=\"text-align: right;\">\n",
       "      <th></th>\n",
       "      <th>Province/State</th>\n",
       "      <th>State</th>\n",
       "      <th>Country/Region</th>\n",
       "      <th>Latitude</th>\n",
       "      <th>Longitude</th>\n",
       "      <th>Confirmed</th>\n",
       "      <th>Deaths</th>\n",
       "      <th>Recovered</th>\n",
       "      <th>Last Update</th>\n",
       "    </tr>\n",
       "  </thead>\n",
       "  <tbody>\n",
       "    <tr>\n",
       "      <th>23</th>\n",
       "      <td>New York</td>\n",
       "      <td>NY</td>\n",
       "      <td>US</td>\n",
       "      <td>42.1657</td>\n",
       "      <td>-74.9481</td>\n",
       "      <td>732</td>\n",
       "      <td>3</td>\n",
       "      <td>0</td>\n",
       "      <td>2020-03-15 18:20:19</td>\n",
       "    </tr>\n",
       "    <tr>\n",
       "      <th>25</th>\n",
       "      <td>Washington</td>\n",
       "      <td>WA</td>\n",
       "      <td>US</td>\n",
       "      <td>47.4009</td>\n",
       "      <td>-121.4905</td>\n",
       "      <td>643</td>\n",
       "      <td>40</td>\n",
       "      <td>1</td>\n",
       "      <td>2020-03-15 02:13:21</td>\n",
       "    </tr>\n",
       "    <tr>\n",
       "      <th>32</th>\n",
       "      <td>California</td>\n",
       "      <td>CA</td>\n",
       "      <td>US</td>\n",
       "      <td>36.1162</td>\n",
       "      <td>-119.6816</td>\n",
       "      <td>426</td>\n",
       "      <td>6</td>\n",
       "      <td>6</td>\n",
       "      <td>2020-03-15 18:33:03</td>\n",
       "    </tr>\n",
       "    <tr>\n",
       "      <th>54</th>\n",
       "      <td>Massachusetts</td>\n",
       "      <td>MA</td>\n",
       "      <td>US</td>\n",
       "      <td>42.2302</td>\n",
       "      <td>-71.5301</td>\n",
       "      <td>164</td>\n",
       "      <td>0</td>\n",
       "      <td>1</td>\n",
       "      <td>2020-03-14 22:13:19</td>\n",
       "    </tr>\n",
       "    <tr>\n",
       "      <th>65</th>\n",
       "      <td>Florida</td>\n",
       "      <td>FL</td>\n",
       "      <td>US</td>\n",
       "      <td>27.7663</td>\n",
       "      <td>-81.6868</td>\n",
       "      <td>115</td>\n",
       "      <td>4</td>\n",
       "      <td>0</td>\n",
       "      <td>2020-03-15 18:20:19</td>\n",
       "    </tr>\n",
       "  </tbody>\n",
       "</table>\n",
       "</div>"
      ],
      "text/plain": [
       "   Province/State State Country/Region  Latitude  Longitude  Confirmed  \\\n",
       "23  New York       NY    US             42.1657  -74.9481    732         \n",
       "25  Washington     WA    US             47.4009  -121.4905   643         \n",
       "32  California     CA    US             36.1162  -119.6816   426         \n",
       "54  Massachusetts  MA    US             42.2302  -71.5301    164         \n",
       "65  Florida        FL    US             27.7663  -81.6868    115         \n",
       "\n",
       "    Deaths  Recovered         Last Update  \n",
       "23  3       0         2020-03-15 18:20:19  \n",
       "25  40      1         2020-03-15 02:13:21  \n",
       "32  6       6         2020-03-15 18:33:03  \n",
       "54  0       1         2020-03-14 22:13:19  \n",
       "65  4       0         2020-03-15 18:20:19  "
      ]
     },
     "execution_count": 9,
     "metadata": {},
     "output_type": "execute_result"
    }
   ],
   "source": [
    "us_state_abbrev = {\n",
    "    'Alabama': 'AL',\n",
    "    'Alaska': 'AK',\n",
    "    'Arizona': 'AZ',\n",
    "    'Arkansas': 'AR',\n",
    "    'California': 'CA',\n",
    "    'Colorado': 'CO',\n",
    "    'Connecticut': 'CT',\n",
    "    'Delaware': 'DE',\n",
    "    'District of Columbia': 'DC',\n",
    "    'Florida': 'FL',\n",
    "    'Georgia': 'GA',\n",
    "    'Guam': 'GU',\n",
    "    'Hawaii': 'HI',\n",
    "    'Idaho': 'ID',\n",
    "    'Illinois': 'IL',\n",
    "    'Indiana': 'IN',\n",
    "    'Iowa': 'IA',\n",
    "    'Kansas': 'KS',\n",
    "    'Kentucky': 'KY',\n",
    "    'Louisiana': 'LA',\n",
    "    'Maine': 'ME',\n",
    "    'Maryland': 'MD',\n",
    "    'Massachusetts': 'MA',\n",
    "    'Michigan': 'MI',\n",
    "    'Minnesota': 'MN',\n",
    "    'Mississippi': 'MS',\n",
    "    'Missouri': 'MO',\n",
    "    'Montana': 'MT',\n",
    "    'Nebraska': 'NE',\n",
    "    'Nevada': 'NV',\n",
    "    'New Hampshire': 'NH',\n",
    "    'New Jersey': 'NJ',\n",
    "    'New Mexico': 'NM',\n",
    "    'New York': 'NY',\n",
    "    'North Carolina': 'NC',\n",
    "    'North Dakota': 'ND',\n",
    "    'Northern Mariana Islands':'MP',\n",
    "    'Ohio': 'OH',\n",
    "    'Oklahoma': 'OK',\n",
    "    'Oregon': 'OR',\n",
    "    'Pennsylvania': 'PA',\n",
    "    'Puerto Rico': 'PR',\n",
    "    'Rhode Island': 'RI',\n",
    "    'South Carolina': 'SC',\n",
    "    'South Dakota': 'SD',\n",
    "    'Tennessee': 'TN',\n",
    "    'Texas': 'TX',\n",
    "    'Utah': 'UT',\n",
    "    'Vermont': 'VT',\n",
    "    'Virgin Islands, U.S.': 'VI',\n",
    "    'Virginia': 'VA',\n",
    "    'Washington': 'WA',\n",
    "    'West Virginia': 'WV',\n",
    "    'Wisconsin': 'WI',\n",
    "    'Wyoming': 'WY',\n",
    "}\n",
    "def get_states(txt):\n",
    "    txt = txt.strip()\n",
    "    return us_state_abbrev[txt]\n",
    "\n",
    "def wrangle(df):\n",
    "    \n",
    "    # Extract US\n",
    "    df = df[df['Country/Region'] == 'US']\n",
    "    # Remove Cruise Ships\n",
    "    df = df[~ (df[\"Province/State\"].str.endswith(\"Princess\"))]\n",
    "    # Create State col\n",
    "    df[\"State\"] = df[\"Province/State\"].apply(get_states)\n",
    "    # Re-order columns\n",
    "    df = df[['Province/State', 'State', 'Country/Region', 'Latitude', 'Longitude', 'Confirmed',\n",
    "       'Deaths', 'Recovered', 'Last Update']]\n",
    "    # Parse datetime\n",
    "    df[\"Last Update\"] = pd.to_datetime(df[\"Last Update\"], infer_datetime_format=True)   \n",
    "    return df\n",
    "\n",
    "df_usa = wrangle(df)\n",
    "df_usa.head()"
   ]
  },
  {
   "cell_type": "code",
   "execution_count": 10,
   "metadata": {},
   "outputs": [
    {
     "name": "stdout",
     "output_type": "stream",
     "text": [
      "<class 'pandas.core.frame.DataFrame'>\n",
      "Int64Index: 54 entries, 23 to 256\n",
      "Data columns (total 9 columns):\n",
      " #   Column          Non-Null Count  Dtype         \n",
      "---  ------          --------------  -----         \n",
      " 0   Province/State  54 non-null     object        \n",
      " 1   State           54 non-null     object        \n",
      " 2   Country/Region  54 non-null     object        \n",
      " 3   Latitude        54 non-null     float64       \n",
      " 4   Longitude       54 non-null     float64       \n",
      " 5   Confirmed       54 non-null     int64         \n",
      " 6   Deaths          54 non-null     int64         \n",
      " 7   Recovered       54 non-null     int64         \n",
      " 8   Last Update     54 non-null     datetime64[ns]\n",
      "dtypes: datetime64[ns](1), float64(2), int64(3), object(3)\n",
      "memory usage: 4.2+ KB\n"
     ]
    }
   ],
   "source": [
    "df_usa.info()"
   ]
  },
  {
   "cell_type": "markdown",
   "metadata": {},
   "source": [
    "### Find NAs"
   ]
  },
  {
   "cell_type": "code",
   "execution_count": 11,
   "metadata": {},
   "outputs": [
    {
     "data": {
      "text/plain": [
       "Province/State    0\n",
       "State             0\n",
       "Country/Region    0\n",
       "Latitude          0\n",
       "Longitude         0\n",
       "Confirmed         0\n",
       "Deaths            0\n",
       "Recovered         0\n",
       "Last Update       0\n",
       "dtype: int64"
      ]
     },
     "execution_count": 11,
     "metadata": {},
     "output_type": "execute_result"
    }
   ],
   "source": [
    "df_usa.isna().sum()"
   ]
  },
  {
   "cell_type": "markdown",
   "metadata": {},
   "source": [
    "## Load to Database"
   ]
  },
  {
   "cell_type": "markdown",
   "metadata": {},
   "source": [
    "### Convert `df` to `json`"
   ]
  },
  {
   "cell_type": "code",
   "execution_count": 12,
   "metadata": {},
   "outputs": [],
   "source": [
    "DATA_DIR = \"../csse_covid_19_data\"\n",
    "full_path = os.path.join(DATA_DIR, 'state_data.json')\n",
    "df_usa.to_json(full_path, orient='records')"
   ]
  },
  {
   "cell_type": "markdown",
   "metadata": {},
   "source": [
    "### Dump `json` to MongoDB"
   ]
  },
  {
   "cell_type": "code",
   "execution_count": 16,
   "metadata": {},
   "outputs": [
    {
     "name": "stdout",
     "output_type": "stream",
     "text": [
      "-------- MongoDB Atlas --------\n",
      "Version: 4.2.3\n",
      "Databases: \n",
      "['covid19-db', 'admin', 'local']\n",
      "Collections in database covid:\n",
      "[]\n",
      "-------- MongoDB Data Dump Result --------\n",
      "file : ../csse_covid_19_data/state_data.json\n",
      "Total records inserted: 54\n"
     ]
    },
    {
     "data": {
      "text/plain": [
       "<pymongo.results.InsertManyResult at 0x7ff358630af0>"
      ]
     },
     "execution_count": 16,
     "metadata": {},
     "output_type": "execute_result"
    }
   ],
   "source": [
    "DB_NAME = 'covid'\n",
    "COLLECTION_NAME = 'state'\n",
    "JSON_FILE_NAME = 'state_data.json'\n",
    "easy_mongo = CovidMongo(DB_NAME, COLLECTION_NAME, verbose=True)\n",
    "easy_mongo.dump_json_data_to_collection(os.path.join(DATA_DIR, JSON_FILE_NAME), verbose=True)"
   ]
  },
  {
   "cell_type": "code",
   "execution_count": null,
   "metadata": {},
   "outputs": [],
   "source": []
  }
 ],
 "metadata": {
  "file_extension": ".py",
  "kernelspec": {
   "display_name": "Python 3",
   "language": "python",
   "name": "python3"
  },
  "language_info": {
   "codemirror_mode": {
    "name": "ipython",
    "version": 3
   },
   "file_extension": ".py",
   "mimetype": "text/x-python",
   "name": "python",
   "nbconvert_exporter": "python",
   "pygments_lexer": "ipython3",
   "version": "3.7.6"
  },
  "mimetype": "text/x-python",
  "name": "python",
  "npconvert_exporter": "python",
  "pygments_lexer": "ipython3",
  "version": 3
 },
 "nbformat": 4,
 "nbformat_minor": 2
}
